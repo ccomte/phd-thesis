{
 "cells": [
  {
   "cell_type": "markdown",
   "metadata": {},
   "source": [
    "# Chapter 9. Extensions\n",
    "\n",
    "Compute and plot the numerical results of Section 9.2. The commented code is in charge of loading simulation results that might be added later."
   ]
  },
  {
   "cell_type": "markdown",
   "metadata": {},
   "source": [
    "## Package imports and global variable definitions"
   ]
  },
  {
   "cell_type": "code",
   "execution_count": 1,
   "metadata": {
    "ExecuteTime": {
     "end_time": "2019-08-23T07:58:33.884785Z",
     "start_time": "2019-08-23T07:58:33.369097Z"
    }
   },
   "outputs": [
    {
     "name": "stdout",
     "output_type": "stream",
     "text": [
      "Populating the interactive namespace from numpy and matplotlib\n"
     ]
    }
   ],
   "source": [
    "%pylab inline"
   ]
  },
  {
   "cell_type": "code",
   "execution_count": 2,
   "metadata": {
    "ExecuteTime": {
     "end_time": "2019-08-23T07:58:33.907148Z",
     "start_time": "2019-08-23T07:58:33.896688Z"
    },
    "hide_input": false
   },
   "outputs": [],
   "source": [
    "# uncomment this line if you prefer dynamic matplotlib plots\n",
    "# %matplotlib notebook\n",
    "\n",
    "# change the default figure size\n",
    "# pylab.rcParams['figure.figsize'] = (10.0, 6.0)\n",
    "pylab.rcParams['legend.fontsize'] = 12"
   ]
  },
  {
   "cell_type": "code",
   "execution_count": 3,
   "metadata": {
    "ExecuteTime": {
     "end_time": "2019-08-23T07:58:34.268136Z",
     "start_time": "2019-08-23T07:58:33.917819Z"
    }
   },
   "outputs": [],
   "source": [
    "# manipulate dataframes\n",
    "import pandas as pd"
   ]
  },
  {
   "cell_type": "code",
   "execution_count": 4,
   "metadata": {
    "ExecuteTime": {
     "end_time": "2019-08-23T07:58:34.303165Z",
     "start_time": "2019-08-23T07:58:34.269849Z"
    }
   },
   "outputs": [],
   "source": [
    "# useful in the function dynamic\n",
    "from scipy import special"
   ]
  },
  {
   "cell_type": "code",
   "execution_count": 5,
   "metadata": {
    "ExecuteTime": {
     "end_time": "2019-08-23T07:58:34.344063Z",
     "start_time": "2019-08-23T07:58:34.305709Z"
    }
   },
   "outputs": [],
   "source": [
    "# global variables\n",
    "ρρ = linspace(4., 0, 50, endpoint = False)\n",
    "N = 10\n",
    "μ = 1."
   ]
  },
  {
   "cell_type": "markdown",
   "metadata": {},
   "source": [
    "## Function definitions"
   ]
  },
  {
   "cell_type": "markdown",
   "metadata": {},
   "source": [
    "All numerical results are for two dispatchers only."
   ]
  },
  {
   "cell_type": "markdown",
   "metadata": {},
   "source": [
    "### Single dispatcher"
   ]
  },
  {
   "cell_type": "code",
   "execution_count": 6,
   "metadata": {
    "ExecuteTime": {
     "end_time": "2019-08-23T07:58:34.404991Z",
     "start_time": "2019-08-23T07:58:34.349472Z"
    }
   },
   "outputs": [],
   "source": [
    "def single_dispatcher(l, μ, ν):\n",
    "    # parameters\n",
    "    I = len(l)\n",
    "    barℓ = zeros(I, dtype=int)\n",
    "    barℓ[1:] = cumsum(ℓ[:-1])\n",
    "    \n",
    "    # initialization: π_0\n",
    "    π = ones(1, dtype=float64)\n",
    "    \n",
    "    for i in range(I):\n",
    "        # recursion:  derive π_{i+1} from π_i\n",
    "        \n",
    "        # compute p_{i+1}\n",
    "        p = ones(ℓ[i] + 1, dtype=float64)\n",
    "        p[1:] = cumprod(μ[i] / (ν * arange(1, ℓ[i]+1)), dtype=float64)\n",
    "        \n",
    "        # make the outer product of π_i with p_{i+1}\n",
    "        π = outer(π, p[::-1])\n",
    "        \n",
    "        # multiply each coefficient by t! / s!\n",
    "        for s in range(barℓ[i] + 1):\n",
    "            quotient = ones(ℓ[i] + 1, dtype=float64)\n",
    "            quotient[1:] = cumprod(s + arange(1, ℓ[i] + 1), dtype=float64)\n",
    "            π[s] *= quotient[::-1]\n",
    "        \n",
    "        # sum over the (anti)diagonals\n",
    "        π = [trace(π, n) for n in range(ℓ[i], -barℓ[i] - 1, -1)]\n",
    "    \n",
    "    return 1. / sum(π)"
   ]
  },
  {
   "cell_type": "markdown",
   "metadata": {},
   "source": [
    "### Multiple dispatchers with a static routing"
   ]
  },
  {
   "cell_type": "code",
   "execution_count": 7,
   "metadata": {
    "ExecuteTime": {
     "end_time": "2019-08-23T07:58:34.462066Z",
     "start_time": "2019-08-23T07:58:34.410341Z"
    }
   },
   "outputs": [],
   "source": [
    "def multi_dispatcher_static(l, α, β):\n",
    "    maxl = max(l)\n",
    "    cuml = cumsum(l)\n",
    "    \n",
    "    αs = ones(maxl+1, dtype=float64)\n",
    "    αs[1:] = cumprod(α / arange(1, maxl+1))\n",
    "    \n",
    "    βt = ones(maxl+1, dtype=float64)\n",
    "    βt[1:] = cumprod(β / arange(1, maxl+1))\n",
    "    \n",
    "    # i = 0\n",
    "    oldG = outer(α**arange(l[0]+1), β**arange(l[0]+1)) * (tri(l[0]+1)[::-1])\n",
    "    \n",
    "    # i > 0\n",
    "    for i in range(1, len(l)):\n",
    "        G = zeros((cuml[i]+1, cuml[i]+1), dtype=float64)\n",
    "        \n",
    "        for ps in range(cuml[i-1]+1):\n",
    "            for pt in range(cuml[i-1]-ps+1):\n",
    "                prods = float64(1.)\n",
    "                for s in range(ps, ps+l[i]+1):\n",
    "                    prodt = float64(1.)\n",
    "                    for t in range(pt, pt+l[i]-(s-ps)+1):\n",
    "                        G[s,t] += oldG[ps, pt] * αs[s-ps] * βt[t-pt] * prods * prodt\n",
    "                        prodt *= (t+1)\n",
    "                    prods *= (s+1)\n",
    "        \n",
    "        oldG = copy(G)\n",
    "    \n",
    "    return sum(sum(G))"
   ]
  },
  {
   "cell_type": "markdown",
   "metadata": {},
   "source": [
    "### Multple dispatchers with a dynamic routing"
   ]
  },
  {
   "cell_type": "code",
   "execution_count": 8,
   "metadata": {
    "ExecuteTime": {
     "end_time": "2019-08-23T07:58:34.532022Z",
     "start_time": "2019-08-23T07:58:34.465760Z"
    }
   },
   "outputs": [],
   "source": [
    "def dynamic(N, l, α, β):\n",
    "    q = l // 2\n",
    "    \n",
    "    αs = ones(q+1, dtype=float64)\n",
    "    αs[1:] = cumprod(α / arange(1, q+1))\n",
    "    \n",
    "    βt = ones(q+1, dtype=float64)\n",
    "    βt[1:] = cumprod(β / arange(1, q+1))\n",
    "    \n",
    "    coeff = ones((q+1,q+1))\n",
    "    for y in range(q+1):\n",
    "        for z in range(q+1):\n",
    "            coeff[y,z] = special.binom(l-y-z, q-y)\n",
    "    \n",
    "    # i = 0\n",
    "    oldG = outer(α**arange(l+1), β**arange(l+1)) * (tri(l+1)[::-1])\n",
    "    oldG = oldG[:q+1,:q+1] * coeff\n",
    "    \n",
    "    # i > 0\n",
    "    for i in range(1, N):\n",
    "        G = zeros((q*(i+1)+1, q*(i+1)+1), dtype=float64)\n",
    "        \n",
    "        for ps in range(q*i+1):\n",
    "            for pt in range(min(q*i, l*i-ps) + 1):\n",
    "                prods = float64(1.)\n",
    "                for s in range(ps, ps + q + 1):\n",
    "                    prodt = float64(1.)\n",
    "                    for t in range(pt, pt + min(q,l-(s-ps)) + 1):\n",
    "                        G[s,t] += oldG[ps, pt] * αs[s-ps] * βt[t-pt] * prods * prodt * coeff[s-ps,t-pt]\n",
    "                        prodt *= (t+1)\n",
    "                    prods *= (s+1)\n",
    "        \n",
    "        oldG = copy(G)\n",
    "    \n",
    "    return sum(sum(G))"
   ]
  },
  {
   "cell_type": "markdown",
   "metadata": {},
   "source": [
    "## Numerical results"
   ]
  },
  {
   "cell_type": "markdown",
   "metadata": {},
   "source": [
    "### Balanced arrivals"
   ]
  },
  {
   "cell_type": "code",
   "execution_count": 9,
   "metadata": {
    "ExecuteTime": {
     "end_time": "2019-08-23T07:58:34.604775Z",
     "start_time": "2019-08-23T07:58:34.535075Z"
    }
   },
   "outputs": [],
   "source": [
    "# parameters\n",
    "ll = [2,4,6]\n",
    "α1 = .5 # proportion of arrivals at dispatcher 1\n",
    "p1 = .5 # routing probabilities of tokens to dispatcher 1"
   ]
  },
  {
   "cell_type": "code",
   "execution_count": 10,
   "metadata": {
    "ExecuteTime": {
     "end_time": "2019-08-23T07:58:56.293801Z",
     "start_time": "2019-08-23T07:58:34.608213Z"
    }
   },
   "outputs": [],
   "source": [
    "static_result = []\n",
    "for l in ll:\n",
    "    static_result.append([\n",
    "        (\n",
    "            (1-α1) / single_dispatcher(l * ones(N, dtype=int), p1 * μ * ones(N), α1 * N * μ * ρ)\n",
    "            + α1 / single_dispatcher(l * ones(N, dtype=int), (1-p1) * μ * ones(N), (1-α1) * N * μ * ρ)\n",
    "        )\n",
    "        / multi_dispatcher_static(l * ones(N, dtype=int), p1 / (α1*N*ρ), (1-p1) / ((1-α1)*N*ρ)) for ρ in ρρ\n",
    "    ])"
   ]
  },
  {
   "cell_type": "code",
   "execution_count": 11,
   "metadata": {
    "ExecuteTime": {
     "end_time": "2019-08-23T07:59:18.625619Z",
     "start_time": "2019-08-23T07:58:56.295598Z"
    }
   },
   "outputs": [],
   "source": [
    "dynamic_result = []\n",
    "for l in ll:\n",
    "    dynamic_result.append([\n",
    "        (\n",
    "            (1-α1) * dynamic(N, l, 1. / (α1*N*ρ), 0.)\n",
    "            + α1 * dynamic(N, l, 0., 1. / ((1-α1)*N*ρ))\n",
    "        )\n",
    "        / dynamic(N, l, 1. / (α1*N*ρ), 1. / ((1-α1)*N*ρ))\n",
    "        for ρ in ρρ\n",
    "    ])"
   ]
  },
  {
   "cell_type": "code",
   "execution_count": 12,
   "metadata": {
    "ExecuteTime": {
     "end_time": "2019-08-23T07:59:18.897237Z",
     "start_time": "2019-08-23T07:59:18.627229Z"
    }
   },
   "outputs": [
    {
     "data": {
      "image/png": "[encoded data removed]",
      "text/plain": [
       "<Figure size 432x288 with 1 Axes>"
      ]
     },
     "metadata": {
      "needs_background": "light"
     },
     "output_type": "display_data"
    }
   ],
   "source": [
    "# plot\n",
    "for i,l in enumerate(ll):\n",
    "    plot(ρρ, static_result[i], label = \"JIQ - ℓ = \" + str(l))\n",
    "\n",
    "for i,l in enumerate(ll):\n",
    "    plot(ρρ, dynamic_result[i], '--', color = 'C'+str(i), label = \"BAF - ℓ = \" + str(l))\n",
    "\n",
    "#for i,l in enumerate(ll):\n",
    "#    ρρρ, exp_blocking \\\n",
    "#    = loadtxt('data/dispatchers' + str(l) + '-balanced-blocking', delimiter='\\t', unpack=True)\n",
    "#    plot(ρρρ, exp_blocking, color = 'C' + str(i), linestyle=\"None\", marker=\"x\", label=\"JIQ - ℓ = \" + str(l))\n",
    "\n",
    "#for i,l in enumerate(ll):\n",
    "#    ρρρ, exp_blocking \\\n",
    "#    = loadtxt('data/baf' + str(l) + '-balanced-blocking', delimiter='\\t', unpack=True)\n",
    "#    plot(ρρρ, exp_blocking, color = 'C' + str(i), linestyle=\"None\", marker=\"+\", label=\"BAF - ℓ = \" + str(l))\n",
    "\n",
    "xlim(0,4); ylim(0,1)\n",
    "legend(loc=4); title(\"Two dispatchers\")\n",
    "xlabel(\"Load ρ\"); ylabel(\"Probability\")\n",
    "show()"
   ]
  },
  {
   "cell_type": "markdown",
   "metadata": {},
   "source": [
    "### Imbalanced arrivals"
   ]
  },
  {
   "cell_type": "code",
   "execution_count": 13,
   "metadata": {
    "ExecuteTime": {
     "end_time": "2019-08-23T07:59:18.903743Z",
     "start_time": "2019-08-23T07:59:18.899823Z"
    }
   },
   "outputs": [],
   "source": [
    "# parameters\n",
    "ll = [2,4,6]\n",
    "α1 = .8 # proportion of arrivals at dispatcher 1"
   ]
  },
  {
   "cell_type": "code",
   "execution_count": 14,
   "metadata": {
    "ExecuteTime": {
     "end_time": "2019-08-23T07:59:42.743273Z",
     "start_time": "2019-08-23T07:59:18.906493Z"
    }
   },
   "outputs": [],
   "source": [
    "p1 = .5 # routing probabilities of tokens to dispatcher 1\n",
    "\n",
    "uniform_static_result = []\n",
    "for l in ll:\n",
    "    uniform_static_result.append([\n",
    "        (\n",
    "            (1-α1) / single_dispatcher(l * ones(N, dtype=int), p1 * μ * ones(N), α1 * N * μ * ρ)\n",
    "            + α1 / single_dispatcher(l * ones(N, dtype=int), (1-p1) * μ * ones(N), (1-α1) * N * μ * ρ)\n",
    "        )\n",
    "        / multi_dispatcher_static(l * ones(N, dtype=int), p1 / (α1*N*ρ), (1-p1) / ((1-α1)*N*ρ)) for ρ in ρρ\n",
    "    ])"
   ]
  },
  {
   "cell_type": "code",
   "execution_count": 15,
   "metadata": {
    "ExecuteTime": {
     "end_time": "2019-08-23T08:00:05.641737Z",
     "start_time": "2019-08-23T07:59:42.752485Z"
    }
   },
   "outputs": [],
   "source": [
    "p1 = α1 # routing probabilities of tokens to dispatcher 1\n",
    "\n",
    "best_static_result = []\n",
    "for l in ll:\n",
    "    best_static_result.append([\n",
    "        (\n",
    "            (1-α1) / single_dispatcher(l * ones(N, dtype=int), p1 * μ * ones(N), α1 * N * μ * ρ)\n",
    "            + α1 / single_dispatcher(l * ones(N, dtype=int), (1-p1) * μ * ones(N), (1-α1) * N * μ * ρ)\n",
    "        )\n",
    "        / multi_dispatcher_static(l * ones(N, dtype=int), p1 / (α1*N*ρ), (1-p1) / ((1-α1)*N*ρ)) for ρ in ρρ\n",
    "    ])"
   ]
  },
  {
   "cell_type": "code",
   "execution_count": 16,
   "metadata": {
    "ExecuteTime": {
     "end_time": "2019-08-23T08:00:25.308546Z",
     "start_time": "2019-08-23T08:00:05.643170Z"
    }
   },
   "outputs": [],
   "source": [
    "dynamic_result = []\n",
    "for l in ll:\n",
    "    dynamic_result.append([\n",
    "        (\n",
    "            (1-α1) * dynamic(N, l, 1. / (α1*N*ρ), 0.)\n",
    "            + α1 * dynamic(N, l, 0., 1. / ((1-α1)*N*ρ))\n",
    "        )\n",
    "        / dynamic(N, l, 1. / (α1*N*ρ), 1. / ((1-α1)*N*ρ))\n",
    "        for ρ in ρρ\n",
    "    ])"
   ]
  },
  {
   "cell_type": "code",
   "execution_count": 17,
   "metadata": {
    "ExecuteTime": {
     "end_time": "2019-08-23T08:00:25.606235Z",
     "start_time": "2019-08-23T08:00:25.311903Z"
    }
   },
   "outputs": [
    {
     "data": {
      "image/png": "[encoded data removed]",
      "text/plain": [
       "<Figure size 432x288 with 1 Axes>"
      ]
     },
     "metadata": {
      "needs_background": "light"
     },
     "output_type": "display_data"
    }
   ],
   "source": [
    "# plot\n",
    "for i,l in enumerate(ll):\n",
    "    plot(ρρ, uniform_static_result[i], label = \"Uniform static - ℓ = \" + str(l))\n",
    "    \n",
    "for i,l in enumerate(ll):\n",
    "    plot(ρρ, best_static_result[i], label = \"Best static - ℓ = \" + str(l))\n",
    "\n",
    "for i,l in enumerate(ll):\n",
    "    plot(ρρ, dynamic_result[i], '--', label = \"Dynamic - ℓ = \" + str(l))\n",
    "\n",
    "#for i,l in enumerate(ll):\n",
    "#    ρρρ, exp_blocking \\\n",
    "#    = loadtxt('data/dispatchers' + str(l) + '-imbalanced-blocking', delimiter='\\t', unpack=True)\n",
    "#    plot(ρρρ, exp_blocking, color = 'C' + str(i), linestyle=\"None\", marker=\"x\", label=\"JIQ - ℓ = \" + str(l))\n",
    "\n",
    "#for i,l in enumerate(ll):\n",
    "#    ρρρ, exp_blocking \\\n",
    "#    = loadtxt('data/baf' + str(l) + '-imbalanced-blocking', delimiter='\\t', unpack=True)\n",
    "#    plot(ρρρ, exp_blocking, color = 'C' + str(i), linestyle=\"None\", marker=\"+\", label=\"BAF - ℓ = \" + str(l))\n",
    "\n",
    "xlim(0,4); ylim(0,1)\n",
    "legend(loc=6, bbox_to_anchor=(1.1, .5)); title(\"Two dispatchers\")\n",
    "xlabel(\"Load ρ\"); ylabel(\"Probability\")\n",
    "show()"
   ]
  },
  {
   "cell_type": "markdown",
   "metadata": {},
   "source": [
    "### Homogeneous"
   ]
  },
  {
   "cell_type": "code",
   "execution_count": 18,
   "metadata": {
    "ExecuteTime": {
     "end_time": "2019-08-23T08:00:25.613323Z",
     "start_time": "2019-08-23T08:00:25.608269Z"
    }
   },
   "outputs": [],
   "source": [
    "# parameters\n",
    "l = 6\n",
    "α1 = .5 # proportion of arrivals at dispatcher 1"
   ]
  },
  {
   "cell_type": "code",
   "execution_count": 19,
   "metadata": {
    "ExecuteTime": {
     "end_time": "2019-08-23T08:00:41.295140Z",
     "start_time": "2019-08-23T08:00:25.620894Z"
    }
   },
   "outputs": [],
   "source": [
    "p1 = .5 # routing probabilities of tokens to dispatcher 1\n",
    "\n",
    "best_static_result = [ (\n",
    "    (1-α1) / single_dispatcher(l * ones(N, dtype=int), p1 * μ * ones(N), α1 * N * μ * ρ)\n",
    "    + α1 / single_dispatcher(l * ones(N, dtype=int), (1-p1) * μ * ones(N), (1-α1) * N * μ * ρ)\n",
    ") / multi_dispatcher_static(l * ones(N, dtype=int), p1 / (α1*N*ρ), (1-p1) / ((1-α1)*N*ρ)) for ρ in ρρ ]"
   ]
  },
  {
   "cell_type": "code",
   "execution_count": 20,
   "metadata": {
    "ExecuteTime": {
     "end_time": "2019-08-23T08:00:55.872306Z",
     "start_time": "2019-08-23T08:00:41.296989Z"
    }
   },
   "outputs": [],
   "source": [
    "dynamic_result = [ (\n",
    "    (1-α1) * dynamic(N, l, 1. / (α1*N*ρ), 0.)\n",
    "    + α1 * dynamic(N, l, 0., 1. / ((1-α1)*N*ρ))\n",
    ") / dynamic(N, l, 1. / (α1*N*ρ), 1. / ((1-α1)*N*ρ)) for ρ in ρρ ]"
   ]
  },
  {
   "cell_type": "code",
   "execution_count": 21,
   "metadata": {
    "ExecuteTime": {
     "end_time": "2019-08-23T08:00:56.214711Z",
     "start_time": "2019-08-23T08:00:55.873779Z"
    }
   },
   "outputs": [
    {
     "data": {
      "image/png": "[encoded data removed]",
      "text/plain": [
       "<Figure size 432x288 with 1 Axes>"
      ]
     },
     "metadata": {
      "needs_background": "light"
     },
     "output_type": "display_data"
    }
   ],
   "source": [
    "# plot\n",
    "plot(ρρ, dynamic_result, color = 'C0', label = \"Dynamic\")\n",
    "plot(ρρ, ρρ * [1. - β for β in dynamic_result], color = 'C0')\n",
    "plot(ρρ, best_static_result, '--', color = 'C1', label = \"Best static = uniform static\")\n",
    "plot(ρρ, ρρ * [1. - β for β in best_static_result], color = 'C1')\n",
    "\n",
    "#ρρρ, exp_blocking \\\n",
    "#= loadtxt('data/dispatchers' + str(l) + '-homo-dynamic-blocking', delimiter='\\t', unpack=True)\n",
    "#plot(ρρρ, exp_blocking, color = 'C0', linestyle=\"None\", marker=\"+\", label=\"Dynamic\")\n",
    "\n",
    "#ρρρ, exp_blocking \\\n",
    "#= loadtxt('data/dispatchers' + str(l) + '-homo-static-blocking', delimiter='\\t', unpack=True)\n",
    "#plot(ρρρ, exp_blocking, color = 'C1', linestyle=\"None\", marker=\"x\", label=\"Best static\")\n",
    "\n",
    "xlim(0,2); ylim(0,1)\n",
    "legend(loc='best'); title(\"Two dispatchers\")\n",
    "xlabel(\"Load ρ\"); ylabel(\"Probability\")\n",
    "show()"
   ]
  },
  {
   "cell_type": "markdown",
   "metadata": {},
   "source": [
    "### Heterogeneous"
   ]
  },
  {
   "cell_type": "code",
   "execution_count": 22,
   "metadata": {
    "ExecuteTime": {
     "end_time": "2019-08-23T08:00:56.220460Z",
     "start_time": "2019-08-23T08:00:56.217025Z"
    }
   },
   "outputs": [],
   "source": [
    "# parameters\n",
    "l = 6\n",
    "α1 = .8 # proportion of arrivals at dispatcher 1"
   ]
  },
  {
   "cell_type": "code",
   "execution_count": 23,
   "metadata": {
    "ExecuteTime": {
     "end_time": "2019-08-23T08:01:11.967149Z",
     "start_time": "2019-08-23T08:00:56.224878Z"
    }
   },
   "outputs": [],
   "source": [
    "p1 = .5 # routing probabilities of tokens to dispatcher 1\n",
    "\n",
    "uniform_static_result = [ (\n",
    "    (1-α1) / single_dispatcher(l * ones(N, dtype=int), p1 * μ * ones(N), α1 * N * μ * ρ)\n",
    "    + α1 / single_dispatcher(l * ones(N, dtype=int), (1-p1) * μ * ones(N), (1-α1) * N * μ * ρ)\n",
    ") / multi_dispatcher_static(l * ones(N, dtype=int), p1 / (α1*N*ρ), (1-p1) / ((1-α1)*N*ρ)) for ρ in ρρ ]"
   ]
  },
  {
   "cell_type": "code",
   "execution_count": 24,
   "metadata": {
    "ExecuteTime": {
     "end_time": "2019-08-23T08:01:27.289207Z",
     "start_time": "2019-08-23T08:01:11.968604Z"
    }
   },
   "outputs": [],
   "source": [
    "p1 = .8 # routing probabilities of tokens to dispatcher 1\n",
    "\n",
    "best_static_result = [ (\n",
    "    (1 - α1) / single_dispatcher(l * ones(N, dtype=int), p1 * μ * ones(N), α1 * N * μ * ρ)\n",
    "    + α1 / single_dispatcher(l * ones(N, dtype=int), (1 - p1) * μ * ones(N), (1 - α1) * N * μ * ρ)\n",
    ") / multi_dispatcher_static(l * ones(N, dtype=int), p1 / (α1*N*ρ), (1 - p1) / ((1 - α1) * N * ρ)) for ρ in ρρ ]"
   ]
  },
  {
   "cell_type": "code",
   "execution_count": 25,
   "metadata": {
    "ExecuteTime": {
     "end_time": "2019-08-23T08:01:40.867759Z",
     "start_time": "2019-08-23T08:01:27.292233Z"
    }
   },
   "outputs": [],
   "source": [
    "dynamic_result = [ (\n",
    "    (1 - α1) * dynamic(N, l, 1. / (α1 * N * ρ), 0.)\n",
    "    + α1 * dynamic(N, l, 0., 1. / ((1 - α1) * N * ρ))\n",
    ") / dynamic(N, l, 1. / (α1 * N * ρ), 1. / ((1 - α1) * N * ρ)) for ρ in ρρ ]"
   ]
  },
  {
   "cell_type": "code",
   "execution_count": 26,
   "metadata": {
    "ExecuteTime": {
     "end_time": "2019-08-23T08:01:41.061739Z",
     "start_time": "2019-08-23T08:01:40.869446Z"
    }
   },
   "outputs": [
    {
     "data": {
      "image/png": "[encoded data removed]",
      "text/plain": [
       "<Figure size 432x288 with 1 Axes>"
      ]
     },
     "metadata": {
      "needs_background": "light"
     },
     "output_type": "display_data"
    }
   ],
   "source": [
    "# plot\n",
    "plot(ρρ, dynamic_result, color = 'C0', label = \"Dynamic\")\n",
    "plot(ρρ, ρρ * [1. - β for β in dynamic_result], color = 'C0')\n",
    "plot(ρρ, best_static_result, '--', color = 'C1', label = \"Best static\")\n",
    "plot(ρρ, ρρ * [1. - β for β in best_static_result], color = 'C1')\n",
    "plot(ρρ, uniform_static_result, '-.', color = 'C2', label = 'Uniform static')\n",
    "plot(ρρ, ρρ * [1. - β for β in uniform_static_result], color = 'C2')\n",
    "\n",
    "#ρρρ, exp_blocking \\\n",
    "#= loadtxt('data/dispatchers' + str(l) + '-hete-dynamic-blocking', delimiter='\\t', unpack=True)\n",
    "#plot(ρρρ, exp_blocking, color = 'C0', linestyle=\"None\", marker=\"x\", label=\"Dynamic\")\n",
    "\n",
    "#ρρρ, exp_blocking \\\n",
    "#= loadtxt('data/dispatchers' + str(l) + '-hete-best_static-blocking', delimiter='\\t', unpack=True)\n",
    "#plot(ρρρ, exp_blocking, color = 'C1', linestyle=\"None\", marker=\"+\", label=\"Best static\")\n",
    "\n",
    "#ρρρ, exp_blocking \\\n",
    "#= loadtxt('data/dispatchers' + str(l) + '-hete-uniform_static-blocking', delimiter='\\t', unpack=True)\n",
    "#plot(ρρρ, exp_blocking, color = 'C2', linestyle=\"None\", marker=\"x\", label=\"uniform_static static\")\n",
    "\n",
    "xlim(0,4); ylim(0,1)\n",
    "legend(loc=4); title(\"Two dispatchers\")\n",
    "xlabel(\"Load ρ\"); ylabel(\"Probability\")\n",
    "show()"
   ]
  },
  {
   "cell_type": "code",
   "execution_count": 27,
   "metadata": {
    "ExecuteTime": {
     "end_time": "2019-08-23T08:01:41.074868Z",
     "start_time": "2019-08-23T08:01:41.063987Z"
    }
   },
   "outputs": [],
   "source": [
    "# save\n",
    "df = pd.DataFrame({'rho': ρρ,\n",
    "                    'db': dynamic_result,\n",
    "                    'do': ρρ * [1. - β for β in dynamic_result],\n",
    "                    'ob': best_static_result,\n",
    "                    'oo': ρρ * [1. - β for β in best_static_result],\n",
    "                    'ub': uniform_static_result,\n",
    "                    'uo': ρρ * [1. - β for β in uniform_static_result]\n",
    "                    })\n",
    "\n",
    "fn = \"data/theo-jiq-comp.csv\"\n",
    "df.to_csv(fn, index = False)"
   ]
  }
 ],
 "metadata": {
  "kernelspec": {
   "display_name": "Python 3",
   "language": "python3",
   "name": "python3"
  },
  "language_info": {
   "codemirror_mode": {
    "name": "ipython",
    "version": 3
   },
   "file_extension": ".py",
   "mimetype": "text/x-python",
   "name": "python",
   "nbconvert_exporter": "python",
   "pygments_lexer": "ipython3",
   "version": "3.6.8"
  },
  "toc": {
   "base_numbering": 1,
   "nav_menu": {},
   "number_sections": true,
   "sideBar": true,
   "skip_h1_title": true,
   "title_cell": "Table of Contents",
   "title_sidebar": "Contents",
   "toc_cell": false,
   "toc_position": {},
   "toc_section_display": true,
   "toc_window_display": false
  }
 },
 "nbformat": 4,
 "nbformat_minor": 2
}
