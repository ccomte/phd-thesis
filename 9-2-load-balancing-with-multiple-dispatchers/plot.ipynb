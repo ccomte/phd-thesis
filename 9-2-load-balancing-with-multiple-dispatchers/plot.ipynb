{
 "cells": [
  {
   "cell_type": "markdown",
   "metadata": {},
   "source": [
    "# Chapter 9. Extensions\n",
    "\n",
    "Compute and plot the numerical results of Section 9.2. The commented code is in charge of loading simulation results that might be added later."
   ]
  },
  {
   "cell_type": "markdown",
   "metadata": {},
   "source": [
    "## Package imports and global variable definitions"
   ]
  },
  {
   "cell_type": "code",
   "execution_count": null,
   "metadata": {},
   "outputs": [],
   "source": [
    "%pylab inline\n",
    "import pandas as pd"
   ]
  },
  {
   "cell_type": "code",
   "execution_count": null,
   "metadata": {
    "hide_input": false
   },
   "outputs": [],
   "source": [
    "# uncomment this line if you prefer dynamic matplotlib plots\n",
    "# %matplotlib notebook\n",
    "\n",
    "# change the default figure size\n",
    "# pylab.rcParams['figure.figsize'] = (10.0, 6.0)\n",
    "pylab.rcParams['legend.fontsize'] = 12"
   ]
  },
  {
   "cell_type": "code",
   "execution_count": null,
   "metadata": {},
   "outputs": [],
   "source": [
    "# useful in the function multi_dispatcher_dynamic\n",
    "from scipy import special"
   ]
  },
  {
   "cell_type": "code",
   "execution_count": null,
   "metadata": {},
   "outputs": [],
   "source": [
    "# global variables\n",
    "ρρ = linspace(4., 0, 50, endpoint=False)\n",
    "I = 10\n",
    "μ = 1."
   ]
  },
  {
   "cell_type": "markdown",
   "metadata": {},
   "source": [
    "## Function definitions"
   ]
  },
  {
   "cell_type": "markdown",
   "metadata": {},
   "source": [
    "All numerical results are for two dispatchers only. Incoming jobs have no assignment constraints, so that they are only rejected if their dispatcher is empty of tokens. We also assume that all computers have the same unit capacity $\\mu = 1$."
   ]
  },
  {
   "cell_type": "markdown",
   "metadata": {},
   "source": [
    "### Single dispatcher"
   ]
  },
  {
   "cell_type": "markdown",
   "metadata": {},
   "source": [
    "Compute the normalization constant in a cluster with a single dispatcher."
   ]
  },
  {
   "cell_type": "code",
   "execution_count": null,
   "metadata": {
    "code_folding": []
   },
   "outputs": [],
   "source": [
    "def single_dispatcher_normalization(l, μ, ν):\n",
    "    # parameters\n",
    "    I = len(l)\n",
    "    cuml = zeros(I, dtype=int)\n",
    "    cuml[1:] = cumsum(l[:-1])\n",
    "    \n",
    "    # initialization: π_0\n",
    "    π = ones(1, dtype=float64)\n",
    "    \n",
    "    for i in range(I):\n",
    "        # recursion:  derive π_{i+1} from π_i\n",
    "        \n",
    "        # compute p_{i+1}\n",
    "        p = ones(l[i] + 1, dtype=float64)\n",
    "        p[1:] = cumprod(μ[i] / (ν * arange(1, l[i]+1)), dtype=float64)\n",
    "        \n",
    "        # make the outer product of π_i with p_{i+1}\n",
    "        π = outer(π, p[::-1])\n",
    "        \n",
    "        # multiply each coefficient by t! / s!\n",
    "        for s in range(cuml[i] + 1):\n",
    "            quotient = ones(l[i] + 1, dtype=float64)\n",
    "            quotient[1:] = cumprod(s + arange(1, l[i] + 1), dtype=float64)\n",
    "            π[s] *= quotient[::-1]\n",
    "        \n",
    "        # sum over the (anti)diagonals\n",
    "        π = [trace(π, n) for n in range(l[i], -cuml[i] - 1, -1)]\n",
    "    \n",
    "    return sum(π)"
   ]
  },
  {
   "cell_type": "markdown",
   "metadata": {},
   "source": [
    "### Multiple dispatchers with a static routing"
   ]
  },
  {
   "cell_type": "markdown",
   "metadata": {},
   "source": [
    "We first apply Equation (9.10) of the manuscript with $R = 2$ dispatchers. Since jobs have no compatibility constraints, the balance functions $\\Lambda_1$ and $\\Lambda_2$ defined in (9.11) have the form (1.8).\n",
    "We obtain that the normalizing constant is given by\n",
    "\\begin{align*}\n",
    "G\n",
    "&= \\sum_{y_1 + y_2 \\le \\ell}\n",
    "\\binom{y_{1,1} + \\ldots + y_{1,I}}{y_{1,1}, \\ldots, y_{1,I}}\n",
    "\\binom{y_{2,1} + \\ldots + y_{2,I}}{y_{2,1}, \\ldots, y_{2,I}}\n",
    "\\prod_{i \\in \\mathcal{I}}\n",
    "\\left( \\frac{p_1 \\mu}{\\nu_1} \\right)^{y_{1,i}} \\left( \\frac{p_2 \\mu}{\\nu_2} \\right)^{y_{2,i}}.\n",
    "\\end{align*}\n",
    "If we compute $G$ by summing over all values of $y_1 + y_2 \\le \\ell$, the complexity is $O(\\ell_1 \\cdots \\ell_I)$, which is too high with the values we consider (with $I = 10$ and $\\ell_1 = \\ldots = \\ell_I = 6$, we obtain $\\ell_1 \\cdots \\ell_I = 6^{10} \\approx 6.05 \\times10^7$).\n",
    "The method we now describe allows us to obtain the same result with a complexity $O(I^3 \\times \\max(\\ell_1,\\ldots,\\ell_I)^4)$."
   ]
  },
  {
   "cell_type": "markdown",
   "metadata": {},
   "source": [
    "We let $\\gamma_1 = \\frac{p_1 \\mu}{\\nu_1}$ and $\\gamma_2 = \\frac{p_2 \\mu}{\\nu_2}$,\n",
    "so that $G$ can be rewritten as\n",
    "\\begin{align*}\n",
    "G\n",
    "&= \\sum_{y_1 + y_2 \\le \\ell}\n",
    "\\binom{y_{1,1} + \\ldots + y_{1,I}}{y_{1,1}, \\ldots, y_{1,I}}\n",
    "\\binom{y_{2,1} + \\ldots + y_{2,I}}{y_{2,1}, \\ldots, y_{2,I}}\n",
    "{\\gamma_1}^{y_{1,1} + \\ldots + y_{1,I}}\n",
    "{\\gamma_2}^{y_{2,1} + \\ldots + y_{2,I}}.\n",
    "\\end{align*}"
   ]
  },
  {
   "cell_type": "markdown",
   "metadata": {},
   "source": [
    "We rewrite this as\n",
    "$$\n",
    "G\n",
    "= \\sum_{\\substack{m_1, m_2 \\in \\mathbb{N}: \\\\ m_1 + m_2 \\le \\ell_1 + \\ldots + \\ell_I}}\n",
    "G^I_{m_1, m_2},\n",
    "$$\n",
    "with\n",
    "$$\n",
    "G^I_{m_1, m_2}\n",
    "= \\sum_{\\substack{y_1 + y_2 \\le \\ell: \\\\\n",
    "y_{1,1} + \\ldots + y_{1,I} = m_1, \\\\\n",
    "y_{2,1} + \\ldots + y_{2,I} = m_2}}\n",
    "\\binom{m_1}{y_{1,1}, \\ldots, y_{1,I}}\n",
    "\\binom{m_2}{y_{2,1}, \\ldots, y_{2,I}}\n",
    "{\\gamma_1}^{m_1} {\\gamma_2}^{m_2}.\n",
    "$$"
   ]
  },
  {
   "cell_type": "markdown",
   "metadata": {},
   "source": [
    "We will compute $G^I_{m_1, m_2}$\n",
    "for each $m_1 = 0, \\ldots, \\ell_1 + \\ldots \\ell_i$\n",
    "and each $m_2 = 0, \\ldots, \\ell_1 + \\ldots + \\ell_i - m_1$\n",
    "by induction over $i = 0, \\ldots, I$.\n",
    "In order to simplify the formulas, we introduce the notations\n",
    "$y_{1,:i} = (y_{1,1}, \\ldots, y_{1,i})$\n",
    "and $y_{2,:i} = (y_{2,1}, \\ldots, y_{2,i})$.\n",
    "We have\n",
    "\\begin{align*}\n",
    "G^I_{m_1, m_2}\n",
    "&= \\sum_{\\substack{n_1, n_2 \\in \\mathbb{N}: \\\\\n",
    "n_1 \\le m_1, n_2 \\le m_2, \\\\\n",
    "n_1 + n_2 \\le \\ell_1 + \\ldots + \\ell_{I-1}, \\\\\n",
    "(m_1 - n_1) + (m_2 - n_2) \\le \\ell_I}}\n",
    "\\sum_{\\substack{y_{1,:I-1} + y_{2,:I-1} \\le \\ell_{:I-1} \\\\\n",
    "\t\ty_{1,1} + \\ldots + y_{1,I-1} = n_1 \\\\\n",
    "\t\ty_{2,1} + \\ldots + y_{2,I-1} = n_2}}\n",
    "\\frac{m_1!}{y_{1,1}! \\cdots y_{1,I-1}! (m_1-n_1)!}\n",
    "\\frac{m_2!}{y_{2,1}! \\cdots y_{2,I-1}! (m_2-n_2)!}\n",
    "{\\gamma_1}^s {\\gamma_2}^{m_2}, \\\\\n",
    "&= \\sum_{\\substack{n_1, n_2 \\in \\mathbb{N}: \\\\\n",
    "n_1 \\le m_1, n_2 \\le m_2, \\\\\n",
    "n_1 + n_2 \\le \\ell_1 + \\ldots + \\ell_{I-1}, \\\\\n",
    "(m_1 - n_1) + (m_2 - n_2) \\le \\ell_I}}\n",
    "\\begin{aligned}[t]\n",
    "\t&\\frac{m_1!}{n_1!} \\frac{m_2!}{n_2!}\n",
    "\t\\frac{{\\gamma_1}^{m_1-n_1}}{(m_1-n_1)!}\n",
    "\t\\frac{{\\gamma_2}^{m_2-n_2}}{(m_2-n_2)!} \\\\\n",
    "\t&\\times \\sum_{\\substack{\n",
    "\t\t\ty_{1,:I-1} + y_{2,:I-1} \\le \\ell_{:I-1}: \\\\\n",
    "\t\t\ty_{1,1} + \\ldots + y_{1,I-1} = n_1, \\\\\n",
    "\t\t\ty_{2,1} + \\ldots + y_{2,I-1} = n_2\n",
    "\t\t}}\n",
    "\t\\frac{n_1!}{y_{1,1}! \\cdots y_{1,I-1}!}\n",
    "\t\\frac{n_2!}{y_{2,1}! \\cdots y_{2,I-1}!}\n",
    "\t{\\gamma_1}^{n_1} {\\gamma_2}^{n_2}.\n",
    "\\end{aligned}\n",
    "\\end{align*}\n",
    "We recognize the expression of $G^{I-1}_{n_1,n_2}$\n",
    "in the most inner sum, so that we obtain\n",
    "\\begin{align*}\n",
    "G^I_{m_1, m_2}\n",
    "&= \\sum_{\\substack{n_1, n_2 \\in \\mathbb{N}: \\\\\n",
    "n_1 \\le m_1, n_2 \\le m_2, \\\\\n",
    "n_1 + n_2 \\le \\ell_1 + \\ldots + \\ell_{I-1}, \\\\\n",
    "(m_1 - n_1) + (m_2 - n_2) \\le \\ell_I}}\n",
    "\\frac{m_1!}{n_1!} \\frac{m_2!}{n_2!}\n",
    "\\frac{{\\gamma_1}^{m_1-n_1}}{(m_1-n_1)!} \\frac{{\\gamma_2}^{m_2-n_2}}{(m_2-n_2)!}\n",
    "G^{I-1}_{n_1,n_2}.\n",
    "\\end{align*}"
   ]
  },
  {
   "cell_type": "code",
   "execution_count": null,
   "metadata": {
    "code_folding": []
   },
   "outputs": [],
   "source": [
    "def multi_dispatcher_static_normalization(I, l, γ1, γ2):\n",
    "    maxl = max(l)\n",
    "    cuml = cumsum(l)\n",
    "    \n",
    "    # precompute some results\n",
    "    cumγ1 = ones(maxl + 1, dtype=float64)\n",
    "    cumγ1[1:] = cumprod(γ1 / arange(1, maxl + 1))\n",
    "    \n",
    "    cumγ2 = ones(maxl + 1, dtype=float64)\n",
    "    cumγ2[1:] = cumprod(γ2 / arange(1, maxl + 1))\n",
    "    \n",
    "    # i = 0\n",
    "    oldπ = (outer(γ1**arange(l[0] + 1), γ2**arange(l[0] + 1))\n",
    "            * (tri(l[0] + 1)[::-1]))\n",
    "    \n",
    "    # i = 1,...,I-1\n",
    "    for i in range(1, I):\n",
    "        π = zeros((cuml[i] + 1, cuml[i] + 1), dtype=float64)\n",
    "        \n",
    "        for n1 in range(cuml[i-1] + 1):\n",
    "            for n2 in range(cuml[i-1] - n1 + 1):\n",
    "                prod1 = float64(1.)\n",
    "                for m1 in range(n1, n1 + l[i] + 1):\n",
    "                    prod2 = float64(1.)\n",
    "                    for m2 in range(n2, n1 + n2 + l[i] - m1 + 1):\n",
    "                        π[m1, m2] += oldπ[n1, n2] * cumγ1[m1-n1] * cumγ2[m2-n2] * prod1 * prod2\n",
    "                        prod2 *= (m2 + 1)\n",
    "                    prod1 *= (m1 + 1)\n",
    "        \n",
    "        oldπ = copy(π)\n",
    "    \n",
    "    return sum(sum(π))"
   ]
  },
  {
   "cell_type": "code",
   "execution_count": null,
   "metadata": {},
   "outputs": [],
   "source": [
    "def multi_dispatcher_static_loss(I, l, μ, ρρ, α1, p1):\n",
    "    ll = l * ones(I, dtype=int)\n",
    "    return [(\n",
    "        (1 - α1) * single_dispatcher_normalization(ll, p1 * μ * ones(I), α1 * I * μ * ρ)\n",
    "        + α1 * single_dispatcher_normalization(ll, (1 - p1) * μ * ones(I), (1 - α1) * I * μ * ρ)\n",
    "    ) / multi_dispatcher_static_normalization(I, ll, (p1 * μ) / (α1 * I * ρ),\n",
    "                                              ((1 - p1) * μ) / ((1 - α1) * I * ρ))\n",
    "    for ρ in ρρ]"
   ]
  },
  {
   "cell_type": "markdown",
   "metadata": {},
   "source": [
    "### Multple dispatchers with a dynamic routing"
   ]
  },
  {
   "cell_type": "markdown",
   "metadata": {},
   "source": [
    "We let $q = (q_1,\\ldots,q_I)$.\n",
    "We have $\\mu_i = \\mu$ for each $i \\in \\mathcal{I}$.\n",
    "\\begin{align*}\n",
    "\tG\n",
    "\t&= \\sum_{y_1 \\le q} \\sum_{y_2 \\le q}\n",
    "\t\\begin{aligned}[t]\n",
    "\t\t&\\binom{y_{1,1} + \\ldots + y_{1,I}}{y_{1,1}, \\ldots, y_{1,I}}\n",
    "\t\t\\left( \\frac1{\\nu_1} \\right)^{y_{1,1} + \\ldots + y_{1,I}}\n",
    "\t\t\\binom{y_{2,1} + \\ldots + y_{2,I}}{y_{2,1}, \\ldots, y_{2,I}}\n",
    "\t\t\\left( \\frac1{\\nu_2} \\right)^{y_{2,1} + \\ldots + y_{2,I}} \\\\\n",
    "\t\t&\\times \\prod_{i \\in \\mathcal{I}}\n",
    "\t\t\\binom{\\ell_i - y_{1,i} - y_{2,i}}{q_i - y_{1,i}, q_i - y_{2,i}}\n",
    "\t\t\\mu^{y_{1,i} + y_{2,i}}.\n",
    "\t\\end{aligned}\n",
    "\\end{align*}\n",
    "We let $\\gamma_1 = \\frac\\mu{\\nu_1}$\n",
    "and $\\gamma_2 = \\frac\\mu{\\nu_2}$,\n",
    "so that $G$ can be rewritten as\n",
    "\\begin{align*}\n",
    "\tG\n",
    "\t&= \\sum_{y_1 \\le q} \\sum_{y_2 \\le q}\n",
    "\t\\begin{aligned}[t]\n",
    "\t\t&\\binom{y_{1,1} + \\ldots + y_{1,I}}{y_{1,1}, \\ldots, y_{1,I}}\n",
    "\t\t{\\gamma_1}^{y_{1,1} + \\ldots + y_{1,I}}\n",
    "\t\t\\binom{y_{2,1} + \\ldots + y_{2,I}}{y_{2,1}, \\ldots, y_{2,I}}\n",
    "\t\t{\\gamma_2}^{y_{2,1} + \\ldots + y_{2,I}} \\\\\n",
    "\t\t&\\times \\prod_{i \\in \\mathcal{I}}\n",
    "\t\t\\binom{\\ell_i - y_{1,i} - y_{2,i}}{q_i - y_{1,i}, q_i - y_{2,i}}.\n",
    "\t\\end{aligned}\n",
    "\\end{align*}\n",
    "We can rewrite this as\n",
    "\\begin{align*}\n",
    "\tG = \\sum_{\\substack{m_1, m_2 \\in \\mathbb{N}: \\\\\n",
    "\t\t\tm_1 \\le q_1 + \\ldots + q_I, \\\\\n",
    "\t\t\tm_2 \\le q_1 + \\ldots + q_I}}\n",
    "\t\tG^I_{m_1, m_2},\n",
    "\\end{align*}\n",
    "with\n",
    "\\begin{align*}\n",
    "\tG^I_{m_1,m_2}\n",
    "\t&= \\sum_{\\substack{y_1 \\le q: \\\\\n",
    "\t\t\ty_{1,1} + \\ldots + y_{1,I} = m_1}}\n",
    "\t\\sum_{\\substack{y_2 \\le q: \\\\\n",
    "\t\t\ty_{2,1} + \\ldots + y_{2,I} = m_2}}\n",
    "\t\\begin{aligned}[t]\n",
    "\t\t&\\binom{m_1}{y_{1,1}, \\ldots, y_{1,I}}\n",
    "\t\t{\\gamma_1}^{y_{1,1}, \\ldots, y_{1,I}}\n",
    "\t\t\\binom{m_2}{y_{2,1}, \\ldots, y_{2,I}}\n",
    "\t\t{\\gamma_2}^{y_{2,1}, \\ldots, y_{2,I}} \\\\\n",
    "\t\t&\\times \\prod_{i \\in \\mathcal{I}}\n",
    "\t\t\\binom{\\ell_i - y_{1,i} - y_{2,i}}{q_i - y_{1,i}, q_i - y_{2,i}},\n",
    "\t\\end{aligned} \\\\\n",
    "\t&= \\sum_{\\substack{n_1, n_2 \\in \\mathbb{N}: \\\\\n",
    "\t\t\tn_1 \\le m_1, n_2 \\le m_2, \\\\\n",
    "\t\t\tn_1 \\le q_1 + \\ldots + q_{I-1}, \\\\\n",
    "\t\t\tn_2 \\le q_1 + \\ldots + q_{I-1}, \\\\\n",
    "\t\t\tm_1 - n_1 \\le q_I, \\\\\n",
    "\t\t\tm_2 - n_2 \\le q_I}}\n",
    "    \\sum_{\\substack{y_{1,:I-1} \\le q_{:I-1}, \\\\ y_{1,1} + \\ldots + y_{1,I-1} = n_1}}\n",
    "\t\\sum_{\\substack{y_{2,:I-1} \\le q_{:I-1}, \\\\ y_{2,1} + \\ldots + y_{2,I-1} = n_2}}\n",
    "\t\\begin{aligned}[t]\n",
    "\t\t&\\frac{m_1!}{y_{1,1}! \\cdots y_{1,I-1}! (m_1 - n_1)!}\n",
    "\t\t\\frac{m_2!}{y_{2,1}! \\cdots y_{2,I-1}! (m_2 - n_2)!}\n",
    "\t\t{\\gamma_1}^{m_1} {\\gamma_2}^{m_2} \\\\\n",
    "\t\t&\\times \\prod_{i=1}^{I-1}\n",
    "\t\t\\binom{\\ell_i - y_{1,i} - y_{2,i}}{q_i - y_{1,i}, q_i - y_{2,i}}\n",
    "\t\t\\times\n",
    "\t\t\\binom{\\ell_I - (m_1-n_2) - (m_2-n_2)}\n",
    "\t\t{q_i - (m_1-n_2), q_i - (m_2-n_2)},\n",
    "\t\\end{aligned} \\\\\n",
    "\t&= \\sum_{\\substack{n_1, n_2 \\in \\mathbb{N}: \\\\\n",
    "\t\t\tn_1 \\le m_1, n_2 \\le m_2, \\\\\n",
    "\t\t\tn_1 \\le q_1 + \\ldots + q_{I-1}, \\\\\n",
    "\t\t\tn_2 \\le q_1 + \\ldots + q_{I-1}, \\\\\n",
    "\t\t\tm_1 - n_1 \\le q_I, \\\\\n",
    "\t\t\tm_2 - n_2 \\le q_I}}\n",
    "\t\\frac{m_1!}{n_1!} \\frac{m_2!}{n_2!}\n",
    "\t\\frac{{\\gamma_1}^{m_1-n_1}}{(m_1-n_1)!}\n",
    "\t\\frac{{\\gamma_2}^{m_2-n_2}}{(m_2-n_2)!}\n",
    "\t\\binom{\\ell_I - (m_1-n_1) - (m_2-n_2)}\n",
    "\t{q_i - (m_1-n_1), q_i - (m_2-n_2)}\n",
    "\tG^{I-1}_{n_1,n_2}.\n",
    "\\end{align*}"
   ]
  },
  {
   "cell_type": "code",
   "execution_count": null,
   "metadata": {
    "code_folding": []
   },
   "outputs": [],
   "source": [
    "def multi_dispatcher_dynamic_normalization(I, l, γ1, γ2):\n",
    "    q = l // 2\n",
    "    \n",
    "    # precompute some results\n",
    "    cumγ1 = ones(q + 1, dtype=float64)\n",
    "    cumγ1[1:] = cumprod(γ1 / arange(1, q + 1))\n",
    "    \n",
    "    cumγ2 = ones(q + 1, dtype=float64)\n",
    "    cumγ2[1:] = cumprod(γ2 / arange(1, q + 1))\n",
    "    \n",
    "    binomial = ones((q + 1, q + 1))\n",
    "    for m1 in range(q + 1):\n",
    "        for m2 in range(q + 1):\n",
    "            binomial[m1, m2] = special.binom(l - m1 - m2, q - m1)\n",
    "    \n",
    "    # i = 0\n",
    "    oldπ = outer(γ1**arange(l + 1), γ2**arange(l + 1)) * (tri(l + 1)[::-1])\n",
    "    oldπ = oldπ[:q + 1,:q + 1] * binomial\n",
    "    \n",
    "    # i = 1,...,I-1\n",
    "    for i in range(1, I):\n",
    "        π = zeros((q * (i + 1) + 1, q * (i + 1) + 1), dtype=float64)\n",
    "        \n",
    "        for n1 in range(q * i + 1):\n",
    "            for n2 in range(min(q * i, l * i - n1) + 1):\n",
    "                prod1 = float64(1.)\n",
    "                for m1 in range(n1, n1 + q + 1):\n",
    "                    prod2 = float64(1.)\n",
    "                    for m2 in range(n2, n2 + q + 1):\n",
    "                        π[m1, m2] += (oldπ[n1, n2] * cumγ1[m1 - n1] * cumγ2[m2 - n2]\n",
    "                                      * prod1 * prod2 * binomial[m1 - n1, m2 - n2])\n",
    "                        prod2 *= (m2 + 1)\n",
    "                    prod1 *= (m1 + 1)\n",
    "        \n",
    "        oldπ = copy(π)\n",
    "    \n",
    "    return sum(sum(π))"
   ]
  },
  {
   "cell_type": "code",
   "execution_count": null,
   "metadata": {},
   "outputs": [],
   "source": [
    "def multi_dispatcher_dynamic_loss(I, l, α1, μ, ρρ):\n",
    "    return [ (\n",
    "        (1 - α1) * multi_dispatcher_dynamic_normalization(I, l, μ / (α1 * I * ρ), 0.)\n",
    "        + α1 * multi_dispatcher_dynamic_normalization(I, l, 0., μ / ((1 - α1) * I * ρ))\n",
    "    ) / multi_dispatcher_dynamic_normalization(I, l, μ / (α1 * I * ρ), μ / ((1 - α1) * I * ρ))\n",
    "    for ρ in ρρ ]"
   ]
  },
  {
   "cell_type": "markdown",
   "metadata": {},
   "source": [
    "## Numerical results"
   ]
  },
  {
   "cell_type": "markdown",
   "metadata": {},
   "source": [
    "### Balanced arrivals"
   ]
  },
  {
   "cell_type": "code",
   "execution_count": null,
   "metadata": {},
   "outputs": [],
   "source": [
    "# parameters\n",
    "ll = [2, 4, 6]\n",
    "α1 = .5 # proportion of arrivals at dispatcher 1"
   ]
  },
  {
   "cell_type": "code",
   "execution_count": null,
   "metadata": {},
   "outputs": [],
   "source": [
    "static = [multi_dispatcher_static_loss(I, l, μ, ρρ, α1, p1=α1) for l in ll]\n",
    "dynamic = [multi_dispatcher_dynamic_loss(I, l, α1, μ, ρρ) for l in ll]"
   ]
  },
  {
   "cell_type": "code",
   "execution_count": null,
   "metadata": {},
   "outputs": [],
   "source": [
    "# plot\n",
    "for i,l in enumerate(ll):\n",
    "    plot(ρρ, dynamic[i], color = 'C'+str(i), label = \"Dynamic - ℓ = %d\" % l)\n",
    "    plot(ρρ, static[i], '--', label = \"Static - ℓ = %d\" % l)\n",
    "\n",
    "#for i,l in enumerate(ll):\n",
    "#    ρρρ, exp_blocking \\\n",
    "#    = loadtxt('data/dispatchers' + str(l) + '-balanced-blocking', delimiter='\\t', unpack=True)\n",
    "#    plot(ρρρ, exp_blocking, color = 'C' + str(i), linestyle=\"None\", marker=\"x\", label=\"Static - ℓ = \" + str(l))\n",
    "\n",
    "#for i,l in enumerate(ll):\n",
    "#    ρρρ, exp_blocking \\\n",
    "#    = loadtxt('data/baf' + str(l) + '-balanced-blocking', delimiter='\\t', unpack=True)\n",
    "#    plot(ρρρ, exp_blocking, color = 'C' + str(i), linestyle=\"None\", marker=\"+\", label=\"Dynamic - ℓ = \" + str(l))\n",
    "\n",
    "xlim(0,4); ylim(0,1)\n",
    "legend(loc=4); title(\"Two dispatchers\")\n",
    "xlabel(\"Load ρ\"); ylabel(\"Probability\")\n",
    "show()"
   ]
  },
  {
   "cell_type": "markdown",
   "metadata": {},
   "source": [
    "### Imbalanced arrivals"
   ]
  },
  {
   "cell_type": "code",
   "execution_count": null,
   "metadata": {},
   "outputs": [],
   "source": [
    "# parameters\n",
    "ll = [2, 4, 6]\n",
    "α1 = .8 # proportion of arrivals at dispatcher 1"
   ]
  },
  {
   "cell_type": "code",
   "execution_count": null,
   "metadata": {},
   "outputs": [],
   "source": [
    "uniform_static = [multi_dispatcher_static_loss(I, l, μ, ρρ, α1, p1=.5) for l in ll]\n",
    "best_static = [multi_dispatcher_static_loss(I, l, μ, ρρ, α1, p1=α1) for l in ll]\n",
    "dynamic = [multi_dispatcher_dynamic_loss(I, l, α1, μ, ρρ) for l in ll]"
   ]
  },
  {
   "cell_type": "code",
   "execution_count": null,
   "metadata": {},
   "outputs": [],
   "source": [
    "# plot\n",
    "for i,l in enumerate(ll):\n",
    "    plot(ρρ, dynamic[i], label = \"Dynamic - ℓ = %d\" % l)\n",
    "    plot(ρρ, best_static[i], '--', label = \"Best static - ℓ = %d\" % l)\n",
    "    plot(ρρ, uniform_static[i], '.', label = \"Uniform static - ℓ = %d\" % l)\n",
    "\n",
    "#for i,l in enumerate(ll):\n",
    "#    ρρρ, exp_blocking \\\n",
    "#    = loadtxt('data/dispatchers' + str(l) + '-imbalanced-blocking', delimiter='\\t', unpack=True)\n",
    "#    plot(ρρρ, exp_blocking, color = 'C' + str(i), linestyle=\"None\", marker=\"x\", label=\"Static - ℓ = \" + str(l))\n",
    "\n",
    "#for i,l in enumerate(ll):\n",
    "#    ρρρ, exp_blocking \\\n",
    "#    = loadtxt('data/baf' + str(l) + '-imbalanced-blocking', delimiter='\\t', unpack=True)\n",
    "#    plot(ρρρ, exp_blocking, color = 'C' + str(i), linestyle=\"None\", marker=\"+\", label=\"Dynamic - ℓ = \" + str(l))\n",
    "\n",
    "xlim(0,4); ylim(0,1)\n",
    "legend(loc=6, bbox_to_anchor=(1.1, .5)); title(\"Two dispatchers\")\n",
    "xlabel(\"Load ρ\"); ylabel(\"Probability\")\n",
    "show()"
   ]
  },
  {
   "cell_type": "markdown",
   "metadata": {},
   "source": [
    "### Homogeneous"
   ]
  },
  {
   "cell_type": "code",
   "execution_count": null,
   "metadata": {},
   "outputs": [],
   "source": [
    "# parameters\n",
    "l = 6\n",
    "α1 = .5 # proportion of arrivals at dispatcher 1"
   ]
  },
  {
   "cell_type": "code",
   "execution_count": null,
   "metadata": {},
   "outputs": [],
   "source": [
    "static = multi_dispatcher_static_loss(I, l, μ, ρρ, α1, p1=α1)\n",
    "dynamic = multi_dispatcher_dynamic_loss(I, l, α1, μ, ρρ)"
   ]
  },
  {
   "cell_type": "code",
   "execution_count": null,
   "metadata": {},
   "outputs": [],
   "source": [
    "# plot\n",
    "plot(ρρ, dynamic, color = 'C0', label = \"Dynamic\")\n",
    "plot(ρρ, ρρ * [1. - β for β in dynamic], color = 'C0')\n",
    "plot(ρρ, static, '--', color = 'C1', label = \"Best static (= Uniform static)\")\n",
    "plot(ρρ, ρρ * [1. - β for β in static], color = 'C1')\n",
    "\n",
    "#ρρρ, exp_blocking \\\n",
    "#= loadtxt('data/dispatchers' + str(l) + '-homo-dynamic-blocking', delimiter='\\t', unpack=True)\n",
    "#plot(ρρρ, exp_blocking, color = 'C0', linestyle=\"None\", marker=\"+\", label=\"Dynamic\")\n",
    "\n",
    "#ρρρ, exp_blocking \\\n",
    "#= loadtxt('data/dispatchers' + str(l) + '-homo-static-blocking', delimiter='\\t', unpack=True)\n",
    "#plot(ρρρ, exp_blocking, color = 'C1', linestyle=\"None\", marker=\"x\", label=\"Best static\")\n",
    "\n",
    "xlim(0,2); ylim(0,1)\n",
    "legend(loc='best'); title(\"Two dispatchers\")\n",
    "xlabel(\"Load ρ\"); ylabel(\"Probability\")\n",
    "show()"
   ]
  },
  {
   "cell_type": "markdown",
   "metadata": {},
   "source": [
    "### Heterogeneous"
   ]
  },
  {
   "cell_type": "code",
   "execution_count": null,
   "metadata": {},
   "outputs": [],
   "source": [
    "# parameters\n",
    "l = 6\n",
    "α1 = .8 # proportion of arrivals at dispatcher 1"
   ]
  },
  {
   "cell_type": "code",
   "execution_count": null,
   "metadata": {},
   "outputs": [],
   "source": [
    "uniform_static = multi_dispatcher_static_loss(I, l, μ, ρρ, α1, p1=.5)\n",
    "best_static = multi_dispatcher_static_loss(I, l, μ, ρρ, α1, p1=α1)\n",
    "dynamic = multi_dispatcher_dynamic_loss(I, l, α1, μ, ρρ)"
   ]
  },
  {
   "cell_type": "code",
   "execution_count": null,
   "metadata": {},
   "outputs": [],
   "source": [
    "# plot\n",
    "plot(ρρ, dynamic, color = 'C0', label = \"Dynamic\")\n",
    "plot(ρρ, ρρ * [1. - β for β in dynamic], color = 'C0')\n",
    "plot(ρρ, best_static, '--', color = 'C1', label = \"Best static\")\n",
    "plot(ρρ, ρρ * [1. - β for β in best_static], color = 'C1')\n",
    "plot(ρρ, uniform_static, '-.', color = 'C2', label = 'Uniform static')\n",
    "plot(ρρ, ρρ * [1. - β for β in uniform_static], color = 'C2')\n",
    "\n",
    "#ρρρ, exp_blocking \\\n",
    "#= loadtxt('data/dispatchers' + str(l) + '-hete-dynamic-blocking', delimiter='\\t', unpack=True)\n",
    "#plot(ρρρ, exp_blocking, color = 'C0', linestyle=\"None\", marker=\"x\", label=\"Dynamic\")\n",
    "\n",
    "#ρρρ, exp_blocking \\\n",
    "#= loadtxt('data/dispatchers' + str(l) + '-hete-best_static-blocking', delimiter='\\t', unpack=True)\n",
    "#plot(ρρρ, exp_blocking, color = 'C1', linestyle=\"None\", marker=\"+\", label=\"Best static\")\n",
    "\n",
    "#ρρρ, exp_blocking \\\n",
    "#= loadtxt('data/dispatchers' + str(l) + '-hete-uniform_static-blocking', delimiter='\\t', unpack=True)\n",
    "#plot(ρρρ, exp_blocking, color = 'C2', linestyle=\"None\", marker=\"x\", label=\"uniform_static static\")\n",
    "\n",
    "xlim(0,4); ylim(0,1)\n",
    "legend(loc=4); title(\"Two dispatchers\")\n",
    "xlabel(\"Load ρ\"); ylabel(\"Probability\")\n",
    "show()"
   ]
  },
  {
   "cell_type": "code",
   "execution_count": null,
   "metadata": {},
   "outputs": [],
   "source": [
    "# save\n",
    "df = pd.DataFrame({'rho': ρρ,\n",
    "                    'db': dynamic,\n",
    "                    'do': ρρ * [1. - β for β in dynamic],\n",
    "                    'ob': best_static,\n",
    "                    'oo': ρρ * [1. - β for β in best_static],\n",
    "                    'ub': uniform_static,\n",
    "                    'uo': ρρ * [1. - β for β in uniform_static]\n",
    "                    })\n",
    "\n",
    "fn = \"data/theo-jiq-comp.csv\"\n",
    "df.to_csv(fn, index = False)"
   ]
  }
 ],
 "metadata": {
  "language_info": {
   "name": "python",
   "pygments_lexer": "ipython3"
  }
 },
 "nbformat": 4,
 "nbformat_minor": 2
}
