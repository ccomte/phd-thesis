{
 "cells": [
  {
   "cell_type": "markdown",
   "metadata": {},
   "source": [
    "# Chapter 9. Extensions\n",
    "\n",
    "Compute and plot the numerical results of Section 9.2. The commented code is in charge of loading simulation results that might be added later."
   ]
  },
  {
   "cell_type": "markdown",
   "metadata": {},
   "source": [
    "## Package imports and global variable definitions"
   ]
  },
  {
   "cell_type": "code",
   "execution_count": 1,
   "metadata": {
    "ExecuteTime": {
     "end_time": "2019-08-23T09:12:37.876993Z",
     "start_time": "2019-08-23T09:12:37.265775Z"
    }
   },
   "outputs": [
    {
     "name": "stdout",
     "output_type": "stream",
     "text": [
      "Populating the interactive namespace from numpy and matplotlib\n"
     ]
    }
   ],
   "source": [
    "%pylab inline\n",
    "import pandas as pd"
   ]
  },
  {
   "cell_type": "code",
   "execution_count": 2,
   "metadata": {
    "ExecuteTime": {
     "end_time": "2019-08-23T09:12:37.883113Z",
     "start_time": "2019-08-23T09:12:37.879615Z"
    },
    "hide_input": false
   },
   "outputs": [],
   "source": [
    "# uncomment this line if you prefer dynamic matplotlib plots\n",
    "# %matplotlib notebook\n",
    "\n",
    "# change the default figure size\n",
    "# pylab.rcParams['figure.figsize'] = (10.0, 6.0)\n",
    "pylab.rcParams['legend.fontsize'] = 12"
   ]
  },
  {
   "cell_type": "code",
   "execution_count": 3,
   "metadata": {
    "ExecuteTime": {
     "end_time": "2019-08-23T09:12:37.994265Z",
     "start_time": "2019-08-23T09:12:37.886143Z"
    }
   },
   "outputs": [],
   "source": [
    "# useful in the function multi_dispatcher_dynamic\n",
    "from scipy import special"
   ]
  },
  {
   "cell_type": "code",
   "execution_count": 4,
   "metadata": {
    "ExecuteTime": {
     "end_time": "2019-08-23T09:12:38.014014Z",
     "start_time": "2019-08-23T09:12:37.996753Z"
    }
   },
   "outputs": [],
   "source": [
    "# global variables\n",
    "ρρ = linspace(4., 0, 50, endpoint=False)\n",
    "I = 10\n",
    "μ = 1."
   ]
  },
  {
   "cell_type": "markdown",
   "metadata": {},
   "source": [
    "## Function definitions"
   ]
  },
  {
   "cell_type": "markdown",
   "metadata": {},
   "source": [
    "All numerical results are for two dispatchers only. Incoming jobs have no assignment constraints, so that they are only rejected if their dispatcher is empty of tokens."
   ]
  },
  {
   "cell_type": "markdown",
   "metadata": {},
   "source": [
    "### Single dispatcher"
   ]
  },
  {
   "cell_type": "markdown",
   "metadata": {},
   "source": [
    "Compute the normalization constant in a cluster with a single dispatcher."
   ]
  },
  {
   "cell_type": "code",
   "execution_count": 5,
   "metadata": {
    "ExecuteTime": {
     "end_time": "2019-08-23T09:12:38.071687Z",
     "start_time": "2019-08-23T09:12:38.016155Z"
    },
    "code_folding": []
   },
   "outputs": [],
   "source": [
    "def single_dispatcher_normalization(l, μ, ν):\n",
    "    # parameters\n",
    "    I = len(l)\n",
    "    cuml = zeros(I, dtype=int)\n",
    "    cuml[1:] = cumsum(l[:-1])\n",
    "    \n",
    "    # initialization: π_0\n",
    "    π = ones(1, dtype=float64)\n",
    "    \n",
    "    for i in range(I):\n",
    "        # recursion:  derive π_{i+1} from π_i\n",
    "        \n",
    "        # compute p_{i+1}\n",
    "        p = ones(l[i] + 1, dtype=float64)\n",
    "        p[1:] = cumprod(μ[i] / (ν * arange(1, l[i]+1)), dtype=float64)\n",
    "        \n",
    "        # make the outer product of π_i with p_{i+1}\n",
    "        π = outer(π, p[::-1])\n",
    "        \n",
    "        # multiply each coefficient by t! / s!\n",
    "        for s in range(cuml[i] + 1):\n",
    "            quotient = ones(l[i] + 1, dtype=float64)\n",
    "            quotient[1:] = cumprod(s + arange(1, l[i] + 1), dtype=float64)\n",
    "            π[s] *= quotient[::-1]\n",
    "        \n",
    "        # sum over the (anti)diagonals\n",
    "        π = [trace(π, n) for n in range(l[i], -cuml[i] - 1, -1)]\n",
    "    \n",
    "    return 1. / sum(π)"
   ]
  },
  {
   "cell_type": "markdown",
   "metadata": {},
   "source": [
    "### Multiple dispatchers with a static routing"
   ]
  },
  {
   "cell_type": "code",
   "execution_count": 6,
   "metadata": {
    "ExecuteTime": {
     "end_time": "2019-08-23T09:12:38.130077Z",
     "start_time": "2019-08-23T09:12:38.073914Z"
    },
    "code_folding": []
   },
   "outputs": [],
   "source": [
    "def multi_dispatcher_static_normalization(l, α, β):\n",
    "    I = len(l)\n",
    "    maxl = max(l)\n",
    "    cuml = cumsum(l)\n",
    "    \n",
    "    αs = ones(maxl + 1, dtype=float64)\n",
    "    αs[1:] = cumprod(α / arange(1, maxl + 1))\n",
    "    \n",
    "    βt = ones(maxl + 1, dtype=float64)\n",
    "    βt[1:] = cumprod(β / arange(1, maxl + 1))\n",
    "    \n",
    "    # i = 0\n",
    "    oldπ = outer(α**arange(l[0] + 1), β**arange(l[0] + 1)) * (tri(l[0] + 1)[::-1])\n",
    "    \n",
    "    # i > 0\n",
    "    for i in range(1, I):\n",
    "        π = zeros((cuml[i] + 1, cuml[i] + 1), dtype=float64)\n",
    "        \n",
    "        for ps in range(cuml[i-1] + 1):\n",
    "            for pt in range(cuml[i-1] - ps + 1):\n",
    "                prods = float64(1.)\n",
    "                for s in range(ps, ps + l[i] + 1):\n",
    "                    prodt = float64(1.)\n",
    "                    for t in range(pt, pt + l[i] - (s - ps) + 1):\n",
    "                        π[s,t] += oldπ[ps, pt] * αs[s-ps] * βt[t-pt] * prods * prodt\n",
    "                        prodt *= (t + 1)\n",
    "                    prods *= (s + 1)\n",
    "        \n",
    "        oldπ = copy(π)\n",
    "    \n",
    "    return sum(sum(π))"
   ]
  },
  {
   "cell_type": "code",
   "execution_count": 7,
   "metadata": {
    "ExecuteTime": {
     "end_time": "2019-08-23T09:12:38.198932Z",
     "start_time": "2019-08-23T09:12:38.131952Z"
    }
   },
   "outputs": [],
   "source": [
    "def multi_dispatcher_static_loss(I, l, α1, p1, μ, ρρ):\n",
    "    ll = l * ones(I, dtype=int)\n",
    "    return [ (\n",
    "        (1 - α1) / single_dispatcher_normalization(ll, p1 * μ * ones(I), α1 * I * μ * ρ)\n",
    "        + α1 / single_dispatcher_normalization(ll, (1 - p1) * μ * ones(I), (1 - α1) * I * μ * ρ)\n",
    "    ) / multi_dispatcher_static_normalization(ll, p1 / (α1 * I * ρ), (1 - p1) / ((1 - α1) * I * ρ)) for ρ in ρρ ]"
   ]
  },
  {
   "cell_type": "markdown",
   "metadata": {},
   "source": [
    "### Multple dispatchers with a dynamic routing"
   ]
  },
  {
   "cell_type": "code",
   "execution_count": 8,
   "metadata": {
    "ExecuteTime": {
     "end_time": "2019-08-23T09:12:38.254495Z",
     "start_time": "2019-08-23T09:12:38.202219Z"
    },
    "code_folding": []
   },
   "outputs": [],
   "source": [
    "def multi_dispatcher_dynamic_normalization(I, l, α, β):\n",
    "    q = l // 2\n",
    "    \n",
    "    αs = ones(q + 1, dtype=float64)\n",
    "    αs[1:] = cumprod(α / arange(1, q + 1))\n",
    "    \n",
    "    βt = ones(q + 1, dtype=float64)\n",
    "    βt[1:] = cumprod(β / arange(1, q + 1))\n",
    "    \n",
    "    coeff = ones((q + 1, q + 1))\n",
    "    for y in range(q + 1):\n",
    "        for z in range(q + 1):\n",
    "            coeff[y,z] = special.binom(l - y - z, q - y)\n",
    "    \n",
    "    # i = 0\n",
    "    oldπ = outer(α**arange(l + 1), β**arange(l + 1)) * (tri(l + 1)[::-1])\n",
    "    oldπ = oldπ[:q + 1,:q + 1] * coeff\n",
    "    \n",
    "    # i > 0\n",
    "    for i in range(1, I):\n",
    "        π = zeros((q * (i + 1) + 1, q * (i + 1) + 1), dtype=float64)\n",
    "        \n",
    "        for ps in range(q * i + 1):\n",
    "            for pt in range(min(q * i, l * i - ps) + 1):\n",
    "                prods = float64(1.)\n",
    "                for s in range(ps, ps + q + 1):\n",
    "                    prodt = float64(1.)\n",
    "                    for t in range(pt, pt + min(q, l - (s - ps)) + 1):\n",
    "                        π[s,t] += (oldπ[ps,pt] * αs[s - ps] * βt[t - pt]\n",
    "                                   * prods * prodt * coeff[s - ps,t - pt])\n",
    "                        prodt *= (t+1)\n",
    "                    prods *= (s+1)\n",
    "        \n",
    "        oldπ = copy(π)\n",
    "    \n",
    "    return sum(sum(π))"
   ]
  },
  {
   "cell_type": "code",
   "execution_count": 9,
   "metadata": {
    "ExecuteTime": {
     "end_time": "2019-08-23T09:12:38.329605Z",
     "start_time": "2019-08-23T09:12:38.258132Z"
    }
   },
   "outputs": [],
   "source": [
    "def multi_dispatcher_dynamic_loss(I, l, α1, μ, ρρ):\n",
    "    return [ (\n",
    "    (1 - α1) * multi_dispatcher_dynamic_normalization(I, l, 1. / (α1 * I * ρ), 0.)\n",
    "    + α1 * multi_dispatcher_dynamic_normalization(I, l, 0., 1. / ((1 - α1) * I * ρ))\n",
    ") / multi_dispatcher_dynamic_normalization(I, l, 1. / (α1 * I * ρ), 1. / ((1 - α1) * I * ρ)) for ρ in ρρ ]"
   ]
  },
  {
   "cell_type": "markdown",
   "metadata": {},
   "source": [
    "## Numerical results"
   ]
  },
  {
   "cell_type": "markdown",
   "metadata": {},
   "source": [
    "### Balanced arrivals"
   ]
  },
  {
   "cell_type": "code",
   "execution_count": 10,
   "metadata": {
    "ExecuteTime": {
     "end_time": "2019-08-23T09:12:38.386604Z",
     "start_time": "2019-08-23T09:12:38.332652Z"
    }
   },
   "outputs": [],
   "source": [
    "# parameters\n",
    "ll = [2, 4, 6]\n",
    "α1 = .5 # proportion of arrivals at dispatcher 1\n",
    "p1 = .5 # routing probabilities of tokens to dispatcher 1"
   ]
  },
  {
   "cell_type": "code",
   "execution_count": 11,
   "metadata": {
    "ExecuteTime": {
     "end_time": "2019-08-23T09:13:01.136463Z",
     "start_time": "2019-08-23T09:12:38.392970Z"
    }
   },
   "outputs": [],
   "source": [
    "static = [multi_dispatcher_static_loss(I, l, α1, p1, μ, ρρ) for l in ll]"
   ]
  },
  {
   "cell_type": "code",
   "execution_count": 12,
   "metadata": {
    "ExecuteTime": {
     "end_time": "2019-08-23T09:13:23.225683Z",
     "start_time": "2019-08-23T09:13:01.138100Z"
    }
   },
   "outputs": [],
   "source": [
    "dynamic = [multi_dispatcher_dynamic_loss(I, l, α1, μ, ρρ) for l in ll]"
   ]
  },
  {
   "cell_type": "code",
   "execution_count": 13,
   "metadata": {
    "ExecuteTime": {
     "end_time": "2019-08-23T09:13:23.512933Z",
     "start_time": "2019-08-23T09:13:23.227792Z"
    }
   },
   "outputs": [
    {
     "data": {
      "image/png": "[encoded data removed]",
      "text/plain": [
       "<Figure size 432x288 with 1 Axes>"
      ]
     },
     "metadata": {
      "needs_background": "light"
     },
     "output_type": "display_data"
    }
   ],
   "source": [
    "# plot\n",
    "for i,l in enumerate(ll):\n",
    "    plot(ρρ, static[i], label = \"Static - ℓ = \" + str(l))\n",
    "\n",
    "for i,l in enumerate(ll):\n",
    "    plot(ρρ, dynamic[i], '--', color = 'C'+str(i), label = \"Dynamic - ℓ = \" + str(l))\n",
    "\n",
    "#for i,l in enumerate(ll):\n",
    "#    ρρρ, exp_blocking \\\n",
    "#    = loadtxt('data/dispatchers' + str(l) + '-balanced-blocking', delimiter='\\t', unpack=True)\n",
    "#    plot(ρρρ, exp_blocking, color = 'C' + str(i), linestyle=\"None\", marker=\"x\", label=\"Static - ℓ = \" + str(l))\n",
    "\n",
    "#for i,l in enumerate(ll):\n",
    "#    ρρρ, exp_blocking \\\n",
    "#    = loadtxt('data/baf' + str(l) + '-balanced-blocking', delimiter='\\t', unpack=True)\n",
    "#    plot(ρρρ, exp_blocking, color = 'C' + str(i), linestyle=\"None\", marker=\"+\", label=\"Dynamic - ℓ = \" + str(l))\n",
    "\n",
    "xlim(0,4); ylim(0,1)\n",
    "legend(loc=4); title(\"Two dispatchers\")\n",
    "xlabel(\"Load ρ\"); ylabel(\"Probability\")\n",
    "show()"
   ]
  },
  {
   "cell_type": "markdown",
   "metadata": {},
   "source": [
    "### Imbalanced arrivals"
   ]
  },
  {
   "cell_type": "code",
   "execution_count": 14,
   "metadata": {
    "ExecuteTime": {
     "end_time": "2019-08-23T09:13:23.519473Z",
     "start_time": "2019-08-23T09:13:23.515085Z"
    }
   },
   "outputs": [],
   "source": [
    "# parameters\n",
    "ll = [2, 4, 6]\n",
    "α1 = .8 # proportion of arrivals at dispatcher 1"
   ]
  },
  {
   "cell_type": "code",
   "execution_count": 15,
   "metadata": {
    "ExecuteTime": {
     "end_time": "2019-08-23T09:13:46.017481Z",
     "start_time": "2019-08-23T09:13:23.522535Z"
    }
   },
   "outputs": [],
   "source": [
    "p1 = .5\n",
    "uniform_static = [multi_dispatcher_static_loss(I, l, α1, p1, μ, ρρ) for l in ll]"
   ]
  },
  {
   "cell_type": "code",
   "execution_count": 16,
   "metadata": {
    "ExecuteTime": {
     "end_time": "2019-08-23T09:14:07.992458Z",
     "start_time": "2019-08-23T09:13:46.019115Z"
    }
   },
   "outputs": [],
   "source": [
    "p1 = α1\n",
    "best_static = [multi_dispatcher_static_loss(I, l, α1, p1, μ, ρρ) for l in ll]"
   ]
  },
  {
   "cell_type": "code",
   "execution_count": 17,
   "metadata": {
    "ExecuteTime": {
     "end_time": "2019-08-23T09:14:28.116679Z",
     "start_time": "2019-08-23T09:14:07.994688Z"
    }
   },
   "outputs": [],
   "source": [
    "dynamic = [multi_dispatcher_dynamic_loss(I, l, α1, μ, ρρ) for l in ll]"
   ]
  },
  {
   "cell_type": "code",
   "execution_count": 18,
   "metadata": {
    "ExecuteTime": {
     "end_time": "2019-08-23T09:14:28.540817Z",
     "start_time": "2019-08-23T09:14:28.118906Z"
    }
   },
   "outputs": [
    {
     "data": {
      "image/png": "[encoded data removed]",
      "text/plain": [
       "<Figure size 432x288 with 1 Axes>"
      ]
     },
     "metadata": {
      "needs_background": "light"
     },
     "output_type": "display_data"
    }
   ],
   "source": [
    "# plot\n",
    "for i,l in enumerate(ll):\n",
    "    plot(ρρ, uniform_static[i], label = \"Uniform static - ℓ = \" + str(l))\n",
    "    \n",
    "for i,l in enumerate(ll):\n",
    "    plot(ρρ, best_static[i], label = \"Best static - ℓ = \" + str(l))\n",
    "\n",
    "for i,l in enumerate(ll):\n",
    "    plot(ρρ, dynamic[i], '--', label = \"Dynamic - ℓ = \" + str(l))\n",
    "\n",
    "#for i,l in enumerate(ll):\n",
    "#    ρρρ, exp_blocking \\\n",
    "#    = loadtxt('data/dispatchers' + str(l) + '-imbalanced-blocking', delimiter='\\t', unpack=True)\n",
    "#    plot(ρρρ, exp_blocking, color = 'C' + str(i), linestyle=\"None\", marker=\"x\", label=\"Static - ℓ = \" + str(l))\n",
    "\n",
    "#for i,l in enumerate(ll):\n",
    "#    ρρρ, exp_blocking \\\n",
    "#    = loadtxt('data/baf' + str(l) + '-imbalanced-blocking', delimiter='\\t', unpack=True)\n",
    "#    plot(ρρρ, exp_blocking, color = 'C' + str(i), linestyle=\"None\", marker=\"+\", label=\"Dynamic - ℓ = \" + str(l))\n",
    "\n",
    "xlim(0,4); ylim(0,1)\n",
    "legend(loc=6, bbox_to_anchor=(1.1, .5)); title(\"Two dispatchers\")\n",
    "xlabel(\"Load ρ\"); ylabel(\"Probability\")\n",
    "show()"
   ]
  },
  {
   "cell_type": "markdown",
   "metadata": {},
   "source": [
    "### Homogeneous"
   ]
  },
  {
   "cell_type": "code",
   "execution_count": 19,
   "metadata": {
    "ExecuteTime": {
     "end_time": "2019-08-23T09:14:28.545909Z",
     "start_time": "2019-08-23T09:14:28.543383Z"
    }
   },
   "outputs": [],
   "source": [
    "# parameters\n",
    "l = 6\n",
    "α1 = .5 # proportion of arrivals at dispatcher 1"
   ]
  },
  {
   "cell_type": "code",
   "execution_count": 20,
   "metadata": {
    "ExecuteTime": {
     "end_time": "2019-08-23T09:14:47.793493Z",
     "start_time": "2019-08-23T09:14:28.547695Z"
    }
   },
   "outputs": [],
   "source": [
    "p1 = α1\n",
    "static = multi_dispatcher_static_loss(I, l, α1, p1, μ, ρρ)"
   ]
  },
  {
   "cell_type": "code",
   "execution_count": 21,
   "metadata": {
    "ExecuteTime": {
     "end_time": "2019-08-23T09:15:05.045364Z",
     "start_time": "2019-08-23T09:14:47.795738Z"
    }
   },
   "outputs": [],
   "source": [
    "dynamic = multi_dispatcher_dynamic_loss(I, l, α1, μ, ρρ)"
   ]
  },
  {
   "cell_type": "code",
   "execution_count": 22,
   "metadata": {
    "ExecuteTime": {
     "end_time": "2019-08-23T09:15:05.276655Z",
     "start_time": "2019-08-23T09:15:05.047328Z"
    }
   },
   "outputs": [
    {
     "data": {
      "image/png": "[encoded data removed]",
      "text/plain": [
       "<Figure size 432x288 with 1 Axes>"
      ]
     },
     "metadata": {
      "needs_background": "light"
     },
     "output_type": "display_data"
    }
   ],
   "source": [
    "# plot\n",
    "plot(ρρ, dynamic, color = 'C0', label = \"Dynamic\")\n",
    "plot(ρρ, ρρ * [1. - β for β in dynamic], color = 'C0')\n",
    "plot(ρρ, static, '--', color = 'C1', label = \"Best static = uniform static\")\n",
    "plot(ρρ, ρρ * [1. - β for β in static], color = 'C1')\n",
    "\n",
    "#ρρρ, exp_blocking \\\n",
    "#= loadtxt('data/dispatchers' + str(l) + '-homo-dynamic-blocking', delimiter='\\t', unpack=True)\n",
    "#plot(ρρρ, exp_blocking, color = 'C0', linestyle=\"None\", marker=\"+\", label=\"Dynamic\")\n",
    "\n",
    "#ρρρ, exp_blocking \\\n",
    "#= loadtxt('data/dispatchers' + str(l) + '-homo-static-blocking', delimiter='\\t', unpack=True)\n",
    "#plot(ρρρ, exp_blocking, color = 'C1', linestyle=\"None\", marker=\"x\", label=\"Best static\")\n",
    "\n",
    "xlim(0,2); ylim(0,1)\n",
    "legend(loc='best'); title(\"Two dispatchers\")\n",
    "xlabel(\"Load ρ\"); ylabel(\"Probability\")\n",
    "show()"
   ]
  },
  {
   "cell_type": "markdown",
   "metadata": {},
   "source": [
    "### Heterogeneous"
   ]
  },
  {
   "cell_type": "code",
   "execution_count": 23,
   "metadata": {
    "ExecuteTime": {
     "end_time": "2019-08-23T09:15:05.285193Z",
     "start_time": "2019-08-23T09:15:05.281063Z"
    }
   },
   "outputs": [],
   "source": [
    "# parameters\n",
    "l = 6\n",
    "α1 = .8 # proportion of arrivals at dispatcher 1"
   ]
  },
  {
   "cell_type": "code",
   "execution_count": 24,
   "metadata": {
    "ExecuteTime": {
     "end_time": "2019-08-23T09:15:22.606241Z",
     "start_time": "2019-08-23T09:15:05.288349Z"
    }
   },
   "outputs": [],
   "source": [
    "p1 = .5\n",
    "uniform_static = multi_dispatcher_static_loss(I, l, α1, p1, μ, ρρ)"
   ]
  },
  {
   "cell_type": "code",
   "execution_count": 25,
   "metadata": {
    "ExecuteTime": {
     "end_time": "2019-08-23T09:15:40.633484Z",
     "start_time": "2019-08-23T09:15:22.608202Z"
    }
   },
   "outputs": [],
   "source": [
    "p1 = α1\n",
    "best_static = multi_dispatcher_static_loss(I, l, α1, p1, μ, ρρ)"
   ]
  },
  {
   "cell_type": "code",
   "execution_count": 26,
   "metadata": {
    "ExecuteTime": {
     "end_time": "2019-08-23T09:15:56.456364Z",
     "start_time": "2019-08-23T09:15:40.635693Z"
    }
   },
   "outputs": [],
   "source": [
    "dynamic = multi_dispatcher_dynamic_loss(I, l, α1, μ, ρρ)"
   ]
  },
  {
   "cell_type": "code",
   "execution_count": 27,
   "metadata": {
    "ExecuteTime": {
     "end_time": "2019-08-23T09:15:56.697301Z",
     "start_time": "2019-08-23T09:15:56.458082Z"
    }
   },
   "outputs": [
    {
     "data": {
      "image/png": "[encoded data removed]",
      "text/plain": [
       "<Figure size 432x288 with 1 Axes>"
      ]
     },
     "metadata": {
      "needs_background": "light"
     },
     "output_type": "display_data"
    }
   ],
   "source": [
    "# plot\n",
    "plot(ρρ, dynamic, color = 'C0', label = \"Dynamic\")\n",
    "plot(ρρ, ρρ * [1. - β for β in dynamic], color = 'C0')\n",
    "plot(ρρ, best_static, '--', color = 'C1', label = \"Best static\")\n",
    "plot(ρρ, ρρ * [1. - β for β in best_static], color = 'C1')\n",
    "plot(ρρ, uniform_static, '-.', color = 'C2', label = 'Uniform static')\n",
    "plot(ρρ, ρρ * [1. - β for β in uniform_static], color = 'C2')\n",
    "\n",
    "#ρρρ, exp_blocking \\\n",
    "#= loadtxt('data/dispatchers' + str(l) + '-hete-dynamic-blocking', delimiter='\\t', unpack=True)\n",
    "#plot(ρρρ, exp_blocking, color = 'C0', linestyle=\"None\", marker=\"x\", label=\"Dynamic\")\n",
    "\n",
    "#ρρρ, exp_blocking \\\n",
    "#= loadtxt('data/dispatchers' + str(l) + '-hete-best_static-blocking', delimiter='\\t', unpack=True)\n",
    "#plot(ρρρ, exp_blocking, color = 'C1', linestyle=\"None\", marker=\"+\", label=\"Best static\")\n",
    "\n",
    "#ρρρ, exp_blocking \\\n",
    "#= loadtxt('data/dispatchers' + str(l) + '-hete-uniform_static-blocking', delimiter='\\t', unpack=True)\n",
    "#plot(ρρρ, exp_blocking, color = 'C2', linestyle=\"None\", marker=\"x\", label=\"uniform_static static\")\n",
    "\n",
    "xlim(0,4); ylim(0,1)\n",
    "legend(loc=4); title(\"Two dispatchers\")\n",
    "xlabel(\"Load ρ\"); ylabel(\"Probability\")\n",
    "show()"
   ]
  },
  {
   "cell_type": "code",
   "execution_count": 28,
   "metadata": {
    "ExecuteTime": {
     "end_time": "2019-08-23T09:15:56.710944Z",
     "start_time": "2019-08-23T09:15:56.699131Z"
    }
   },
   "outputs": [],
   "source": [
    "# save\n",
    "df = pd.DataFrame({'rho': ρρ,\n",
    "                    'db': dynamic,\n",
    "                    'do': ρρ * [1. - β for β in dynamic],\n",
    "                    'ob': best_static,\n",
    "                    'oo': ρρ * [1. - β for β in best_static],\n",
    "                    'ub': uniform_static,\n",
    "                    'uo': ρρ * [1. - β for β in uniform_static]\n",
    "                    })\n",
    "\n",
    "fn = \"data/theo-jiq-comp.csv\"\n",
    "df.to_csv(fn, index = False)"
   ]
  }
 ],
 "metadata": {
  "kernelspec": {
   "display_name": "Python 3",
   "language": "python3",
   "name": "python3"
  },
  "language_info": {
   "codemirror_mode": {
    "name": "ipython",
    "version": 3
   },
   "file_extension": ".py",
   "mimetype": "text/x-python",
   "name": "python",
   "nbconvert_exporter": "python",
   "pygments_lexer": "ipython3",
   "version": "3.6.8"
  },
  "toc": {
   "base_numbering": 1,
   "nav_menu": {},
   "number_sections": true,
   "sideBar": true,
   "skip_h1_title": true,
   "title_cell": "Table of Contents",
   "title_sidebar": "Contents",
   "toc_cell": false,
   "toc_position": {},
   "toc_section_display": true,
   "toc_window_display": false
  }
 },
 "nbformat": 4,
 "nbformat_minor": 2
}
