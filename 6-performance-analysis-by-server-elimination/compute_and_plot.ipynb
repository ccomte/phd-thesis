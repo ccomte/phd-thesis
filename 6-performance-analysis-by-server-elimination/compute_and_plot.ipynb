{
 "cells": [
  {
   "cell_type": "markdown",
   "metadata": {},
   "source": [
    "# Chapter 6. Performance analysis by server elimination"
   ]
  },
  {
   "cell_type": "markdown",
   "metadata": {},
   "source": [
    "This Notebook computes and plots the numerical results for Chapter 6 of the Ph.D. thesis. Sections 1 and 2 of this Notebook define functions for computing the results, while Sections 3 and 4 plot them. For each section, we add a pointer to the corresponding section or subsection in the manuscript."
   ]
  },
  {
   "cell_type": "code",
   "execution_count": 1,
   "metadata": {
    "ExecuteTime": {
     "end_time": "2019-08-30T15:41:59.407219Z",
     "start_time": "2019-08-30T15:41:58.872627Z"
    },
    "scrolled": true
   },
   "outputs": [
    {
     "name": "stdout",
     "output_type": "stream",
     "text": [
      "Populating the interactive namespace from numpy and matplotlib\n"
     ]
    }
   ],
   "source": [
    "%pylab inline\n",
    "import pandas as pd"
   ]
  },
  {
   "cell_type": "code",
   "execution_count": 2,
   "metadata": {
    "ExecuteTime": {
     "end_time": "2019-08-30T15:41:59.412851Z",
     "start_time": "2019-08-30T15:41:59.409651Z"
    }
   },
   "outputs": [],
   "source": [
    "folder = \"data/\""
   ]
  },
  {
   "cell_type": "markdown",
   "metadata": {},
   "source": [
    "## 1. Random customer assignment (Section 6.2)"
   ]
  },
  {
   "cell_type": "markdown",
   "metadata": {},
   "source": [
    "### Homogeneous queue (Subsection 6.2.1)"
   ]
  },
  {
   "cell_type": "markdown",
   "metadata": {},
   "source": [
    "$$\n",
    "\\psi = \\prod_{s=r}^S \\left( 1 - \\rho_{|s} \\right)\n",
    "\\quad \\text{and} \\quad\n",
    "L = \\sum_{s=r}^S \\frac{ \\rho_{|s} }{ 1 - \\rho_{|s} },\n",
    "$$\n",
    "where\n",
    "$$\n",
    "\\rho_{|s}\n",
    "= \\frac1{s \\mu} \\frac{ \\binom{s}{r_n} }{ \\binom{S}{r_n} } S \\lambda\n",
    "= \\rho \\frac{ \\binom{s-1}{r_n-1} }{ \\binom{S-1}{r_n-1} }\n",
    "$$\n",
    "is the load in the subsystem restricted to $s$ arbitrary servers."
   ]
  },
  {
   "cell_type": "markdown",
   "metadata": {},
   "source": [
    "We just need to compute\n",
    "$$\n",
    "    b_s = \\binom{s-1}{r-1}\n",
    "$$\n",
    "for each $s = r,\\ldots,S$.\n",
    "We have $b_r = 1$ and, for each $s = r+1,\\ldots,S$,\n",
    "$$\n",
    "    b_s\n",
    "    = \\frac{ (s-1)! }{ (r-1)! (s-r)! }\n",
    "    = \\frac{s-1}{s-r} \\frac{ ((s-1)-1)! }{ (r-1)! ((s-1)-r)! }\n",
    "    = \\left( 1 + \\frac{r-1}{s-r} \\right) b_{s-1}.\n",
    "$$\n",
    "We use this last equality to compute recursively $b_s$ for each $s = r+1,\\ldots,S$."
   ]
  },
  {
   "cell_type": "code",
   "execution_count": 3,
   "metadata": {
    "ExecuteTime": {
     "end_time": "2019-08-30T15:41:59.456810Z",
     "start_time": "2019-08-30T15:41:59.416447Z"
    }
   },
   "outputs": [],
   "source": [
    "def global_homogeneous(S=10, r=3, ρ=.5):\n",
    "    binom = ones(S - r + 1, dtype=float)\n",
    "    binom[1:] = cumprod(1 + (r-1) / arange(1, S - r + 1))\n",
    "    binom /= binom[-1]\n",
    "    ρs = ρ * binom\n",
    "    return sum(ρs / (1 - ρs))"
   ]
  },
  {
   "cell_type": "markdown",
   "metadata": {},
   "source": [
    "### Heterogeneous degrees (Subsection 6.2.2)"
   ]
  },
  {
   "cell_type": "markdown",
   "metadata": {},
   "source": [
    "$$\n",
    "\\psi = \\prod_{s=r}^S \\left( 1 - \\rho_{|s} \\right)\n",
    "\\quad \\text{and} \\quad\n",
    "L = \\sum_{s=r}^S \\frac{ \\rho_{|s} }{ 1 - \\rho_{|s} },\n",
    "$$\n",
    "where\n",
    "$$\n",
    "\\rho_{|s} = \\frac1{ s \\mu }\n",
    "\\sum_{n=1}^N \\frac{ \\binom{s}{r_n} }{ \\binom{S}{r_n} } S \\lambda p_n\n",
    "= \\rho \\sum_{n=1}^N \\frac{ \\binom{s-1}{r_n-1} }{ \\binom{S-1}{r_n-1} } p_n\n",
    "$$\n",
    "is the load in the subsystem restricted to $s$ arbitrary servers."
   ]
  },
  {
   "cell_type": "markdown",
   "metadata": {},
   "source": [
    "Implementation: We let\n",
    "$$\n",
    "b_{n,s} = p_n \\frac{ \\binom{s}{r_n} }{ \\binom{S}{r_n} },\n",
    "$$\n",
    "and we compute it by induction on $s$ for each $n$, using the formula:\n",
    "$$\n",
    "\\binom{s}{r} = \\left( 1 + \\frac{r-1}{s-r} \\right) \\times \\binom{s-1}{r}.\n",
    "$$\n",
    "Then we let $w_s = \\sum_{n=1}^N b_{n,s}$ for each $s = 1,\\ldots,S$.\n",
    "\n",
    "We can express all the metrics as functions of these quantities:\n",
    "\\begin{align*}\n",
    "\\rho_s &= \\rho \\times w_s, \\\\\n",
    "\\psi &= \\prod_{s=1}^S (1 - \\rho_{s}), \\\\\n",
    "L &= \\sum_{s=1}^S \\frac{ \\rho_{|s} }{ 1 - \\rho_{|s} }, \\\\\n",
    "\\rho_{n|s} &= \\frac{ \\rho \\times b_{n,s} }{ 1 - \\rho (w_s - b_{n,s}) }, \\\\\n",
    "L_n &= \\sum_{s=r_n}^S \\frac{ \\rho_{n|s} }{ 1 - \\rho_{n|s} }\n",
    "\\end{align*}"
   ]
  },
  {
   "cell_type": "code",
   "execution_count": 4,
   "metadata": {
    "ExecuteTime": {
     "end_time": "2019-08-30T15:41:59.473454Z",
     "start_time": "2019-08-30T15:41:59.459535Z"
    }
   },
   "outputs": [],
   "source": [
    "def global_heterogeneous(S, r, p, ρ):\n",
    "    K = len(r);\n",
    "    b = zeros((K, S), dtype=float)\n",
    "    for k in range(K):\n",
    "        b[k, r[k] - 1] = 1.\n",
    "        b[k, r[k]:] = cumprod(1 + (r[k] - 1) / arange(1, S - r[k] + 1))\n",
    "        b[k, :] *= p[k] / b[k, -1]\n",
    "    w = sum(b, axis=0)  # sum for all k = 1,...,K\n",
    "\n",
    "    Ln = zeros(K)\n",
    "\n",
    "    ρs = ρ * w\n",
    "    ψ = prod(1. - ρs)\n",
    "    L = sum(ρs / (1. - ρs))\n",
    "    for k in range(K):\n",
    "        ρns = ρ * b[k, :] / (1. - ρ * (w - b[k, :]))\n",
    "        Ln[k] = sum(ρns / (1. - ρns))\n",
    "\n",
    "    return ψ, L / S / ρ, Ln / S / ρ / p"
   ]
  },
  {
   "cell_type": "markdown",
   "metadata": {},
   "source": [
    "## 2. Local assignment (Section 6.3)"
   ]
  },
  {
   "cell_type": "markdown",
   "metadata": {},
   "source": [
    "### Random customer assignment (Subsection 6.3.3)"
   ]
  },
  {
   "cell_type": "markdown",
   "metadata": {},
   "source": [
    "In a homogeneous, local, randomized load balancing system of parameters $ S $, $ r $ and $ \\rho =\\frac{\\lambda}{\\mu} $, the stability condition is $ \\rho < 1 $. Defining $ \\rho_{|s} = \\frac{1-\\frac{r-1}{s}}{1-\\frac{r-1}{S}}\\rho$, the probability that the system is empty is $\\psi = \\psi_{|1..S}$ , with\n",
    "\t$$\n",
    "\t\\psi_{|1..s} = \\left\\{\n",
    "\t\\begin{array}{l}\n",
    "\t1 \\text{ if } s < r\\text{,}\\\\\n",
    "\t(1-\\rho_{|s})\\frac{s}{\\sum_{t=1}^{s}\\frac{1}{\\psi_{|1..t-1}\\psi_{|1..s-t}}}\n",
    "\t\\text{ otherwise.}\n",
    "\t\\end{array}\n",
    "\t \\right.\n",
    "\t$$"
   ]
  },
  {
   "cell_type": "code",
   "execution_count": 5,
   "metadata": {
    "ExecuteTime": {
     "end_time": "2019-08-30T15:41:59.484400Z",
     "start_time": "2019-08-30T15:41:59.476332Z"
    }
   },
   "outputs": [],
   "source": [
    "def line_ψ(S=10, r=3, ρ=.5):\n",
    "    ψ = ones(S + 1)\n",
    "    for s in range(r, S + 1):\n",
    "        ρs = ρ * (1 - (r - 1) / s) / (1 - (r - 1) / S)\n",
    "        ψ[s] = (1 - ρs) * s / sum([1 / ψ[t-1] / ψ[s-t] for t in range(1, s+1)])\n",
    "    return ψ"
   ]
  },
  {
   "cell_type": "markdown",
   "metadata": {},
   "source": [
    "For each $t \\in 1..S-r+1$, the mean number of class-$t$ jobs in the system is $L_{t} = L_{t|1..S}$, with\n",
    "\\begin{equation}\n",
    "L_{t|1..s} =\n",
    "\\frac{\\frac{\\rho_{|S}}{1-\\frac{r-1}{S}}\t\t\n",
    "+\\psi_{|1..s}\\left(\n",
    "\\sum\\limits_{u=1}^{t-1}\\frac{L_{t-u|1..\\ell-u}}{\\psi_{|1..u-1}\\psi_{|1..s-u}}\n",
    "\t+\n",
    "\\sum\\limits_{u=t+r}^{s}\\frac{L_{t|1..u-1}}{\\psi_{|1..u-1}\\psi_{|1..s-u}}\n",
    "\\right)\n",
    "}{\\ell(1-\\rho_{|s})}\\text{,}\n",
    "\\end{equation}"
   ]
  },
  {
   "cell_type": "code",
   "execution_count": 6,
   "metadata": {
    "ExecuteTime": {
     "end_time": "2019-08-30T15:41:59.499450Z",
     "start_time": "2019-08-30T15:41:59.487172Z"
    }
   },
   "outputs": [],
   "source": [
    "def line_Li(S=10, r=3, ρ=.5):\n",
    "    ψ = line_ψ(S, r, ρ)\n",
    "    Lt = zeros([S - r + 2, S + 1])\n",
    "    for t in range(1, S - r + 2):\n",
    "        for s in range(t + r - 1, S + 1):\n",
    "            ρs = ρ * (1 - (r - 1) / s) / (1 - (r - 1) / S)\n",
    "            Lt[t, s] = ((ρ / (1 - (r - 1) / S)\n",
    "                        + ψ[s] * (sum([Lt[t-u, s-u] / ψ[u-1] / ψ[s-u] for u in range(1, t)])\n",
    "                                  + sum([Lt[t, u-1] / ψ[u-1] / ψ[s-u] for u in range(t+r, s+1)])))\n",
    "                       / s / (1 - ρs))\n",
    "    return Lt[1:,-1]"
   ]
  },
  {
   "cell_type": "markdown",
   "metadata": {},
   "source": [
    "The total mean number of jobs in the system is $L = L_{|1..S}$, with\n",
    "\\begin{equation}\n",
    "L_{|1..\\ell} = \\frac{\n",
    "\t\t\\rho_{|\\ell}+\\frac{\\psi_{|1..\\ell}}{\\ell}\\sum_{k=1}^{\\ell}\\frac{L_{|1..k-1}+L_{|1..\\ell-k}}{\\psi_{|1..k-1}\\psi_{|1..\\ell-k}}\n",
    "\t}{1-\\rho_{|\\ell}\n",
    "}\\text{.}\n",
    "\\end{equation}\n",
    "\n",
    "We check with a specific function that it matches the Lis"
   ]
  },
  {
   "cell_type": "code",
   "execution_count": 7,
   "metadata": {
    "ExecuteTime": {
     "end_time": "2019-08-30T15:41:59.512402Z",
     "start_time": "2019-08-30T15:41:59.502050Z"
    }
   },
   "outputs": [],
   "source": [
    "def line_L(S=10, r=3, ρ=.5):\n",
    "    ψ = line_ψ(S, r, ρ)\n",
    "    L = zeros(S + 1)\n",
    "    for s in range(r, S + 1):\n",
    "        ρs = ρ * (1 - (r - 1) / s) / (1 - (r - 1) / S)\n",
    "        L[s] = (ρs + ψ[s] / s * sum([(L[t-1] + L[s-t]) / ψ[t-1] / ψ[s-t]\n",
    "                                     for t in range(1, s + 1)])) / (1 - ρs)\n",
    "    return L[-1]"
   ]
  },
  {
   "cell_type": "markdown",
   "metadata": {},
   "source": [
    "### Ring queue (Subsection 6.3.4)"
   ]
  },
  {
   "cell_type": "code",
   "execution_count": 8,
   "metadata": {
    "ExecuteTime": {
     "end_time": "2019-08-30T15:41:59.525214Z",
     "start_time": "2019-08-30T15:41:59.517095Z"
    }
   },
   "outputs": [],
   "source": [
    "def ring(S=10, r=3, ρ=.5):\n",
    "    return ρ / (1 - ρ) + line_L(S - 1, r, (1 - (r - 1) / (S - 1)) * ρ)"
   ]
  },
  {
   "cell_type": "markdown",
   "metadata": {},
   "source": [
    "## 3. Gain of differentiation (Subsection 6.4.1)"
   ]
  },
  {
   "cell_type": "markdown",
   "metadata": {},
   "source": [
    "### Impact of load"
   ]
  },
  {
   "cell_type": "code",
   "execution_count": 9,
   "metadata": {
    "ExecuteTime": {
     "end_time": "2019-08-30T15:41:59.545600Z",
     "start_time": "2019-08-30T15:41:59.528611Z"
    }
   },
   "outputs": [],
   "source": [
    "def diff_study(S=100, step=.001):\n",
    "    ρρ = arange(step, 1, step)\n",
    "    I = len(ρρ)\n",
    "    r6 = zeros(I)\n",
    "    r8 = zeros(I)\n",
    "    r9 = zeros(I)\n",
    "    r12 = zeros(I)\n",
    "    rm = zeros(I)\n",
    "    r6m = zeros(I)\n",
    "    r12m = zeros(I)\n",
    "\n",
    "    for i, ρ in enumerate(ρρ):\n",
    "        _, r6[i], _ = global_heterogeneous(S, [4], [1], ρ)  # 6\n",
    "        _, r8[i], _ = global_heterogeneous(S, [8], [1], ρ)\n",
    "        _, r9[i], _ = global_heterogeneous(S, [9], [1], ρ)\n",
    "        _, r12[i], _ = global_heterogeneous(S, [14], [1], ρ)  # 12\n",
    "        _, rm[i], R = global_heterogeneous(S, [4, 14], [.5, .5], ρ)  # mix\n",
    "        r6m[i] = R[0]\n",
    "        r12m[i] = R[1]\n",
    "    csv = pd.DataFrame({'rho': ρρ, 'd6': r6, 'd8': r8, 'd9': r9,\n",
    "                        'd12': r12, 'd6m': r6m, 'd12m': r12m, 'dm': rm})\n",
    "    fn = folder + \"hetero1_\" + str(S) + \".csv\"\n",
    "    csv.to_csv(fn, index=False)"
   ]
  },
  {
   "cell_type": "code",
   "execution_count": 10,
   "metadata": {
    "ExecuteTime": {
     "end_time": "2019-08-30T15:41:59.985139Z",
     "start_time": "2019-08-30T15:41:59.548252Z"
    }
   },
   "outputs": [],
   "source": [
    "diff_study()"
   ]
  },
  {
   "cell_type": "code",
   "execution_count": 11,
   "metadata": {
    "ExecuteTime": {
     "end_time": "2019-08-30T15:42:00.194173Z",
     "start_time": "2019-08-30T15:41:59.986695Z"
    }
   },
   "outputs": [
    {
     "data": {
      "image/png": "[encoded data removed]",
      "text/plain": [
       "<Figure size 432x288 with 1 Axes>"
      ]
     },
     "metadata": {
      "needs_background": "light"
     },
     "output_type": "display_data"
    }
   ],
   "source": [
    "csv = pd.read_csv(folder + \"hetero1_100.csv\")\n",
    "plot(csv['rho'].values, 1 / csv['d6'].values, label=\"r6\")\n",
    "plot(csv['rho'].values, 1 / csv['d6m'].values, label=\"r6m\")\n",
    "plot(csv['rho'].values, 1 / csv['d12m'].values, label=\"r12m\")\n",
    "plot(csv['rho'].values, 1 / csv['d12'].values, label=\"r12\")\n",
    "xlim([0, 1])\n",
    "ymin, ymax = ylim()   # return the current ylim\n",
    "ylim( (0, 15) )  # set the ylim to ymin, ymax\n",
    "legend(loc='best')\n",
    "show()"
   ]
  },
  {
   "cell_type": "markdown",
   "metadata": {},
   "source": [
    "### Impact of population distribution"
   ]
  },
  {
   "cell_type": "code",
   "execution_count": 12,
   "metadata": {
    "ExecuteTime": {
     "end_time": "2019-08-30T15:42:00.502087Z",
     "start_time": "2019-08-30T15:42:00.196044Z"
    },
    "code_folding": []
   },
   "outputs": [],
   "source": [
    "S = 100\n",
    "step = .001\n",
    "ρl = .2\n",
    "ρm = .9\n",
    "ρh = .99\n",
    "\n",
    "pp = arange(step, 1, step)\n",
    "I = len(pp)\n",
    "r6l = zeros(I)\n",
    "r12l = zeros(I)\n",
    "r6m = zeros(I)\n",
    "r12m = zeros(I)\n",
    "r6h = zeros(I)\n",
    "r12h = zeros(I)\n",
    "\n",
    "classe = [6, 12]\n",
    "\n",
    "for i, p in enumerate(pp):\n",
    "    _, _, r = global_heterogeneous(S, classe, [p, 1 - p], ρl)\n",
    "    r6l[i] = r[0]\n",
    "    r12l[i] = r[1]\n",
    "    _, _, r = global_heterogeneous(S, classe, [p, 1 - p], ρm)\n",
    "    r6m[i] = r[0]\n",
    "    r12m[i] = r[1]\n",
    "    _, _, r = global_heterogeneous(S, classe, [p, 1 - p], ρh)\n",
    "    r6h[i] = r[0]\n",
    "    r12h[i] = r[1]\n",
    "csv = pd.DataFrame({'p': pp, 'r6l': r6l, 'r12l': r12l, 'r6m': r6m,\n",
    "                    'r12m': r12m, 'r6h': r6h, 'r12h': r12h})\n",
    "fn = folder + \"hetero2.csv\"\n",
    "csv.to_csv(fn, index=False)"
   ]
  },
  {
   "cell_type": "code",
   "execution_count": 13,
   "metadata": {
    "ExecuteTime": {
     "end_time": "2019-08-30T15:42:00.693917Z",
     "start_time": "2019-08-30T15:42:00.503525Z"
    }
   },
   "outputs": [
    {
     "data": {
      "image/png": "[encoded data removed]",
      "text/plain": [
       "<Figure size 432x288 with 1 Axes>"
      ]
     },
     "metadata": {
      "needs_background": "light"
     },
     "output_type": "display_data"
    }
   ],
   "source": [
    "csv = pd.read_csv(folder + \"hetero2.csv\")\n",
    "plot(csv['p'].values, 1 / csv['r6h'].values, label=\"r6h\")\n",
    "plot(csv['p'].values, 1 / csv['r12h'].values, label=\"r12h\")\n",
    "plot(csv['p'].values, 1 / csv['r6m'].values, label=\"r6m\")\n",
    "plot(csv['p'].values, 1 / csv['r12m'].values, label=\"r12m\")\n",
    "xlim([0, 1])\n",
    "ymin, ymax = ylim() # return the current ylim\n",
    "ylim( (0, 5) ) # set the ylim to ymin, ymax\n",
    "legend(loc='best')\n",
    "show()"
   ]
  },
  {
   "cell_type": "markdown",
   "metadata": {},
   "source": [
    "## 4. Impact of locality (Subsection 6.4.2)"
   ]
  },
  {
   "cell_type": "markdown",
   "metadata": {},
   "source": [
    "### Cost of heterogeneity and locality"
   ]
  },
  {
   "cell_type": "code",
   "execution_count": 14,
   "metadata": {
    "ExecuteTime": {
     "end_time": "2019-08-30T15:42:01.219386Z",
     "start_time": "2019-08-30T15:42:00.696464Z"
    }
   },
   "outputs": [
    {
     "data": {
      "image/png": "[encoded data removed]",
      "text/plain": [
       "<Figure size 432x288 with 1 Axes>"
      ]
     },
     "metadata": {
      "needs_background": "light"
     },
     "output_type": "display_data"
    }
   ],
   "source": [
    "S = 100\n",
    "r = 10\n",
    "ρ = .9999\n",
    "\n",
    "Ls = line_Li(S, r, ρ)\n",
    "ring_delay = ring(S, r, ρ)\n",
    "range_a = line_L(S, r, ρ)\n",
    "range_i = Ls * (S - r + 1)\n",
    "R = global_homogeneous(S, r, ρ)\n",
    "\n",
    "plot([1, S - r + 1], 1. / (R * ones(2)), label=\"Global\")\n",
    "plot([1, S - r + 1], 1. / (ring_delay * ones(2)), label=\"Ring\")\n",
    "plot(range(1, S - r + 2), 1. / range_i, label=\"Line (classes)\")\n",
    "plot([1, S - r + 1], 1. / (range_a * ones(2)), label=\"Line (mean)\")\n",
    "xlim([1, S - r + 1])\n",
    "legend(loc='best')\n",
    "show()"
   ]
  },
  {
   "cell_type": "code",
   "execution_count": 15,
   "metadata": {
    "ExecuteTime": {
     "end_time": "2019-08-30T15:42:01.807974Z",
     "start_time": "2019-08-30T15:42:01.221366Z"
    }
   },
   "outputs": [
    {
     "data": {
      "image/png": "[encoded data removed]",
      "text/plain": [
       "<Figure size 432x288 with 1 Axes>"
      ]
     },
     "metadata": {
      "needs_background": "light"
     },
     "output_type": "display_data"
    }
   ],
   "source": [
    "S = 100\n",
    "r = 2\n",
    "ρ = .999\n",
    "\n",
    "Ls = line_Li(S, r, ρ)\n",
    "ring_delay = ring(S, r, ρ)\n",
    "range_a = line_L(S, r, ρ)\n",
    "range_i = Ls * (S - r + 1)\n",
    "R = global_homogeneous(S, r, ρ)\n",
    "\n",
    "plot([1, S - r + 1], 1. / (R * ones(2)), label=\"Global\")\n",
    "plot([1, S - r + 1], 1. / (ring_delay * ones(2)), label=\"Ring\")\n",
    "plot(range(1, S - r + 2), 1. / range_i, label=\"Line (classes)\")\n",
    "plot([1, S - r + 1], 1. / (range_a * ones(2)), label=\"Line (mean)\")\n",
    "xlim([0, S - r + 1])\n",
    "ymin, ymax = ylim()   # return the current ylim\n",
    "ylim( (0, ymax) )  # set the ylim to ymin, ymax\n",
    "legend(loc='best')\n",
    "show()"
   ]
  },
  {
   "cell_type": "code",
   "execution_count": 16,
   "metadata": {
    "ExecuteTime": {
     "end_time": "2019-08-30T15:42:01.818795Z",
     "start_time": "2019-08-30T15:42:01.810577Z"
    }
   },
   "outputs": [],
   "source": [
    "def load_study(S=100, r=10, ρ = .9):\n",
    "    c = arange(1, S - r + 2)\n",
    "    Li = line_Li(S, r, ρ) * (S - r + 1) / S / ρ\n",
    "    L = line_L(S, r, ρ) / S / ρ * ones(S - r + 1)\n",
    "    R = ring(S, r, ρ) / S / ρ * ones(S - r + 1)\n",
    "    G = global_homogeneous(S, r, ρ) / S / ρ * ones(S - r + 1)\n",
    "    csv = pd.DataFrame({'c': c, 'Li': Li, 'L': L, 'R': R, 'G': G})\n",
    "    csv.to_csv(folder + \"load_study_S_\" + str(S) + \"_r_\" + str(r) + \"_rho_\" + str(ρ) + \".csv\",\n",
    "               index=False)"
   ]
  },
  {
   "cell_type": "code",
   "execution_count": 17,
   "metadata": {
    "ExecuteTime": {
     "end_time": "2019-08-30T15:42:01.830741Z",
     "start_time": "2019-08-30T15:42:01.821773Z"
    }
   },
   "outputs": [],
   "source": [
    "def plot_local_study(S=100, r=10, ρ=.9):\n",
    "    try:\n",
    "        csv = pd.read_csv(folder + \"load_study_S_\" + str(S)\n",
    "                          + \"_r_\" + str(r) + \"_rho_\" + str(ρ) + \".csv\")\n",
    "    except:\n",
    "        load_study(S, r, ρ)\n",
    "        csv = pd.read_csv(folder + \"load_study_S_\" + str(S)\n",
    "                          + \"_r_\" + str(r) + \"_rho_\" + str(ρ) + \".csv\")\n",
    "    plot(csv['c'].values, 1. / csv['G'].values, label=\"Global\")\n",
    "    plot(csv['c'].values, 1. / csv['R'].values, label=\"Ring\")\n",
    "    plot(csv['c'].values, 1. / csv['L'].values, label=\"Line (Mean)\")\n",
    "    plot(csv['c'].values, 1. / csv['Li'].values, label=\"Line (Classes)\")\n",
    "    xlim([1, S - r + 1])\n",
    "    legend(loc='best')\n",
    "    show()"
   ]
  },
  {
   "cell_type": "code",
   "execution_count": 18,
   "metadata": {
    "ExecuteTime": {
     "end_time": "2019-08-30T15:42:02.401217Z",
     "start_time": "2019-08-30T15:42:01.833288Z"
    }
   },
   "outputs": [
    {
     "data": {
      "image/png": "[encoded data removed]",
      "text/plain": [
       "<Figure size 432x288 with 1 Axes>"
      ]
     },
     "metadata": {
      "needs_background": "light"
     },
     "output_type": "display_data"
    }
   ],
   "source": [
    "plot_local_study(ρ=.5)"
   ]
  },
  {
   "cell_type": "markdown",
   "metadata": {},
   "source": [
    "### Impact of the parameters"
   ]
  },
  {
   "cell_type": "markdown",
   "metadata": {},
   "source": [
    "#### Load $\\rho$"
   ]
  },
  {
   "cell_type": "code",
   "execution_count": 19,
   "metadata": {
    "ExecuteTime": {
     "end_time": "2019-08-30T15:42:02.412606Z",
     "start_time": "2019-08-30T15:42:02.403005Z"
    }
   },
   "outputs": [],
   "source": [
    "def load_study_rho(S=100, r=10, step=.001):\n",
    "    ρρ = arange(step, 1, step)\n",
    "    I = len(ρρ)\n",
    "    L = zeros(I)\n",
    "    R = zeros(I)\n",
    "    G = zeros(I)\n",
    "    for i, ρ in enumerate(ρρ):\n",
    "        norm = S * ρ\n",
    "        L[i] = line_L(S, r, ρ) / norm\n",
    "        R[i] = ring(S, r, ρ) / norm\n",
    "        G[i] = global_homogeneous(S, r, ρ) / norm\n",
    "    csv = pd.DataFrame({'rho': ρρ, 'L': L, 'R': R, 'G': G})\n",
    "    csv.to_csv(folder + \"load_study_rho_S_\" + str(S) + \"_r_\" + str(r) + \".csv\",\n",
    "               index=False)"
   ]
  },
  {
   "cell_type": "code",
   "execution_count": 20,
   "metadata": {
    "ExecuteTime": {
     "end_time": "2019-08-30T15:42:02.424235Z",
     "start_time": "2019-08-30T15:42:02.416030Z"
    }
   },
   "outputs": [],
   "source": [
    "def plot_local_study_rho(S=100, r=10, step=.001):\n",
    "    try:\n",
    "        csv = pd.read_csv(folder + \"load_study_rho_S_\" + str(S) + \"_r_\" + str(r) + \".csv\")\n",
    "    except:\n",
    "        load_study_rho(S, r, step)\n",
    "        csv = pd.read_csv(folder + \"load_study_rho_S_\" + str(S) + \"_r_\" + str(r) + \".csv\")\n",
    "    plot(csv['rho'].values, 1. / csv['G'].values, label=\"Global\")\n",
    "    plot(csv['rho'].values, 1. / csv['R'].values, label=\"Ring\")\n",
    "    plot(csv['rho'].values, 1. / csv['L'].values, label=\"Line\")\n",
    "    xlim([0,1]); ylim(ymin=0)\n",
    "    legend(loc='best')\n",
    "    show()"
   ]
  },
  {
   "cell_type": "code",
   "execution_count": 21,
   "metadata": {
    "ExecuteTime": {
     "end_time": "2019-08-30T15:42:22.605113Z",
     "start_time": "2019-08-30T15:42:02.432001Z"
    }
   },
   "outputs": [
    {
     "data": {
      "image/png": "[encoded data removed]",
      "text/plain": [
       "<Figure size 432x288 with 1 Axes>"
      ]
     },
     "metadata": {
      "needs_background": "light"
     },
     "output_type": "display_data"
    }
   ],
   "source": [
    "plot_local_study_rho(100, 10, step=.001)"
   ]
  },
  {
   "cell_type": "markdown",
   "metadata": {},
   "source": [
    "#### Parallelism degree $r$"
   ]
  },
  {
   "cell_type": "code",
   "execution_count": 22,
   "metadata": {
    "ExecuteTime": {
     "end_time": "2019-08-30T15:42:22.619445Z",
     "start_time": "2019-08-30T15:42:22.608819Z"
    }
   },
   "outputs": [],
   "source": [
    "def load_study_r(S=100, ρ=.9):\n",
    "    rr = arange(1, S+1)\n",
    "    I = len(rr)\n",
    "    L = zeros(I)\n",
    "    R = zeros(I)\n",
    "    G = zeros(I)\n",
    "    for i, r in enumerate(rr):\n",
    "        norm = S * ρ\n",
    "        L[i] = line_L(S, r, ρ) / norm\n",
    "        R[i] = ring(S, r, ρ) / norm\n",
    "        G[i] = global_homogeneous(S, r, ρ) / norm\n",
    "    csv = pd.DataFrame({'r': rr, 'L': L, 'R': R, 'G': G})\n",
    "    csv.to_csv(folder + \"load_study_r_S_\" + str(S) + \"_rho_\" + str(ρ) + \".csv\",\n",
    "               index=False)"
   ]
  },
  {
   "cell_type": "code",
   "execution_count": 23,
   "metadata": {
    "ExecuteTime": {
     "end_time": "2019-08-30T15:42:22.634867Z",
     "start_time": "2019-08-30T15:42:22.623984Z"
    }
   },
   "outputs": [],
   "source": [
    "def plot_local_study_r(S=100, ρ=.9):\n",
    "    try:\n",
    "        csv = pd.read_csv(folder + \"load_study_r_S_\" + str(S) + \"_rho_\" + str(ρ) + \".csv\")\n",
    "    except:\n",
    "        load_study_r(S, ρ)\n",
    "        csv = pd.read_csv(folder + \"load_study_r_S_\" + str(S) + \"_rho_\" + str(ρ) + \".csv\")\n",
    "    plot(csv['r'].values, 1. / csv['G'].values, label=\"Global\")\n",
    "    plot(csv['r'].values, 1. / csv['R'].values, label=\"Ring\")\n",
    "    plot(csv['r'].values, 1. / csv['L'].values, label=\"Line\")\n",
    "    xlim([1,S]); ylim(ymin=0)\n",
    "    legend(loc='best')\n",
    "    show()"
   ]
  },
  {
   "cell_type": "code",
   "execution_count": 24,
   "metadata": {
    "ExecuteTime": {
     "end_time": "2019-08-30T15:42:24.312207Z",
     "start_time": "2019-08-30T15:42:22.639305Z"
    }
   },
   "outputs": [
    {
     "data": {
      "image/png": "[encoded data removed]",
      "text/plain": [
       "<Figure size 432x288 with 1 Axes>"
      ]
     },
     "metadata": {
      "needs_background": "light"
     },
     "output_type": "display_data"
    }
   ],
   "source": [
    "plot_local_study_r(100, .9)"
   ]
  },
  {
   "cell_type": "markdown",
   "metadata": {},
   "source": [
    "#### Number $S$ of servers"
   ]
  },
  {
   "cell_type": "code",
   "execution_count": 25,
   "metadata": {
    "ExecuteTime": {
     "end_time": "2019-08-30T15:42:24.329153Z",
     "start_time": "2019-08-30T15:42:24.315439Z"
    }
   },
   "outputs": [],
   "source": [
    "def load_study_S(Smax=100, r=10, ρ=.9):\n",
    "    SS = arange(r + 1, Smax + 1)\n",
    "    I = len(SS)\n",
    "    L = zeros(I)\n",
    "    R = zeros(I)\n",
    "    G = zeros(I)\n",
    "    for i, S in enumerate(SS):\n",
    "        norm = S * ρ\n",
    "        L[i] = line_L(S, r, ρ) / norm\n",
    "        R[i] = ring(S, r, ρ) / norm\n",
    "        G[i] = global_homogeneous(S, r, ρ) / norm\n",
    "    csv = pd.DataFrame({'S': SS, 'L': L, 'R': R, 'G': G})\n",
    "    csv.to_csv(folder + \"load_study_S_Smax_\" + str(Smax)\n",
    "               + \"_r_\" + str(r) + \"_rho_\" + str(ρ) + \".csv\",\n",
    "               index=False)"
   ]
  },
  {
   "cell_type": "code",
   "execution_count": 26,
   "metadata": {
    "ExecuteTime": {
     "end_time": "2019-08-30T15:42:24.345155Z",
     "start_time": "2019-08-30T15:42:24.332076Z"
    }
   },
   "outputs": [],
   "source": [
    "def plot_local_study_S(Smax=100, r=10, ρ=.9):\n",
    "    try:\n",
    "        csv = pd.read_csv(folder + \"load_study_S_Smax_\" + str(Smax)\n",
    "                          + \"_r_\" + str(r) + \"_rho_\" + str(ρ) + \".csv\")\n",
    "    except:\n",
    "        load_study_S(Smax, r, ρ)\n",
    "        csv = pd.read_csv(folder + \"load_study_S_Smax_\" + str(Smax)\n",
    "                          + \"_r_\" + str(r) + \"_rho_\" + str(ρ) + \".csv\")\n",
    "    plot(csv['S'].values, 1 / csv['G'].values, label=\"Global\")\n",
    "    plot(csv['S'].values, 1 / csv['R'].values, label=\"Ring\")\n",
    "    plot(csv['S'].values, 1 / csv['L'].values, label=\"Line\")\n",
    "    xlim([r + 1, Smax]); ylim(ymin=0)\n",
    "    legend(loc='best')\n",
    "    show()"
   ]
  },
  {
   "cell_type": "code",
   "execution_count": 27,
   "metadata": {
    "ExecuteTime": {
     "end_time": "2019-08-30T15:42:41.201359Z",
     "start_time": "2019-08-30T15:42:24.350266Z"
    }
   },
   "outputs": [
    {
     "data": {
      "image/png": "[encoded data removed]",
      "text/plain": [
       "<Figure size 432x288 with 1 Axes>"
      ]
     },
     "metadata": {
      "needs_background": "light"
     },
     "output_type": "display_data"
    }
   ],
   "source": [
    "plot_local_study_S(300)"
   ]
  }
 ],
 "metadata": {
  "kernelspec": {
   "display_name": "Python 3",
   "language": "python3",
   "name": "python3"
  },
  "language_info": {
   "codemirror_mode": {
    "name": "ipython",
    "version": 3
   },
   "file_extension": ".py",
   "mimetype": "text/x-python",
   "name": "python",
   "nbconvert_exporter": "python",
   "pygments_lexer": "ipython3",
   "version": "3.6.8"
  },
  "toc": {
   "base_numbering": 1,
   "nav_menu": {},
   "number_sections": false,
   "sideBar": true,
   "skip_h1_title": true,
   "title_cell": "Table of Contents",
   "title_sidebar": "Contents",
   "toc_cell": false,
   "toc_position": {},
   "toc_section_display": true,
   "toc_window_display": false
  }
 },
 "nbformat": 4,
 "nbformat_minor": 2
}
