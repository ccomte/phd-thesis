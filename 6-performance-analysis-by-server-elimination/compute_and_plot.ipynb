{
 "cells": [
  {
   "cell_type": "markdown",
   "metadata": {},
   "source": [
    "# Chapter 6. Performance analysis by server elimination\n",
    "\n",
    "# Céline Comte and Fabien Mathieu"
   ]
  },
  {
   "cell_type": "markdown",
   "metadata": {},
   "source": [
    "This Notebook computes and plots the numerical results of Chapter 6 in the Ph.D. thesis *Resource management in computer clusters: algorithm design and performance analysis* by Céline Comte. Sections 1 and 2 of this Notebook define functions for computing the results, while Sections 3 and 4 effectively plot them. In parentheses, next to each section title, we give the reference to the corresponding section or subsection in the manuscript. We are interested by the probability $\\psi$ that the queue is empty and the expected number $L$ of customers in the queue."
   ]
  },
  {
   "cell_type": "markdown",
   "metadata": {
    "heading_collapsed": true
   },
   "source": [
    "## Package imports"
   ]
  },
  {
   "cell_type": "code",
   "execution_count": 1,
   "metadata": {
    "ExecuteTime": {
     "end_time": "2019-10-23T08:33:37.350519Z",
     "start_time": "2019-10-23T08:33:36.812940Z"
    },
    "hidden": true,
    "scrolled": true
   },
   "outputs": [],
   "source": [
    "import numpy as np\n",
    "import matplotlib.pyplot as plt\n",
    "import pandas as pd"
   ]
  },
  {
   "cell_type": "code",
   "execution_count": 2,
   "metadata": {
    "ExecuteTime": {
     "end_time": "2019-10-23T08:33:37.354767Z",
     "start_time": "2019-10-23T08:33:37.352314Z"
    },
    "hidden": true
   },
   "outputs": [],
   "source": [
    "folder = \"data/\""
   ]
  },
  {
   "cell_type": "markdown",
   "metadata": {
    "heading_collapsed": true
   },
   "source": [
    "## 1. Random customer assignment (Section 6.2)"
   ]
  },
  {
   "cell_type": "markdown",
   "metadata": {
    "heading_collapsed": true,
    "hidden": true
   },
   "source": [
    "### Homogeneous queue (Subsection 6.2.1)"
   ]
  },
  {
   "cell_type": "markdown",
   "metadata": {
    "hidden": true
   },
   "source": [
    "**Formula.**\n",
    "We have\n",
    "$$\n",
    "\\psi = \\prod_{s=r}^S \\left( 1 - \\rho_{|s} \\right)\n",
    "\\quad \\text{and} \\quad\n",
    "L = \\sum_{s=r}^S \\frac{ \\rho_{|s} }{ 1 - \\rho_{|s} },\n",
    "$$\n",
    "where\n",
    "$$\n",
    "\\rho_{|s}\n",
    "= \\frac1{s \\mu} \\frac{ \\binom{s}{r} }{ \\binom{S}{r} } S \\lambda\n",
    "= \\rho \\frac{ \\binom{s-1}{r-1} }{ \\binom{S-1}{r-1} }\n",
    "$$\n",
    "is the load in the subqueue restricted to $s$ arbitrary servers.\n",
    "\n",
    "**Implementation.**\n",
    "We just need to compute\n",
    "$$\n",
    "    b_s = \\binom{s-1}{r-1}, \\quad \\forall s = r, \\ldots, S.\n",
    "$$\n",
    "We have $b_r = 1$ and, for each $s = r+1,\\ldots,S$,\n",
    "$$\n",
    "    b_s\n",
    "    = \\frac{ (s-1)! }{ (r-1)! (s-r)! }\n",
    "    = \\frac{s-1}{s-r} \\frac{ ((s-1)-1)! }{ (r-1)! ((s-1)-r)! }\n",
    "    = \\left( 1 + \\frac{r-1}{s-r} \\right) b_{s-1}.\n",
    "$$\n",
    "We use this last equality to recursively compute $b_s$ for each $s = r+1,\\ldots,S$."
   ]
  },
  {
   "cell_type": "code",
   "execution_count": 3,
   "metadata": {
    "ExecuteTime": {
     "end_time": "2019-10-23T08:33:37.415911Z",
     "start_time": "2019-10-23T08:33:37.357053Z"
    },
    "hidden": true
   },
   "outputs": [],
   "source": [
    "def global_homogeneous(S=10, r=3, ρ=.5):\n",
    "    b = np.ones(S - r + 1, dtype=float)\n",
    "    b[1:] = np.cumprod(1 + (r - 1) / np.arange(1, S - r + 1))\n",
    "    b /= b[-1]\n",
    "    ρs = ρ * b\n",
    "    return np.sum(ρs / (1 - ρs))"
   ]
  },
  {
   "cell_type": "markdown",
   "metadata": {
    "heading_collapsed": true,
    "hidden": true
   },
   "source": [
    "### Heterogeneous degrees (Subsection 6.2.2)"
   ]
  },
  {
   "cell_type": "markdown",
   "metadata": {
    "hidden": true
   },
   "source": [
    "**Formula.** We again have\n",
    "$$\n",
    "\\psi = \\prod_{s=r}^S \\left( 1 - \\rho_{|s} \\right)\n",
    "\\quad \\text{and} \\quad\n",
    "L = \\sum_{s=r}^S \\frac{ \\rho_{|s} }{ 1 - \\rho_{|s} },\n",
    "$$\n",
    "except that the load is the queue restricted to $s$ arbitrary servers\n",
    "is now given by\n",
    "$$\n",
    "\\rho_{|s} = \\frac1{ s \\mu }\n",
    "\\sum_{k=1}^K \\frac{ \\binom{s}{r_k} }{ \\binom{S}{r_k} } S \\lambda p_k\n",
    "= \\rho \\sum_{k=1}^K \\frac{ \\binom{s-1}{r_k-1} }{ \\binom{S-1}{r_k-1} } p_k.\n",
    "$$\n",
    "Furthermore, the expected number of type-$k$ customers is given by\n",
    "$$\n",
    "L_k = \\sum_{s=r_k}^S \\frac{ \\rho_{k|s} }{ 1 - \\rho_{k|s} },\n",
    "\\quad \\text{with} \\quad\n",
    "\\rho_{k \\mid s} = \\frac\n",
    "{ \\displaystyle \\rho \\frac{ \\binom{s-1}{r_k-1} }{ \\binom{S-1}{r_k-1} } p_k }\n",
    "{ \\displaystyle 1 - \\rho \\sum_{\\substack{\\ell=1 \\\\ \\ell \\neq k}}^K\n",
    "    \\frac{ \\binom{s-1}{r_\\ell-1} }{ \\binom{S-1}{r_\\ell-1} } p_\\ell }.\n",
    "$$\n",
    "\n",
    "**Implementation.**\n",
    "We let\n",
    "$$\n",
    "b_{k,s} = \\frac{ \\binom{s-1}{r_k-1} }{ \\binom{S-1}{r_k-1} } p_k,\n",
    "\\quad \\forall k = 1,\\ldots,K,\n",
    "\\quad \\forall s = r_k,\\ldots,S.\n",
    "$$\n",
    "For each $k = 1,\\ldots,K$,\n",
    "we compute these coefficients by induction on $s$, using the formula:\n",
    "$$\n",
    "\\binom{s-1}{r_k-1}\n",
    "= \\left( 1 + \\frac{r_k-1}{s-r_k} \\right)\n",
    "\\times \\binom{(s-1)-1}{r_k-1}.\n",
    "$$\n",
    "Then we let $w_s = b_{1,s} + \\ldots + b_{K,s}$ for each $s = 1,\\ldots,S$.\n",
    "\n",
    "We can express all metrics as functions of these quantities, as we have\n",
    "$\\rho_{|s} = \\rho \\cdot w_s$\n",
    "and\n",
    "$$\n",
    "\\rho_{k|s} = \\frac{ \\rho \\cdot b_{k,s} }{ 1 - \\rho (w_s - b_{k,s}) }.\n",
    "$$"
   ]
  },
  {
   "cell_type": "code",
   "execution_count": 4,
   "metadata": {
    "ExecuteTime": {
     "end_time": "2019-10-23T08:33:37.474355Z",
     "start_time": "2019-10-23T08:33:37.422515Z"
    },
    "hidden": true
   },
   "outputs": [],
   "source": [
    "def global_heterogeneous(S, r, p, ρ):\n",
    "    K = len(r);\n",
    "    b = np.zeros((K, S), dtype=float)\n",
    "    for k in range(K):\n",
    "        b[k, r[k] - 1] = 1.\n",
    "        b[k, r[k]:] = np.cumprod(1 + (r[k] - 1) / np.arange(1, S - r[k] + 1))\n",
    "        b[k, :] *= p[k] / b[k, -1]\n",
    "    w = np.sum(b, axis=0)\n",
    "\n",
    "    Lk = np.zeros(K)\n",
    "\n",
    "    ρs = ρ * w\n",
    "    ψ = np.prod(1. - ρs)\n",
    "    L = np.sum(ρs / (1. - ρs))\n",
    "    for k in range(K):\n",
    "        ρks = ρ * b[k, :] / (1. - ρ * (w - b[k, :]))\n",
    "        Lk[k] = np.sum(ρks / (1. - ρks))\n",
    "\n",
    "    return ψ, L / S / ρ, Lk / S / ρ / p"
   ]
  },
  {
   "cell_type": "markdown",
   "metadata": {
    "heading_collapsed": true
   },
   "source": [
    "## 2. Local assignment (Section 6.3)"
   ]
  },
  {
   "cell_type": "markdown",
   "metadata": {
    "heading_collapsed": true,
    "hidden": true
   },
   "source": [
    "### Random customer assignment (Subsection 6.3.3)"
   ]
  },
  {
   "cell_type": "markdown",
   "metadata": {
    "hidden": true
   },
   "source": [
    "With $ \\displaystyle \\rho_{|s} = \\frac{1-\\frac{r-1}{s}}{1-\\frac{r-1}{S}}\\rho$, the probability that the system is empty is $\\psi = \\psi_{|1..S}$ , where\n",
    "$$\n",
    "\\psi_{|1..s}\n",
    "= \\frac{s}{\\sum_{t=1}^{s}\\frac{1}{\\psi_{|1..t-1}\\psi_{|1..s-t}}},\n",
    "\\quad \\forall s = r,\\ldots,S,\n",
    "$$\n",
    "with the base case $\\psi_{|1..s} = 1$ for $s = 1,\\ldots,r-1$."
   ]
  },
  {
   "cell_type": "code",
   "execution_count": 5,
   "metadata": {
    "ExecuteTime": {
     "end_time": "2019-10-23T08:33:37.533817Z",
     "start_time": "2019-10-23T08:33:37.476740Z"
    },
    "hidden": true
   },
   "outputs": [],
   "source": [
    "def line_ψ(S=10, r=3, ρ=.5):\n",
    "    ψ = np.ones(S + 1)\n",
    "    for s in range(r, S + 1):\n",
    "        ρs = ρ * (1 - (r - 1) / s) / (1 - (r - 1) / S)\n",
    "        ψ[s] = (1 - ρs) * s / np.sum([1 / ψ[t-1] / ψ[s-t] for t in range(1, s+1)])\n",
    "    return ψ"
   ]
  },
  {
   "cell_type": "markdown",
   "metadata": {
    "hidden": true
   },
   "source": [
    "For each $t = 1, \\ldots, S-r+1$, the expected number of class-$t$ customers in the queue is $L_{t} = L_{t|1..S}$, where\n",
    "\\begin{equation}\n",
    "\tL_{t | 1..s} = \\frac{ \\displaystyle\n",
    "\t\t\\frac\\rho{ 1 - \\frac{r-1}S }\n",
    "\t\t+ \\psi_{|1..s} \\left(\n",
    "\t\t\\sum_{u=1}^{t-1} \\frac{ L_{t-u | 1..s-u} }\n",
    "\t\t{ \\psi_{|1..u-1} \\psi_{| 1..s-u} }\n",
    "\t\t+ \\sum_{u=t+r}^s \\frac{ L_{t | 1..u-1} }\n",
    "\t\t{ \\psi_{|1..u-1} \\psi_{|1..s-u} }\n",
    "\t\t\\right)\n",
    "\t}{ s (1 - \\rho_{|1..s}) },\n",
    "    \\quad \\forall s = t, \\ldots, S,\n",
    "\\end{equation}\n",
    "with the base case $L_{t | 1..s} = 0$ for $s = 1,\\ldots,t-1$."
   ]
  },
  {
   "cell_type": "code",
   "execution_count": 6,
   "metadata": {
    "ExecuteTime": {
     "end_time": "2019-10-23T08:33:37.588029Z",
     "start_time": "2019-10-23T08:33:37.536961Z"
    },
    "hidden": true
   },
   "outputs": [],
   "source": [
    "def line_Lt(S=10, r=3, ρ=.5):\n",
    "    ψ = line_ψ(S, r, ρ)\n",
    "    Lt = np.zeros([S - r + 2, S + 1])\n",
    "    for t in range(1, S - r + 2):\n",
    "        for s in range(t + r - 1, S + 1):\n",
    "            ρs = ρ * (1 - (r - 1) / s) / (1 - (r - 1) / S)\n",
    "            Lt[t, s] = ((ρ / (1 - (r - 1) / S)\n",
    "                        + ψ[s] * (np.sum([Lt[t-u, s-u] / ψ[u-1] / ψ[s-u] for u in range(1, t)])\n",
    "                                  + np.sum([Lt[t, u-1] / ψ[u-1] / ψ[s-u] for u in range(t+r, s+1)])))\n",
    "                       / s / (1 - ρs))\n",
    "    return Lt[1:,-1]"
   ]
  },
  {
   "cell_type": "markdown",
   "metadata": {
    "hidden": true
   },
   "source": [
    "The expected number of customers in the queue is $L = L_{|1..S}$, where\n",
    "\\begin{equation}\n",
    "L_{|1..s} = \\frac{ \\displaystyle\n",
    "\t\t\\rho_{|s}+\\frac{\\psi_{|1..s}}{s}\\sum_{t=1}^{s}\\frac{L_{|1..t-1}+L_{|1..s-t}}{\\psi_{|1..t-1}\\psi_{|1..s-t}}\n",
    "\t}{1-\\rho_{|s}\n",
    "},\n",
    "\\quad \\forall s = r,\\ldots,S,\n",
    "\\end{equation}\n",
    "with the base case $L_{|1..s} = 0$ for $s = 1,\\ldots,r-1$.\n",
    "\n",
    "We check with a specific function that it matches the Lis."
   ]
  },
  {
   "cell_type": "code",
   "execution_count": 7,
   "metadata": {
    "ExecuteTime": {
     "end_time": "2019-10-23T08:33:37.643809Z",
     "start_time": "2019-10-23T08:33:37.590348Z"
    },
    "hidden": true
   },
   "outputs": [],
   "source": [
    "def line_L(S=10, r=3, ρ=.5):\n",
    "    ψ = line_ψ(S, r, ρ)\n",
    "    L = np.zeros(S + 1)\n",
    "    for s in range(r, S + 1):\n",
    "        ρs = ρ * (1 - (r - 1) / s) / (1 - (r - 1) / S)\n",
    "        L[s] = (ρs + ψ[s] / s * np.sum([(L[t-1] + L[s-t]) / ψ[t-1] / ψ[s-t]\n",
    "                                        for t in range(1, s + 1)])) / (1 - ρs)\n",
    "    return L[-1]"
   ]
  },
  {
   "cell_type": "markdown",
   "metadata": {
    "heading_collapsed": true,
    "hidden": true
   },
   "source": [
    "### Ring queue (Subsection 6.3.4)"
   ]
  },
  {
   "cell_type": "markdown",
   "metadata": {
    "hidden": true
   },
   "source": [
    "We use the fact that removing a server from a ring queue gives a line queue.\n",
    "Specifically, after simplifications, we obtain that the expected number of customers in the ring queue is given by\n",
    "$$\n",
    "L = \\frac{\\rho}{1-\\rho} + L',\n",
    "$$\n",
    "where $L'$ is the expected number of customers in a homogeneous line queue, in which customers are assigned to $r$ servers among $S-1$, subject to the load $\\rho' = (1 - \\frac{r-1}{S-1}) \\rho$."
   ]
  },
  {
   "cell_type": "code",
   "execution_count": 8,
   "metadata": {
    "ExecuteTime": {
     "end_time": "2019-10-23T08:33:37.701065Z",
     "start_time": "2019-10-23T08:33:37.648236Z"
    },
    "hidden": true
   },
   "outputs": [],
   "source": [
    "def ring_L(S=10, r=3, ρ=.5):\n",
    "    return ρ / (1 - ρ) + line_L(S - 1, r, (1 - (r - 1) / (S - 1)) * ρ)"
   ]
  },
  {
   "cell_type": "markdown",
   "metadata": {
    "heading_collapsed": true
   },
   "source": [
    "## 3. Gain of differentiation (Subsection 6.4.1)"
   ]
  },
  {
   "cell_type": "markdown",
   "metadata": {
    "heading_collapsed": true,
    "hidden": true
   },
   "source": [
    "### Impact of load"
   ]
  },
  {
   "cell_type": "code",
   "execution_count": 9,
   "metadata": {
    "ExecuteTime": {
     "end_time": "2019-10-23T08:33:37.771684Z",
     "start_time": "2019-10-23T08:33:37.703251Z"
    },
    "hidden": true
   },
   "outputs": [],
   "source": [
    "def diff_study(S=100, step=.001):\n",
    "    ρρ = np.arange(step, 1, step)\n",
    "    I = len(ρρ)\n",
    "    r6 = np.zeros(I)\n",
    "    r8 = np.zeros(I)\n",
    "    r9 = np.zeros(I)\n",
    "    r12 = np.zeros(I)\n",
    "    rm = np.zeros(I)\n",
    "    r6m = np.zeros(I)\n",
    "    r12m = np.zeros(I)\n",
    "\n",
    "    for i, ρ in enumerate(ρρ):\n",
    "        _, r6[i], _ = global_heterogeneous(S, [4], [1], ρ)  # 6\n",
    "        _, r8[i], _ = global_heterogeneous(S, [8], [1], ρ)\n",
    "        _, r9[i], _ = global_heterogeneous(S, [9], [1], ρ)\n",
    "        _, r12[i], _ = global_heterogeneous(S, [14], [1], ρ)  # 12\n",
    "        _, rm[i], R = global_heterogeneous(S, [4, 14], [.5, .5], ρ)  # mix\n",
    "        r6m[i] = R[0]\n",
    "        r12m[i] = R[1]\n",
    "    csv = pd.DataFrame({'rho': ρρ, 'd6': r6, 'd8': r8, 'd9': r9,\n",
    "                        'd12': r12, 'd6m': r6m, 'd12m': r12m, 'dm': rm})\n",
    "    fn = folder + \"hetero1_\" + str(S) + \".csv\"\n",
    "    csv.to_csv(fn, index=False)"
   ]
  },
  {
   "cell_type": "code",
   "execution_count": 10,
   "metadata": {
    "ExecuteTime": {
     "end_time": "2019-10-23T08:33:38.198710Z",
     "start_time": "2019-10-23T08:33:37.773652Z"
    },
    "hidden": true
   },
   "outputs": [],
   "source": [
    "diff_study()"
   ]
  },
  {
   "cell_type": "code",
   "execution_count": 11,
   "metadata": {
    "ExecuteTime": {
     "end_time": "2019-10-23T08:33:38.401057Z",
     "start_time": "2019-10-23T08:33:38.201337Z"
    },
    "hidden": true
   },
   "outputs": [
    {
     "data": {
      "image/png": "[encoded data removed]",
      "text/plain": [
       "<Figure size 432x288 with 1 Axes>"
      ]
     },
     "metadata": {
      "needs_background": "light"
     },
     "output_type": "display_data"
    }
   ],
   "source": [
    "csv = pd.read_csv(folder + \"hetero1_100.csv\")\n",
    "\n",
    "plt.plot(csv['rho'].values, 1 / csv['d6'].values, label=\"r6\")\n",
    "plt.plot(csv['rho'].values, 1 / csv['d6m'].values, label=\"r6m\")\n",
    "plt.plot(csv['rho'].values, 1 / csv['d12m'].values, label=\"r12m\")\n",
    "plt.plot(csv['rho'].values, 1 / csv['d12'].values, label=\"r12\")\n",
    "\n",
    "plt.xlabel('Load'); plt.ylabel('Mean service rate')\n",
    "plt.xlim([0, 1]); plt.ylim(ymin=0)\n",
    "plt.legend(loc='best')\n",
    "plt.show()"
   ]
  },
  {
   "cell_type": "markdown",
   "metadata": {
    "heading_collapsed": true,
    "hidden": true
   },
   "source": [
    "### Impact of population distribution"
   ]
  },
  {
   "cell_type": "code",
   "execution_count": 12,
   "metadata": {
    "ExecuteTime": {
     "end_time": "2019-10-23T08:33:38.710480Z",
     "start_time": "2019-10-23T08:33:38.403465Z"
    },
    "code_folding": [],
    "hidden": true
   },
   "outputs": [],
   "source": [
    "S = 100\n",
    "step = .001\n",
    "ρl = .2\n",
    "ρm = .9\n",
    "ρh = .99\n",
    "\n",
    "pp = np.arange(step, 1, step)\n",
    "I = len(pp)\n",
    "r6l = np.zeros(I)\n",
    "r12l = np.zeros(I)\n",
    "r6m = np.zeros(I)\n",
    "r12m = np.zeros(I)\n",
    "r6h = np.zeros(I)\n",
    "r12h = np.zeros(I)\n",
    "\n",
    "degrees = [6, 12]\n",
    "\n",
    "for i, p in enumerate(pp):\n",
    "    _, _, r = global_heterogeneous(S, degrees, [p, 1 - p], ρl)\n",
    "    r6l[i] = r[0]\n",
    "    r12l[i] = r[1]\n",
    "    _, _, r = global_heterogeneous(S, degrees, [p, 1 - p], ρm)\n",
    "    r6m[i] = r[0]\n",
    "    r12m[i] = r[1]\n",
    "    _, _, r = global_heterogeneous(S, degrees, [p, 1 - p], ρh)\n",
    "    r6h[i] = r[0]\n",
    "    r12h[i] = r[1]\n",
    "\n",
    "csv = pd.DataFrame({'p': pp, 'r6l': r6l, 'r12l': r12l, 'r6m': r6m,\n",
    "                    'r12m': r12m, 'r6h': r6h, 'r12h': r12h})\n",
    "fn = folder + \"hetero2.csv\"\n",
    "csv.to_csv(fn, index=False)"
   ]
  },
  {
   "cell_type": "code",
   "execution_count": 13,
   "metadata": {
    "ExecuteTime": {
     "end_time": "2019-10-23T08:33:38.914291Z",
     "start_time": "2019-10-23T08:33:38.712577Z"
    },
    "hidden": true
   },
   "outputs": [
    {
     "data": {
      "image/png": "[encoded data removed]",
      "text/plain": [
       "<Figure size 432x288 with 1 Axes>"
      ]
     },
     "metadata": {
      "needs_background": "light"
     },
     "output_type": "display_data"
    }
   ],
   "source": [
    "csv = pd.read_csv(folder + \"hetero2.csv\")\n",
    "\n",
    "plt.plot(csv['p'].values, 1 / csv['r6h'].values, label=\"r6h\")\n",
    "plt.plot(csv['p'].values, 1 / csv['r12h'].values, label=\"r12h\")\n",
    "plt.plot(csv['p'].values, 1 / csv['r6m'].values, label=\"r6m\")\n",
    "plt.plot(csv['p'].values, 1 / csv['r12m'].values, label=\"r12m\")\n",
    "\n",
    "plt.xlabel('Proportion of regular customers')\n",
    "plt.ylabel('Mean service rate')\n",
    "plt.xlim([0, 1]); plt.ylim(ymin=0)\n",
    "plt.legend(loc='best')\n",
    "plt.show()"
   ]
  },
  {
   "cell_type": "markdown",
   "metadata": {
    "heading_collapsed": true
   },
   "source": [
    "## 4. Impact of locality (Subsection 6.4.2)"
   ]
  },
  {
   "cell_type": "markdown",
   "metadata": {
    "heading_collapsed": true,
    "hidden": true
   },
   "source": [
    "### Cost of heterogeneity and locality"
   ]
  },
  {
   "cell_type": "code",
   "execution_count": 14,
   "metadata": {
    "ExecuteTime": {
     "end_time": "2019-10-23T08:33:39.436781Z",
     "start_time": "2019-10-23T08:33:38.916066Z"
    },
    "hidden": true
   },
   "outputs": [
    {
     "data": {
      "image/png": "[encoded data removed]",
      "text/plain": [
       "<Figure size 432x288 with 1 Axes>"
      ]
     },
     "metadata": {
      "needs_background": "light"
     },
     "output_type": "display_data"
    }
   ],
   "source": [
    "S = 100\n",
    "r = 10\n",
    "ρ = .9999\n",
    "\n",
    "Ls = line_Lt(S, r, ρ)\n",
    "ring_delay = ring_L(S, r, ρ)\n",
    "range_a = line_L(S, r, ρ)\n",
    "range_i = Ls * (S - r + 1)\n",
    "R = global_homogeneous(S, r, ρ)\n",
    "\n",
    "plt.plot([1, S - r + 1], 1. / (R * np.ones(2)), label=\"Global\")\n",
    "plt.plot([1, S - r + 1], 1. / (ring_delay * np.ones(2)), label=\"Ring\")\n",
    "plt.plot(range(1, S - r + 2), 1. / range_i, label=\"Line (classes)\")\n",
    "plt.plot([1, S - r + 1], 1. / (range_a * np.ones(2)), label=\"Line (mean)\")\n",
    "\n",
    "plt.xlabel('Class'); plt.ylabel('Mean service rate')\n",
    "plt.xlim([1, S - r + 1])\n",
    "plt.legend(loc='best')\n",
    "plt.show()"
   ]
  },
  {
   "cell_type": "code",
   "execution_count": 15,
   "metadata": {
    "ExecuteTime": {
     "end_time": "2019-10-23T08:33:40.025219Z",
     "start_time": "2019-10-23T08:33:39.439822Z"
    },
    "hidden": true
   },
   "outputs": [
    {
     "data": {
      "image/png": "[encoded data removed]",
      "text/plain": [
       "<Figure size 432x288 with 1 Axes>"
      ]
     },
     "metadata": {
      "needs_background": "light"
     },
     "output_type": "display_data"
    }
   ],
   "source": [
    "S = 100\n",
    "r = 2\n",
    "ρ = .999\n",
    "\n",
    "Ls = line_Lt(S, r, ρ)\n",
    "ring_delay = ring_L(S, r, ρ)\n",
    "range_a = line_L(S, r, ρ)\n",
    "range_i = Ls * (S - r + 1)\n",
    "R = global_homogeneous(S, r, ρ)\n",
    "\n",
    "plt.plot([1, S - r + 1], 1. / (R * np.ones(2)), label=\"Global\")\n",
    "plt.plot([1, S - r + 1], 1. / (ring_delay * np.ones(2)), label=\"Ring\")\n",
    "plt.plot(range(1, S - r + 2), 1. / range_i, label=\"Line (classes)\")\n",
    "plt.plot([1, S - r + 1], 1. / (range_a * np.ones(2)), label=\"Line (mean)\")\n",
    "\n",
    "plt.xlabel('Class'); plt.ylabel('Mean service rate')\n",
    "plt.xlim([0, S - r + 1]); plt.ylim(ymin=0)\n",
    "plt.legend(loc='best')\n",
    "plt.show()"
   ]
  },
  {
   "cell_type": "code",
   "execution_count": 16,
   "metadata": {
    "ExecuteTime": {
     "end_time": "2019-10-23T08:33:40.035791Z",
     "start_time": "2019-10-23T08:33:40.027180Z"
    },
    "hidden": true
   },
   "outputs": [],
   "source": [
    "def load_study(S=100, r=10, ρ = .9):\n",
    "    c = np.arange(1, S - r + 2)\n",
    "    Li = line_Lt(S, r, ρ) * (S - r + 1) / S / ρ\n",
    "    L = line_L(S, r, ρ) / S / ρ * np.ones(S - r + 1)\n",
    "    R = ring_L(S, r, ρ) / S / ρ * np.ones(S - r + 1)\n",
    "    G = global_homogeneous(S, r, ρ) / S / ρ * np.ones(S - r + 1)\n",
    "    csv = pd.DataFrame({'c': c, 'Li': Li, 'L': L, 'R': R, 'G': G})\n",
    "    csv.to_csv(folder + \"load_study_S_\" + str(S) + \"_r_\" + str(r) + \"_rho_\" + str(ρ) + \".csv\",\n",
    "               index=False)"
   ]
  },
  {
   "cell_type": "code",
   "execution_count": 17,
   "metadata": {
    "ExecuteTime": {
     "end_time": "2019-10-23T08:33:40.094429Z",
     "start_time": "2019-10-23T08:33:40.037558Z"
    },
    "hidden": true
   },
   "outputs": [],
   "source": [
    "def plot_local_study(S=100, r=10, ρ=.9):\n",
    "    try:\n",
    "        csv = pd.read_csv(folder + \"load_study_S_\" + str(S)\n",
    "                          + \"_r_\" + str(r) + \"_rho_\" + str(ρ) + \".csv\")\n",
    "    except:\n",
    "        load_study(S, r, ρ)\n",
    "        csv = pd.read_csv(folder + \"load_study_S_\" + str(S)\n",
    "                          + \"_r_\" + str(r) + \"_rho_\" + str(ρ) + \".csv\")\n",
    "\n",
    "    plt.plot(csv['c'].values, 1. / csv['G'].values, label=\"Global\")\n",
    "    plt.plot(csv['c'].values, 1. / csv['R'].values, label=\"Ring\")\n",
    "    plt.plot(csv['c'].values, 1. / csv['L'].values, label=\"Line (mean)\")\n",
    "    plt.plot(csv['c'].values, 1. / csv['Li'].values, label=\"Line (classes)\")\n",
    "\n",
    "    plt.xlabel('Class'); plt.ylabel('Mean service rate')\n",
    "    plt.xlim([1, S - r + 1])\n",
    "    plt.legend(loc='best')\n",
    "    plt.show()"
   ]
  },
  {
   "cell_type": "code",
   "execution_count": 18,
   "metadata": {
    "ExecuteTime": {
     "end_time": "2019-10-23T08:33:40.771441Z",
     "start_time": "2019-10-23T08:33:40.101376Z"
    },
    "hidden": true
   },
   "outputs": [
    {
     "data": {
      "image/png": "[encoded data removed]",
      "text/plain": [
       "<Figure size 432x288 with 1 Axes>"
      ]
     },
     "metadata": {
      "needs_background": "light"
     },
     "output_type": "display_data"
    }
   ],
   "source": [
    "plot_local_study(ρ=.5)"
   ]
  },
  {
   "cell_type": "markdown",
   "metadata": {
    "heading_collapsed": true,
    "hidden": true
   },
   "source": [
    "### Impact of the parameters"
   ]
  },
  {
   "cell_type": "markdown",
   "metadata": {
    "heading_collapsed": true,
    "hidden": true
   },
   "source": [
    "#### Load $\\rho$"
   ]
  },
  {
   "cell_type": "code",
   "execution_count": 19,
   "metadata": {
    "ExecuteTime": {
     "end_time": "2019-10-23T08:33:40.786312Z",
     "start_time": "2019-10-23T08:33:40.773953Z"
    },
    "hidden": true
   },
   "outputs": [],
   "source": [
    "def load_study_rho(S=100, r=10, step=.001):\n",
    "    ρρ = np.arange(step, 1, step)\n",
    "    I = len(ρρ)\n",
    "    L = np.zeros(I)\n",
    "    R = np.zeros(I)\n",
    "    G = np.zeros(I)\n",
    "\n",
    "    for i, ρ in enumerate(ρρ):\n",
    "        norm = S * ρ\n",
    "        L[i] = line_L(S, r, ρ) / norm\n",
    "        R[i] = ring_L(S, r, ρ) / norm\n",
    "        G[i] = global_homogeneous(S, r, ρ) / norm\n",
    "\n",
    "    csv = pd.DataFrame({'rho': ρρ, 'L': L, 'R': R, 'G': G})\n",
    "    csv.to_csv(folder + \"load_study_rho_S_\" + str(S) + \"_r_\" + str(r) + \".csv\",\n",
    "               index=False)"
   ]
  },
  {
   "cell_type": "code",
   "execution_count": 20,
   "metadata": {
    "ExecuteTime": {
     "end_time": "2019-10-23T08:33:40.855076Z",
     "start_time": "2019-10-23T08:33:40.789134Z"
    },
    "hidden": true
   },
   "outputs": [],
   "source": [
    "def plot_local_study_rho(S=100, r=10, step=.001):\n",
    "    try:\n",
    "        csv = pd.read_csv(folder + \"load_study_rho_S_\" + str(S) + \"_r_\" + str(r) + \".csv\")\n",
    "    except:\n",
    "        load_study_rho(S, r, step)\n",
    "        csv = pd.read_csv(folder + \"load_study_rho_S_\" + str(S) + \"_r_\" + str(r) + \".csv\")\n",
    "\n",
    "    plt.plot(csv['rho'].values, 1. / csv['G'].values, label=\"Global\")\n",
    "    plt.plot(csv['rho'].values, 1. / csv['R'].values, label=\"Ring\")\n",
    "    plt.plot(csv['rho'].values, 1. / csv['L'].values, label=\"Line\")\n",
    "\n",
    "    plt.xlabel('Load'); plt.ylabel('Mean service rate')\n",
    "    plt.xlim([0, 1]); plt.ylim(0, 10)\n",
    "    plt.legend(loc='best')\n",
    "    plt.show()"
   ]
  },
  {
   "cell_type": "code",
   "execution_count": 21,
   "metadata": {
    "ExecuteTime": {
     "end_time": "2019-10-23T08:34:02.557479Z",
     "start_time": "2019-10-23T08:33:40.857272Z"
    },
    "hidden": true
   },
   "outputs": [
    {
     "data": {
      "image/png": "[encoded data removed]",
      "text/plain": [
       "<Figure size 432x288 with 1 Axes>"
      ]
     },
     "metadata": {
      "needs_background": "light"
     },
     "output_type": "display_data"
    }
   ],
   "source": [
    "plot_local_study_rho(100, 10, step=.001)"
   ]
  },
  {
   "cell_type": "markdown",
   "metadata": {
    "heading_collapsed": true,
    "hidden": true
   },
   "source": [
    "#### Parallelism degree $r$"
   ]
  },
  {
   "cell_type": "code",
   "execution_count": 22,
   "metadata": {
    "ExecuteTime": {
     "end_time": "2019-10-23T08:34:02.568442Z",
     "start_time": "2019-10-23T08:34:02.561909Z"
    },
    "hidden": true
   },
   "outputs": [],
   "source": [
    "def load_study_r(S=100, ρ=.9):\n",
    "    rr = np.arange(1, S + 1)\n",
    "    I = len(rr)\n",
    "    L = np.zeros(I)\n",
    "    R = np.zeros(I)\n",
    "    G = np.zeros(I)\n",
    "\n",
    "    for i, r in enumerate(rr):\n",
    "        norm = S * ρ\n",
    "        L[i] = line_L(S, r, ρ) / norm\n",
    "        R[i] = ring_L(S, r, ρ) / norm\n",
    "        G[i] = global_homogeneous(S, r, ρ) / norm\n",
    "\n",
    "    csv = pd.DataFrame({'r': rr, 'L': L, 'R': R, 'G': G})\n",
    "    csv.to_csv(folder + \"load_study_r_S_\" + str(S) + \"_rho_\" + str(ρ) + \".csv\",\n",
    "               index=False)"
   ]
  },
  {
   "cell_type": "code",
   "execution_count": 23,
   "metadata": {
    "ExecuteTime": {
     "end_time": "2019-10-23T08:34:02.628222Z",
     "start_time": "2019-10-23T08:34:02.571426Z"
    },
    "hidden": true
   },
   "outputs": [],
   "source": [
    "def plot_local_study_r(S=100, ρ=.9):\n",
    "    try:\n",
    "        csv = pd.read_csv(folder + \"load_study_r_S_\" + str(S) + \"_rho_\" + str(ρ) + \".csv\")\n",
    "    except:\n",
    "        load_study_r(S, ρ)\n",
    "        csv = pd.read_csv(folder + \"load_study_r_S_\" + str(S) + \"_rho_\" + str(ρ) + \".csv\")\n",
    "\n",
    "    plt.plot(csv['r'].values, 1. / csv['G'].values, label=\"Global\")\n",
    "    plt.plot(csv['r'].values, 1. / csv['R'].values, label=\"Ring\")\n",
    "    plt.plot(csv['r'].values, 1. / csv['L'].values, label=\"Line\")\n",
    "\n",
    "    plt.xlabel('Parallelism degree'); plt.ylabel('Mean service rate')\n",
    "    plt.xlim([1, S]); plt.ylim(0, 10)\n",
    "    plt.legend(loc='best')\n",
    "    plt.show()"
   ]
  },
  {
   "cell_type": "code",
   "execution_count": 24,
   "metadata": {
    "ExecuteTime": {
     "end_time": "2019-10-23T08:34:04.265553Z",
     "start_time": "2019-10-23T08:34:02.630123Z"
    },
    "hidden": true
   },
   "outputs": [
    {
     "data": {
      "image/png": "[encoded data removed]",
      "text/plain": [
       "<Figure size 432x288 with 1 Axes>"
      ]
     },
     "metadata": {
      "needs_background": "light"
     },
     "output_type": "display_data"
    }
   ],
   "source": [
    "plot_local_study_r(100, .9)"
   ]
  },
  {
   "cell_type": "markdown",
   "metadata": {
    "heading_collapsed": true,
    "hidden": true
   },
   "source": [
    "#### Number $S$ of servers"
   ]
  },
  {
   "cell_type": "code",
   "execution_count": 25,
   "metadata": {
    "ExecuteTime": {
     "end_time": "2019-10-23T08:34:04.276061Z",
     "start_time": "2019-10-23T08:34:04.268301Z"
    },
    "hidden": true
   },
   "outputs": [],
   "source": [
    "def load_study_S(Smax=100, r=10, ρ=.9):\n",
    "    SS = np.arange(r + 1, Smax + 1)\n",
    "    I = len(SS)\n",
    "    L = np.zeros(I)\n",
    "    R = np.zeros(I)\n",
    "    G = np.zeros(I)\n",
    "\n",
    "    for i, S in enumerate(SS):\n",
    "        norm = S * ρ\n",
    "        L[i] = line_L(S, r, ρ) / norm\n",
    "        R[i] = ring_L(S, r, ρ) / norm\n",
    "        G[i] = global_homogeneous(S, r, ρ) / norm\n",
    "\n",
    "    csv = pd.DataFrame({'S': SS, 'L': L, 'R': R, 'G': G})\n",
    "    csv.to_csv(folder + \"load_study_S_Smax_\" + str(Smax)\n",
    "               + \"_r_\" + str(r) + \"_rho_\" + str(ρ) + \".csv\",\n",
    "               index=False)"
   ]
  },
  {
   "cell_type": "code",
   "execution_count": 26,
   "metadata": {
    "ExecuteTime": {
     "end_time": "2019-10-23T08:34:04.336417Z",
     "start_time": "2019-10-23T08:34:04.278830Z"
    },
    "hidden": true
   },
   "outputs": [],
   "source": [
    "def plot_local_study_S(Smax=100, r=10, ρ=.9):\n",
    "    try:\n",
    "        csv = pd.read_csv(folder + \"load_study_S_Smax_\" + str(Smax)\n",
    "                          + \"_r_\" + str(r) + \"_rho_\" + str(ρ) + \".csv\")\n",
    "    except:\n",
    "        load_study_S(Smax, r, ρ)\n",
    "        csv = pd.read_csv(folder + \"load_study_S_Smax_\" + str(Smax)\n",
    "                          + \"_r_\" + str(r) + \"_rho_\" + str(ρ) + \".csv\")\n",
    "\n",
    "    plt.plot(csv['S'].values, 1 / csv['G'].values, label=\"Global\")\n",
    "    plt.plot(csv['S'].values, 1 / csv['R'].values, label=\"Ring\")\n",
    "    plt.plot(csv['S'].values, 1 / csv['L'].values, label=\"Line\")\n",
    "\n",
    "    plt.xlabel('Number of servers'); plt.ylabel('Mean service rate')\n",
    "    plt.xlim([r + 1, Smax]); plt.ylim(ymin=0)\n",
    "    plt.legend(loc='best')\n",
    "    plt.show()"
   ]
  },
  {
   "cell_type": "code",
   "execution_count": 27,
   "metadata": {
    "ExecuteTime": {
     "end_time": "2019-10-23T08:34:21.734309Z",
     "start_time": "2019-10-23T08:34:04.338319Z"
    },
    "hidden": true
   },
   "outputs": [
    {
     "data": {
      "image/png": "[encoded data removed]",
      "text/plain": [
       "<Figure size 432x288 with 1 Axes>"
      ]
     },
     "metadata": {
      "needs_background": "light"
     },
     "output_type": "display_data"
    }
   ],
   "source": [
    "plot_local_study_S(300)"
   ]
  }
 ],
 "metadata": {
  "kernelspec": {
   "display_name": "Python 3",
   "language": "python3",
   "name": "python3"
  },
  "language_info": {
   "codemirror_mode": {
    "name": "ipython",
    "version": 3
   },
   "file_extension": ".py",
   "mimetype": "text/x-python",
   "name": "python",
   "nbconvert_exporter": "python",
   "pygments_lexer": "ipython3",
   "version": "3.6.8"
  },
  "toc": {
   "base_numbering": 1,
   "nav_menu": {},
   "number_sections": false,
   "sideBar": true,
   "skip_h1_title": true,
   "title_cell": "Table of Contents",
   "title_sidebar": "Contents",
   "toc_cell": false,
   "toc_position": {},
   "toc_section_display": true,
   "toc_window_display": false
  }
 },
 "nbformat": 4,
 "nbformat_minor": 2
}
