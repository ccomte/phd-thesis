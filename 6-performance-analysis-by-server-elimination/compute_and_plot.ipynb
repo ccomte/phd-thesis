{
 "cells": [
  {
   "cell_type": "markdown",
   "metadata": {},
   "source": [
    "# Chapter 6. Performance analysis by server elimination"
   ]
  },
  {
   "cell_type": "markdown",
   "metadata": {},
   "source": [
    "This Notebook computes and plots the numerical results for Chapter 6 of the Ph.D. thesis. Sections 1 and 2 of this Notebook define functions for computing the results, while Sections 3 and 4 plot them. For each section, we add a pointer to the corresponding section or subsection in the manuscript."
   ]
  },
  {
   "cell_type": "code",
   "execution_count": null,
   "metadata": {
    "scrolled": true
   },
   "outputs": [],
   "source": [
    "import numpy as np\n",
    "import matplotlib.pyplot as plt\n",
    "import pandas as pd"
   ]
  },
  {
   "cell_type": "code",
   "execution_count": null,
   "metadata": {},
   "outputs": [],
   "source": [
    "folder = \"data/\""
   ]
  },
  {
   "cell_type": "markdown",
   "metadata": {},
   "source": [
    "## 1. Random customer assignment (Section 6.2)"
   ]
  },
  {
   "cell_type": "markdown",
   "metadata": {},
   "source": [
    "### Homogeneous queue (Subsection 6.2.1)"
   ]
  },
  {
   "cell_type": "markdown",
   "metadata": {},
   "source": [
    "$$\n",
    "\\psi = \\prod_{s=r}^S \\left( 1 - \\rho_{|s} \\right)\n",
    "\\quad \\text{and} \\quad\n",
    "L = \\sum_{s=r}^S \\frac{ \\rho_{|s} }{ 1 - \\rho_{|s} },\n",
    "$$\n",
    "where\n",
    "$$\n",
    "\\rho_{|s}\n",
    "= \\frac1{s \\mu} \\frac{ \\binom{s}{r} }{ \\binom{S}{r} } S \\lambda\n",
    "= \\rho \\frac{ \\binom{s-1}{r-1} }{ \\binom{S-1}{r-1} }\n",
    "$$\n",
    "is the load in the subsystem restricted to $s$ arbitrary servers."
   ]
  },
  {
   "cell_type": "markdown",
   "metadata": {},
   "source": [
    "We just need to compute\n",
    "$$\n",
    "    b_s = \\binom{s-1}{r-1}\n",
    "$$\n",
    "for each $s = r,\\ldots,S$.\n",
    "We have $b_r = 1$ and, for each $s = r+1,\\ldots,S$,\n",
    "$$\n",
    "    b_s\n",
    "    = \\frac{ (s-1)! }{ (r-1)! (s-r)! }\n",
    "    = \\frac{s-1}{s-r} \\frac{ ((s-1)-1)! }{ (r-1)! ((s-1)-r)! }\n",
    "    = \\left( 1 + \\frac{r-1}{s-r} \\right) b_{s-1}.\n",
    "$$\n",
    "We use this last equality to compute recursively $b_s$ for each $s = r+1,\\ldots,S$."
   ]
  },
  {
   "cell_type": "code",
   "execution_count": null,
   "metadata": {},
   "outputs": [],
   "source": [
    "def global_homogeneous(S=10, r=3, ρ=.5):\n",
    "    binom = np.ones(S - r + 1, dtype=float)\n",
    "    binom[1:] = np.cumprod(1 + (r-1) / np.arange(1, S - r + 1))\n",
    "    binom /= binom[-1]\n",
    "    ρs = ρ * binom\n",
    "    return np.sum(ρs / (1 - ρs))"
   ]
  },
  {
   "cell_type": "markdown",
   "metadata": {},
   "source": [
    "### Heterogeneous degrees (Subsection 6.2.2)"
   ]
  },
  {
   "cell_type": "markdown",
   "metadata": {},
   "source": [
    "$$\n",
    "\\psi = \\prod_{s=r}^S \\left( 1 - \\rho_{|s} \\right)\n",
    "\\quad \\text{and} \\quad\n",
    "L = \\sum_{s=r}^S \\frac{ \\rho_{|s} }{ 1 - \\rho_{|s} },\n",
    "$$\n",
    "where\n",
    "$$\n",
    "\\rho_{|s} = \\frac1{ s \\mu }\n",
    "\\sum_{k=1}^K \\frac{ \\binom{s}{r_k} }{ \\binom{S}{r_k} } S \\lambda p_k\n",
    "= \\rho \\sum_{k=1}^K \\frac{ \\binom{s-1}{r_k-1} }{ \\binom{S-1}{r_k-1} } p_k\n",
    "$$\n",
    "is the load in the queue restricted to $s$ arbitrary servers."
   ]
  },
  {
   "cell_type": "markdown",
   "metadata": {},
   "source": [
    "Implementation: We let\n",
    "$$\n",
    "b_{k,s} = p_k \\frac{ \\binom{s}{r_k} }{ \\binom{S}{r_k} },\n",
    "$$\n",
    "and we compute it by induction on $s$ for each $k$, using the formula:\n",
    "$$\n",
    "\\binom{s}{r} = \\left( 1 + \\frac{r-1}{s-r} \\right) \\times \\binom{s-1}{r}.\n",
    "$$\n",
    "Then we let $w_s = b_{1,s} + \\ldots + b_{K,s}$ for each $s = 1,\\ldots,S$.\n",
    "\n",
    "We can express all the metrics as functions of these quantities:\n",
    "\\begin{align*}\n",
    "\\rho_s &= \\rho \\times w_s,\n",
    "&\\qquad \\psi &= \\prod_{s=1}^S (1 - \\rho_{s}),\n",
    "&\\qquad L &= \\sum_{s=1}^S \\frac{ \\rho_{|s} }{ 1 - \\rho_{|s} }, \\\\\n",
    "\\rho_{k|s} &= \\frac{ \\rho \\times b_{k,s} }{ 1 - \\rho (w_s - b_{k,s}) },\n",
    "&&\n",
    "&\\qquad L_k &= \\sum_{s=r_k}^S \\frac{ \\rho_{k|s} }{ 1 - \\rho_{k|s} }\n",
    "\\end{align*}"
   ]
  },
  {
   "cell_type": "code",
   "execution_count": null,
   "metadata": {},
   "outputs": [],
   "source": [
    "def global_heterogeneous(S, r, p, ρ):\n",
    "    K = len(r);\n",
    "    b = np.zeros((K, S), dtype=float)\n",
    "    for k in range(K):\n",
    "        b[k, r[k] - 1] = 1.\n",
    "        b[k, r[k]:] = np.cumprod(1 + (r[k] - 1) / np.arange(1, S - r[k] + 1))\n",
    "        b[k, :] *= p[k] / b[k, -1]\n",
    "    w = np.sum(b, axis=0)  # sum for all k = 1,...,K\n",
    "\n",
    "    Ln = np.zeros(K)\n",
    "\n",
    "    ρs = ρ * w\n",
    "    ψ = np.prod(1. - ρs)\n",
    "    L = np.sum(ρs / (1. - ρs))\n",
    "    for k in range(K):\n",
    "        ρns = ρ * b[k, :] / (1. - ρ * (w - b[k, :]))\n",
    "        Ln[k] = np.sum(ρns / (1. - ρns))\n",
    "\n",
    "    return ψ, L / S / ρ, Ln / S / ρ / p"
   ]
  },
  {
   "cell_type": "markdown",
   "metadata": {},
   "source": [
    "## 2. Local assignment (Section 6.3)"
   ]
  },
  {
   "cell_type": "markdown",
   "metadata": {},
   "source": [
    "### Random customer assignment (Subsection 6.3.3)"
   ]
  },
  {
   "cell_type": "markdown",
   "metadata": {},
   "source": [
    "In a homogeneous, local, randomized load balancing system of parameters $ S $, $ r $ and $ \\rho =\\frac{\\lambda}{\\mu} $, the stability condition is $ \\rho < 1 $. Defining $ \\rho_{|s} = \\frac{1-\\frac{r-1}{s}}{1-\\frac{r-1}{S}}\\rho$, the probability that the system is empty is $\\psi = \\psi_{|1..S}$ , with\n",
    "\t$$\n",
    "\t\\psi_{|1..s} = \\left\\{\n",
    "\t\\begin{array}{l}\n",
    "\t1 \\text{ if } s < r\\text{,}\\\\\n",
    "\t(1-\\rho_{|s})\\frac{s}{\\sum_{t=1}^{s}\\frac{1}{\\psi_{|1..t-1}\\psi_{|1..s-t}}}\n",
    "\t\\text{ otherwise.}\n",
    "\t\\end{array}\n",
    "\t \\right.\n",
    "\t$$"
   ]
  },
  {
   "cell_type": "code",
   "execution_count": null,
   "metadata": {},
   "outputs": [],
   "source": [
    "def line_ψ(S=10, r=3, ρ=.5):\n",
    "    ψ = np.ones(S + 1)\n",
    "    for s in range(r, S + 1):\n",
    "        ρs = ρ * (1 - (r - 1) / s) / (1 - (r - 1) / S)\n",
    "        ψ[s] = (1 - ρs) * s / np.sum([1 / ψ[t-1] / ψ[s-t] for t in range(1, s+1)])\n",
    "    return ψ"
   ]
  },
  {
   "cell_type": "markdown",
   "metadata": {},
   "source": [
    "For each $t \\in 1..S-r+1$, the mean number of class-$t$ jobs in the system is $L_{t} = L_{t|1..S}$, with\n",
    "\\begin{equation}\n",
    "L_{t|1..s} =\n",
    "\\frac{\\frac{\\rho_{|S}}{1-\\frac{r-1}{S}}\t\t\n",
    "+\\psi_{|1..s}\\left(\n",
    "\\sum\\limits_{u=1}^{t-1}\\frac{L_{t-u|1..\\ell-u}}{\\psi_{|1..u-1}\\psi_{|1..s-u}}\n",
    "\t+\n",
    "\\sum\\limits_{u=t+r}^{s}\\frac{L_{t|1..u-1}}{\\psi_{|1..u-1}\\psi_{|1..s-u}}\n",
    "\\right)\n",
    "}{\\ell(1-\\rho_{|s})}\\text{,}\n",
    "\\end{equation}"
   ]
  },
  {
   "cell_type": "code",
   "execution_count": null,
   "metadata": {},
   "outputs": [],
   "source": [
    "def line_Li(S=10, r=3, ρ=.5):\n",
    "    ψ = line_ψ(S, r, ρ)\n",
    "    Lt = np.zeros([S - r + 2, S + 1])\n",
    "    for t in range(1, S - r + 2):\n",
    "        for s in range(t + r - 1, S + 1):\n",
    "            ρs = ρ * (1 - (r - 1) / s) / (1 - (r - 1) / S)\n",
    "            Lt[t, s] = ((ρ / (1 - (r - 1) / S)\n",
    "                        + ψ[s] * (np.sum([Lt[t-u, s-u] / ψ[u-1] / ψ[s-u] for u in range(1, t)])\n",
    "                                  + np.sum([Lt[t, u-1] / ψ[u-1] / ψ[s-u] for u in range(t+r, s+1)])))\n",
    "                       / s / (1 - ρs))\n",
    "    return Lt[1:,-1]"
   ]
  },
  {
   "cell_type": "markdown",
   "metadata": {},
   "source": [
    "The total mean number of jobs in the system is $L = L_{|1..S}$, with\n",
    "\\begin{equation}\n",
    "L_{|1..s} = \\frac{\n",
    "\t\t\\rho_{|s}+\\frac{\\psi_{|1..s}}{s}\\sum_{t=1}^{s}\\frac{L_{|1..t-1}+L_{|1..s-t}}{\\psi_{|1..t-1}\\psi_{|1..s-t}}\n",
    "\t}{1-\\rho_{|s}\n",
    "}\\text{.}\n",
    "\\end{equation}\n",
    "\n",
    "We check with a specific function that it matches the Lis."
   ]
  },
  {
   "cell_type": "code",
   "execution_count": null,
   "metadata": {},
   "outputs": [],
   "source": [
    "def line_L(S=10, r=3, ρ=.5):\n",
    "    ψ = line_ψ(S, r, ρ)\n",
    "    L = np.zeros(S + 1)\n",
    "    for s in range(r, S + 1):\n",
    "        ρs = ρ * (1 - (r - 1) / s) / (1 - (r - 1) / S)\n",
    "        L[s] = (ρs + ψ[s] / s * np.sum([(L[t-1] + L[s-t]) / ψ[t-1] / ψ[s-t]\n",
    "                                        for t in range(1, s + 1)])) / (1 - ρs)\n",
    "    return L[-1]"
   ]
  },
  {
   "cell_type": "markdown",
   "metadata": {},
   "source": [
    "### Ring queue (Subsection 6.3.4)"
   ]
  },
  {
   "cell_type": "code",
   "execution_count": null,
   "metadata": {},
   "outputs": [],
   "source": [
    "def ring(S=10, r=3, ρ=.5):\n",
    "    return ρ / (1 - ρ) + line_L(S - 1, r, (1 - (r - 1) / (S - 1)) * ρ)"
   ]
  },
  {
   "cell_type": "markdown",
   "metadata": {},
   "source": [
    "## 3. Gain of differentiation (Subsection 6.4.1)"
   ]
  },
  {
   "cell_type": "markdown",
   "metadata": {},
   "source": [
    "### Impact of load"
   ]
  },
  {
   "cell_type": "markdown",
   "metadata": {},
   "source": [
    "We first consider a three scenarios to study random customer assignment:\n",
    "- homogeneous degree 6 for all customers;\n",
    "- homogeneous degree 12 for all customers;\n",
    "- degree 6 for half the customer, 12 for the other half.\n",
    "\n",
    "The rate is computed as a function of $\\rho$. The results are stored in a csv file for re-use in other programs."
   ]
  },
  {
   "cell_type": "code",
   "execution_count": null,
   "metadata": {},
   "outputs": [],
   "source": [
    "S=100; step=.001\n",
    "# Set of parameters to explore\n",
    "scenarios = [{'name': 'r6', 'degree': [6], 'distrib': [1]},\n",
    "             {'name': 'r12', 'degree': [12], 'distrib': [1]},\n",
    "             {'name': 'r6_12', 'degree': [6, 12], 'distrib': [.5, .5]},\n",
    "            ]\n",
    "ρρ = np.arange(step, 1, step)\n",
    "I = len(ρρ)\n",
    "for s in scenarios:\n",
    "    s['mean_rate'] = np.zeros(I)\n",
    "    s['detail_rate'] = np.zeros([len(s['degree']), I])\n",
    "    for i, ρ in enumerate(ρρ):\n",
    "        _, wait, detail_wait = global_heterogeneous(S, s['degree'], s['distrib'], ρ)\n",
    "        s['mean_rate'][i] = 1/wait\n",
    "        s['detail_rate'][:, i] = 1/detail_wait\n",
    "results = {'rho': ρρ, **{\"mean_%s\" % s['name']: s['mean_rate'] for s in scenarios },\n",
    "               **{ \"detail_%s_r%s\" % (s['name'], r): s['detail_rate'][i] \n",
    "                  for s in scenarios for i, r in enumerate(s['degree'])} }\n",
    "csv = pd.DataFrame(results)\n",
    "fn = folder + \"hetero_1_\" + str(S) + \".csv\"\n",
    "csv.to_csv(fn, index=False)"
   ]
  },
  {
   "cell_type": "markdown",
   "metadata": {},
   "source": [
    "Display of the results."
   ]
  },
  {
   "cell_type": "code",
   "execution_count": null,
   "metadata": {},
   "outputs": [],
   "source": [
    "# Set of parameters to display\n",
    "display = [('mean_r6', 'Degree 6, homogeneous'),\n",
    "           ('mean_r12', 'Degree 12, homogeneous'),\n",
    "           ('detail_r6_12_r12', 'Degree 12, 6-12 mix'),\n",
    "           ('detail_r6_12_r6', 'Degree 6, 6-12 mix'),]\n",
    "\n",
    "for d in display:\n",
    "    plt.plot(results['rho'], results[d[0]], label=d[1])\n",
    "plt.xlim([0, 1]); plt.ylim(ymin=0)\n",
    "plt.xlabel('ρ'); plt.ylabel('Service rate')\n",
    "plt.legend(loc='best')\n",
    "plt.show()    "
   ]
  },
  {
   "cell_type": "markdown",
   "metadata": {},
   "source": [
    "### Impact of population distribution"
   ]
  },
  {
   "cell_type": "markdown",
   "metadata": {},
   "source": [
    "Here we focus on a mixed degree 6 / degree 12 population, but now the load is fixed ($0.9$ or $0.99$) and the 6-12 proportion is the parameter. Results are stored in a csv for further use."
   ]
  },
  {
   "cell_type": "code",
   "execution_count": null,
   "metadata": {
    "code_folding": []
   },
   "outputs": [],
   "source": [
    "S = 100\n",
    "step = .001\n",
    "low_degree_proportion = np.arange(step, 1, step)\n",
    "degrees = [6, 12]\n",
    "\n",
    "# Parameters to explore\n",
    "scenarios = [{'name': 'Moderately saturated charge', 'rho': .9},\n",
    "             {'name': 'Heavily saturated charge', 'rho': .99}]\n",
    "\n",
    "I = len(low_degree_proportion)\n",
    "for s in scenarios:\n",
    "    for r in degrees:\n",
    "        s[r] = np.zeros(I)\n",
    "    for i, p in enumerate(low_degree_proportion):\n",
    "        _, _, wait = global_heterogeneous(S, degrees, [p, 1-p], s['rho'])\n",
    "        for j, r in enumerate(degrees):\n",
    "            s[r][i] = 1/wait[j]\n",
    "\n",
    "results = {'ld_proportion': low_degree_proportion, \n",
    "           **{\"rho_%s_r_%s\" % (s['rho'], r): s[r] for s in scenarios for r in degrees},\n",
    "          }\n",
    "\n",
    "csv = pd.DataFrame(results)\n",
    "fn = folder + \"hetero_2_\" + str(S) + \".csv\"\n",
    "csv.to_csv(fn, index=False)"
   ]
  },
  {
   "cell_type": "code",
   "execution_count": null,
   "metadata": {},
   "outputs": [],
   "source": [
    "for s in scenarios:\n",
    "    for r in degrees[::-1]:\n",
    "        plt.plot(results['ld_proportion'], results[\"rho_%s_r_%s\" % (s['rho'], r)],\n",
    "                label = \"%s, degree %s\" % (s['name'], r))\n",
    "plt.xlim([0, 1]); plt.ylim(ymin=0)\n",
    "plt.xlabel('Low degree proportion'); plt.ylabel('Service rate')\n",
    "plt.legend(loc='best')\n",
    "plt.show()        "
   ]
  },
  {
   "cell_type": "markdown",
   "metadata": {},
   "source": [
    "## 4. Impact of locality (Subsection 6.4.2)"
   ]
  },
  {
   "cell_type": "markdown",
   "metadata": {},
   "source": [
    "### Cost of heterogeneity and locality"
   ]
  },
  {
   "cell_type": "markdown",
   "metadata": {},
   "source": [
    "Here for given size $S$, degree $r$, and load $\\rho$, one compare the service r of random global assignment, random contiguous assignment on a line, and random contiguous assignment on a ring. As the line classes are not equivalent, the rate of each class is displayed. Results are stored in csv files."
   ]
  },
  {
   "cell_type": "code",
   "execution_count": null,
   "metadata": {},
   "outputs": [],
   "source": [
    "def load_study(S=100, r=10, ρ = .9):\n",
    "    c = np.arange(1, S - r + 2)\n",
    "    Li = line_Li(S, r, ρ) * (S - r + 1) / S / ρ\n",
    "    L = line_L(S, r, ρ) / S / ρ * np.ones(S - r + 1)\n",
    "    R = ring(S, r, ρ) / S / ρ * np.ones(S - r + 1)\n",
    "    G = global_homogeneous(S, r, ρ) / S / ρ * np.ones(S - r + 1)\n",
    "    csv = pd.DataFrame({'c': c, 'Li': Li, 'L': L, 'R': R, 'G': G})\n",
    "    csv.to_csv(folder + \"load_study_S_\" + str(S) + \"_r_\" + str(r) + \"_rho_\" + str(ρ) + \".csv\",\n",
    "               index=False)"
   ]
  },
  {
   "cell_type": "code",
   "execution_count": null,
   "metadata": {},
   "outputs": [],
   "source": [
    "def plot_local_study(S=100, r=10, ρ=.9):\n",
    "    try:\n",
    "        csv = pd.read_csv(folder + \"load_study_S_\" + str(S)\n",
    "                          + \"_r_\" + str(r) + \"_rho_\" + str(ρ) + \".csv\")\n",
    "    except:\n",
    "        load_study(S, r, ρ)\n",
    "        csv = pd.read_csv(folder + \"load_study_S_\" + str(S)\n",
    "                          + \"_r_\" + str(r) + \"_rho_\" + str(ρ) + \".csv\")\n",
    "    \n",
    "    plt.plot(csv['c'].values, 1. / csv['G'].values, label=\"Global\")\n",
    "    plt.plot(csv['c'].values, 1. / csv['R'].values, label=\"Ring\")\n",
    "    plt.plot(csv['c'].values, 1. / csv['L'].values, label=\"Line (Mean)\")\n",
    "    plt.plot(csv['c'].values, 1. / csv['Li'].values, label=\"Line (Classes)\")\n",
    "    plt.xlabel('Line class')\n",
    "    plt.ylabel('Service rate')\n",
    "    plt.xlim([1, S - r + 1])\n",
    "    plt.legend(loc='best')\n",
    "    plt.show()"
   ]
  },
  {
   "cell_type": "code",
   "execution_count": null,
   "metadata": {},
   "outputs": [],
   "source": [
    "plot_local_study(S=100, r=8, ρ=.9)"
   ]
  },
  {
   "cell_type": "markdown",
   "metadata": {},
   "source": [
    "### Impact of the parameters"
   ]
  },
  {
   "cell_type": "markdown",
   "metadata": {},
   "source": [
    "In the next three computations, we fix two parameters amongst $S$, $r$, and $\\rho$, and we study the impact of the third parameter."
   ]
  },
  {
   "cell_type": "markdown",
   "metadata": {},
   "source": [
    "#### Load $\\rho$"
   ]
  },
  {
   "cell_type": "code",
   "execution_count": null,
   "metadata": {},
   "outputs": [],
   "source": [
    "def load_study_rho(S=100, r=10, step=.001):\n",
    "    ρρ = np.arange(step, 1, step)\n",
    "    I = len(ρρ)\n",
    "    L = np.zeros(I)\n",
    "    R = np.zeros(I)\n",
    "    G = np.zeros(I)\n",
    "    \n",
    "    for i, ρ in enumerate(ρρ):\n",
    "        norm = S * ρ\n",
    "        L[i] = line_L(S, r, ρ) / norm\n",
    "        R[i] = ring(S, r, ρ) / norm\n",
    "        G[i] = global_homogeneous(S, r, ρ) / norm\n",
    "        \n",
    "    csv = pd.DataFrame({'rho': ρρ, 'L': L, 'R': R, 'G': G})\n",
    "    csv.to_csv(folder + \"load_study_rho_S_\" + str(S) + \"_r_\" + str(r) + \".csv\",\n",
    "               index=False)"
   ]
  },
  {
   "cell_type": "code",
   "execution_count": null,
   "metadata": {},
   "outputs": [],
   "source": [
    "def plot_local_study_rho(S=100, r=10, step=.001):\n",
    "    try:\n",
    "        csv = pd.read_csv(folder + \"load_study_rho_S_\" + str(S) + \"_r_\" + str(r) + \".csv\")\n",
    "    except:\n",
    "        load_study_rho(S, r, step)\n",
    "        csv = pd.read_csv(folder + \"load_study_rho_S_\" + str(S) + \"_r_\" + str(r) + \".csv\")\n",
    "        \n",
    "    plt.plot(csv['rho'].values, 1. / csv['G'].values, label=\"Global\")\n",
    "    plt.plot(csv['rho'].values, 1. / csv['R'].values, label=\"Ring\")\n",
    "    plt.plot(csv['rho'].values, 1. / csv['L'].values, label=\"Line\")\n",
    "    \n",
    "    plt.xlim([0,1]); plt.ylim(0, 10)\n",
    "    plt.legend(loc='best')\n",
    "    plt.show()"
   ]
  },
  {
   "cell_type": "code",
   "execution_count": null,
   "metadata": {},
   "outputs": [],
   "source": [
    "plot_local_study_rho(100, 10, step=.001)"
   ]
  },
  {
   "cell_type": "markdown",
   "metadata": {},
   "source": [
    "#### Parallelism degree $r$"
   ]
  },
  {
   "cell_type": "code",
   "execution_count": null,
   "metadata": {},
   "outputs": [],
   "source": [
    "def load_study_r(S=100, ρ=.9):\n",
    "    rr = np.arange(1, S+1)\n",
    "    I = len(rr)\n",
    "    L = np.zeros(I)\n",
    "    R = np.zeros(I)\n",
    "    G = np.zeros(I)\n",
    "    \n",
    "    for i, r in enumerate(rr):\n",
    "        norm = S * ρ\n",
    "        L[i] = line_L(S, r, ρ) / norm\n",
    "        R[i] = ring(S, r, ρ) / norm\n",
    "        G[i] = global_homogeneous(S, r, ρ) / norm\n",
    "        \n",
    "    csv = pd.DataFrame({'r': rr, 'L': L, 'R': R, 'G': G})\n",
    "    csv.to_csv(folder + \"load_study_r_S_\" + str(S) + \"_rho_\" + str(ρ) + \".csv\",\n",
    "               index=False)"
   ]
  },
  {
   "cell_type": "code",
   "execution_count": null,
   "metadata": {},
   "outputs": [],
   "source": [
    "def plot_local_study_r(S=100, ρ=.9):\n",
    "    try:\n",
    "        csv = pd.read_csv(folder + \"load_study_r_S_\" + str(S) + \"_rho_\" + str(ρ) + \".csv\")\n",
    "    except:\n",
    "        load_study_r(S, ρ)\n",
    "        csv = pd.read_csv(folder + \"load_study_r_S_\" + str(S) + \"_rho_\" + str(ρ) + \".csv\")\n",
    "        \n",
    "    plt.plot(csv['r'].values, 1. / csv['G'].values, label=\"Global\")\n",
    "    plt.plot(csv['r'].values, 1. / csv['R'].values, label=\"Ring\")\n",
    "    plt.plot(csv['r'].values, 1. / csv['L'].values, label=\"Line\")\n",
    "    \n",
    "    plt.xlim([1,S]); plt.ylim(0, 10)\n",
    "    plt.legend(loc='best')\n",
    "    plt.show()"
   ]
  },
  {
   "cell_type": "code",
   "execution_count": null,
   "metadata": {},
   "outputs": [],
   "source": [
    "plot_local_study_r(100, .9)"
   ]
  },
  {
   "cell_type": "markdown",
   "metadata": {},
   "source": [
    "#### Number $S$ of servers"
   ]
  },
  {
   "cell_type": "code",
   "execution_count": null,
   "metadata": {},
   "outputs": [],
   "source": [
    "def load_study_S(Smax=100, r=10, ρ=.9):\n",
    "    SS = np.arange(r + 1, Smax + 1)\n",
    "    I = len(SS)\n",
    "    L = np.zeros(I)\n",
    "    R = np.zeros(I)\n",
    "    G = np.zeros(I)\n",
    "    \n",
    "    for i, S in enumerate(SS):\n",
    "        norm = S * ρ\n",
    "        L[i] = line_L(S, r, ρ) / norm\n",
    "        R[i] = ring(S, r, ρ) / norm\n",
    "        G[i] = global_homogeneous(S, r, ρ) / norm\n",
    "        \n",
    "    csv = pd.DataFrame({'S': SS, 'L': L, 'R': R, 'G': G})\n",
    "    csv.to_csv(folder + \"load_study_S_Smax_\" + str(Smax)\n",
    "               + \"_r_\" + str(r) + \"_rho_\" + str(ρ) + \".csv\",\n",
    "               index=False)"
   ]
  },
  {
   "cell_type": "code",
   "execution_count": null,
   "metadata": {},
   "outputs": [],
   "source": [
    "def plot_local_study_S(Smax=100, r=10, ρ=.9):\n",
    "    try:\n",
    "        csv = pd.read_csv(folder + \"load_study_S_Smax_\" + str(Smax)\n",
    "                          + \"_r_\" + str(r) + \"_rho_\" + str(ρ) + \".csv\")\n",
    "    except:\n",
    "        load_study_S(Smax, r, ρ)\n",
    "        csv = pd.read_csv(folder + \"load_study_S_Smax_\" + str(Smax)\n",
    "                          + \"_r_\" + str(r) + \"_rho_\" + str(ρ) + \".csv\")\n",
    "        \n",
    "    plt.plot(csv['S'].values, 1 / csv['G'].values, label=\"Global\")\n",
    "    plt.plot(csv['S'].values, 1 / csv['R'].values, label=\"Ring\")\n",
    "    plt.plot(csv['S'].values, 1 / csv['L'].values, label=\"Line\")\n",
    "    \n",
    "    plt.xlim([r + 1, Smax]); plt.ylim(ymin=0)\n",
    "    plt.legend(loc='best')\n",
    "    plt.show()"
   ]
  },
  {
   "cell_type": "code",
   "execution_count": null,
   "metadata": {},
   "outputs": [],
   "source": [
    "plot_local_study_S(300)"
   ]
  }
 ],
 "metadata": {
  "language_info": {
   "name": "python",
   "pygments_lexer": "ipython3"
  }
 },
 "nbformat": 4,
 "nbformat_minor": 2
}
