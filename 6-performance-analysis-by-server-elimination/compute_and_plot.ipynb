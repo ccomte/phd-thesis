{
 "cells": [
  {
   "cell_type": "markdown",
   "metadata": {},
   "source": [
    "# Chapter 6. Performance analysis by server elimination"
   ]
  },
  {
   "cell_type": "markdown",
   "metadata": {},
   "source": [
    "This Notebook computes and plots the numerical results for Chapter 6 of the Ph.D. thesis. Sections 1 and 2 of this Notebook define functions for computing the results, while Sections 3 and 4 plot them. For each section, we add a pointer to the corresponding section or subsection in the manuscript."
   ]
  },
  {
   "cell_type": "code",
   "execution_count": 1,
   "metadata": {
    "ExecuteTime": {
     "end_time": "2019-08-28T14:00:45.801492Z",
     "start_time": "2019-08-28T14:00:45.214230Z"
    },
    "scrolled": true
   },
   "outputs": [
    {
     "name": "stdout",
     "output_type": "stream",
     "text": [
      "Populating the interactive namespace from numpy and matplotlib\n"
     ]
    }
   ],
   "source": [
    "%pylab inline\n",
    "import pandas as pd"
   ]
  },
  {
   "cell_type": "markdown",
   "metadata": {},
   "source": [
    "## 1. Random customer assignment (Section 6.2)"
   ]
  },
  {
   "cell_type": "markdown",
   "metadata": {},
   "source": [
    "### Homogeneous queue (Subsection 6.2.1)"
   ]
  },
  {
   "cell_type": "markdown",
   "metadata": {},
   "source": [
    "$$\n",
    "\\psi = \\prod_{\\ell=d}^S \\left( 1 - \\rho_{|\\ell} \\right)\n",
    "\\quad \\text{and} \\quad\n",
    "L = \\sum_{\\ell=d}^S \\frac{ \\rho_{|\\ell} }{ 1 - \\rho_{|\\ell} },\n",
    "$$\n",
    "where\n",
    "$$\n",
    "\\rho_{|\\ell}\n",
    "= \\frac1{\\ell \\mu} \\frac{ \\binom{\\ell}{d_n} }{ \\binom{S}{d_n} } S \\lambda\n",
    "= \\rho \\frac{ \\binom{\\ell-1}{d_n-1} }{ \\binom{S-1}{d_n-1} }\n",
    "$$\n",
    "is the load in the subsystem restricted to $\\ell$ arbitrary servers."
   ]
  },
  {
   "cell_type": "markdown",
   "metadata": {},
   "source": [
    "We just need to compute\n",
    "$$\n",
    "    b_\\ell = \\binom{\\ell-1}{d-1}\n",
    "$$\n",
    "for each $\\ell = d,\\ldots,S$.\n",
    "We have $b_d = 1$ and, for each $\\ell = d+1,\\ldots,S$,\n",
    "$$\n",
    "    b_\\ell\n",
    "    = \\frac{ (\\ell-1)! }{ (d-1)! (\\ell-d)! }\n",
    "    = \\frac{\\ell-1}{\\ell-d} \\frac{ ((\\ell-1)-1)! }{ (d-1)! ((\\ell-1)-d)! }\n",
    "    = \\left( 1 + \\frac{d-1}{\\ell-d} \\right) b_{\\ell-1}.\n",
    "$$\n",
    "We use this last equality to compute recursively $b_\\ell$ for each $\\ell = d+1,\\ldots,S$."
   ]
  },
  {
   "cell_type": "code",
   "execution_count": 2,
   "metadata": {
    "ExecuteTime": {
     "end_time": "2019-08-28T14:00:45.809903Z",
     "start_time": "2019-08-28T14:00:45.805407Z"
    }
   },
   "outputs": [],
   "source": [
    "def homogeneous(S=10, d=3, ρ=.5):\n",
    "    binom = ones(S - d + 1, dtype=float)\n",
    "    binom[1:] = cumprod(1 + (d-1) / arange(1, S - d + 1))\n",
    "    binom /= binom[-1]\n",
    "    ρℓ = ρ * binom\n",
    "    ψ = prod(1 - ρℓ)\n",
    "    L = sum(ρℓ / (1 - ρℓ))\n",
    "\n",
    "    return L"
   ]
  },
  {
   "cell_type": "markdown",
   "metadata": {},
   "source": [
    "### Heterogeneous degrees (Subsection 6.2.2)"
   ]
  },
  {
   "cell_type": "markdown",
   "metadata": {},
   "source": [
    "$$\n",
    "\\psi = \\prod_{\\ell=d}^S \\left( 1 - \\rho_{|\\ell} \\right)\n",
    "\\quad \\text{and} \\quad\n",
    "L = \\sum_{\\ell=d}^S \\frac{ \\rho_{|\\ell} }{ 1 - \\rho_{|\\ell} },\n",
    "$$\n",
    "where\n",
    "$$\n",
    "\\rho_{|\\ell} = \\frac1{ \\ell \\mu }\n",
    "\\sum_{n=1}^N \\frac{ \\binom{\\ell}{d_n} }{ \\binom{S}{d_n} } S \\lambda p_n\n",
    "= \\rho \\sum_{n=1}^N \\frac{ \\binom{\\ell-1}{d_n-1} }{ \\binom{S-1}{d_n-1} } p_n\n",
    "$$\n",
    "is the load in the subsystem restricted to $\\ell$ arbitrary servers."
   ]
  },
  {
   "cell_type": "markdown",
   "metadata": {},
   "source": [
    "Implementation: We let\n",
    "$$\n",
    "b_{n,\\ell} = p_n \\frac{ \\binom\\ell{d_n} }{ \\binom{S}{d_n} },\n",
    "$$\n",
    "and we compute it by induction on $\\ell$ for each $n$, using the formula:\n",
    "$$\n",
    "\\binom\\ell{d} = \\left( 1 + \\frac{d-1}{\\ell-d} \\right) \\times \\binom{\\ell-1}{d}.\n",
    "$$\n",
    "Then we let $w_\\ell = \\sum_{n=1}^N b_{n,\\ell}$ for each $\\ell = 1,\\ldots,S$.\n",
    "\n",
    "We can express all the metrics as functions of these quantities:\n",
    "\\begin{align*}\n",
    "\\rho_\\ell &= \\rho \\times w_\\ell, \\\\\n",
    "\\psi &= \\prod_{\\ell=1}^S (1 - \\rho_{\\ell}), \\\\\n",
    "L &= \\sum_{\\ell=1}^S \\frac{ \\rho_{|\\ell} }{ 1 - \\rho_{|\\ell} }, \\\\\n",
    "\\rho_{n|\\ell} &= \\frac{ \\rho \\times b_{n,\\ell} }{ 1 - \\rho (w_\\ell - b_{n,\\ell}) }, \\\\\n",
    "L_n &= \\sum_{\\ell=d_n}^S \\frac{ \\rho_{n|\\ell} }{ 1 - \\rho_{n|\\ell} }\n",
    "\\end{align*}"
   ]
  },
  {
   "cell_type": "code",
   "execution_count": 3,
   "metadata": {
    "ExecuteTime": {
     "end_time": "2019-08-28T14:00:45.826839Z",
     "start_time": "2019-08-28T14:00:45.812904Z"
    }
   },
   "outputs": [],
   "source": [
    "def differentiated(S, d, p, ρ):\n",
    "    N = len(d);\n",
    "    b = zeros((N,S), dtype=float)\n",
    "    for n in range(N):\n",
    "        b[n,d[n]-1] = 1.\n",
    "        b[n,d[n]:] = cumprod(1 + (d[n]-1) / arange(1, S-d[n]+1))\n",
    "        b[n,:] *= p[n] / b[n,-1]\n",
    "    w = sum(b, axis = 0) # sum for all n = 1,...,N\n",
    "    \n",
    "    Ln = zeros(N)\n",
    "    \n",
    "    ρℓ = ρ * w\n",
    "    ψ = prod(1. - ρℓ)\n",
    "    L = sum(ρℓ / (1. - ρℓ))\n",
    "    for n in range(N):\n",
    "        ρnℓ = ρ * b[n,:] / (1. - ρ * (w - b[n,:]))\n",
    "        Ln[n] = sum(ρnℓ / (1. - ρnℓ))\n",
    "    \n",
    "    return ψ, L/S/ρ, Ln/S/ρ/p"
   ]
  },
  {
   "cell_type": "markdown",
   "metadata": {},
   "source": [
    "## 2. Local assignment (Section 6.3)"
   ]
  },
  {
   "cell_type": "markdown",
   "metadata": {},
   "source": [
    "### Random customer assignment (Subsection 6.3.3)"
   ]
  },
  {
   "cell_type": "markdown",
   "metadata": {},
   "source": [
    "Rn a homogeneous, local, randomized load balancing system of parameters $ S $, $ d $ and $ \\rho =\\frac{\\lambda}{\\mu} $, the stability condition is $ \\rho < 1 $. Defining $ \\rho_{|\\ell} = \\frac{1-\\frac{d-1}{\\ell}}{1-\\frac{d-1}{S}}\\rho$, the probability that the system is empty is $\\psi = \\psi_{|1..S}$ , with\n",
    "\t$$\n",
    "\t\\psi_{|1..\\ell} = \\left\\{\n",
    "\t\\begin{array}{l}\n",
    "\t1 \\text{ if } \\ell<d\\text{,}\\\\\n",
    "\t(1-\\rho_{|\\ell})\\frac{\\ell}{\\sum_{k=1}^{\\ell}\\frac{1}{\\psi_{|1..k-1}\\psi_{|1..\\ell-k}}}\n",
    "\t\\text{ otherwise.}\n",
    "\t\\end{array}\n",
    "\t \\right.\n",
    "\t$$"
   ]
  },
  {
   "cell_type": "code",
   "execution_count": 4,
   "metadata": {
    "ExecuteTime": {
     "end_time": "2019-08-28T14:00:45.837592Z",
     "start_time": "2019-08-28T14:00:45.828797Z"
    }
   },
   "outputs": [],
   "source": [
    "def ψ_local(S=10, d=3, ρ=.5):\n",
    "    ψ = ones(S+1)\n",
    "    for ℓ in range(d, S+1):\n",
    "        ρℓ = ρ * (1 - (d - 1) / ℓ) / (1 - (d - 1) / S)\n",
    "        ψ[ℓ] = (1 - ρℓ) * ℓ / sum([1 / ψ[k-1] / ψ[ℓ-k] for k in range(1, ℓ+1)])\n",
    "    return ψ"
   ]
  },
  {
   "cell_type": "markdown",
   "metadata": {},
   "source": [
    "For each $i\\in 1..S-d+1$, the mean number of class-$i$ jobs in the system is $L_{i} = L_{i|1..S}$, with\n",
    "\\begin{equation}\n",
    "L_{i|1..\\ell} =\n",
    "\\frac{\\frac{\\rho_{|S}}{1-\\frac{d-1}{S}}\t\t\n",
    "+\\psi_{|1..\\ell}\\left(\n",
    "\\sum\\limits_{k=1}^{i-1}\\frac{L_{i-k|1..\\ell-k}}{\\psi_{|1..k-1}\\psi_{|1..\\ell-k}}\n",
    "\t+\n",
    "\\sum\\limits_{k=i+d}^{\\ell}\\frac{L_{i|1..k-1}}{\\psi_{|1..k-1}\\psi_{|1..\\ell-k}}\n",
    "\\right)\n",
    "}{\\ell(1-\\rho_{|\\ell})}\\text{,}\n",
    "\\end{equation}"
   ]
  },
  {
   "cell_type": "code",
   "execution_count": 5,
   "metadata": {
    "ExecuteTime": {
     "end_time": "2019-08-28T14:00:45.850381Z",
     "start_time": "2019-08-28T14:00:45.839254Z"
    }
   },
   "outputs": [],
   "source": [
    "def Li_local(S=10, d=3, ρ=.5):\n",
    "    ψ = ψ_local(S, d, ρ)\n",
    "    Li = zeros([S - d + 2, S + 1])\n",
    "    for i in range(1, S - d + 2):\n",
    "        for ℓ in range(i + d - 1, S + 1):\n",
    "            ρℓ = ρ * (1 - (d - 1) / ℓ) / (1 - (d - 1) / S)\n",
    "            Li[i,ℓ] = ((ρ / (1 - (d - 1) / S)\n",
    "                        + ψ[ℓ] * (sum([Li[i-k,ℓ-k] / ψ[k-1] / ψ[ℓ-k] for k in range(1, i)])\n",
    "                                  + sum([Li[i,k-1] / ψ[k-1] / ψ[ℓ-k] for k in range(i+d, ℓ+1)])))\n",
    "                       / ℓ / (1 - ρℓ))\n",
    "    return Li[1:,-1]"
   ]
  },
  {
   "cell_type": "markdown",
   "metadata": {},
   "source": [
    "The total mean number of jobs in the system is $L = L_{|1..S}$, with\n",
    "\\begin{equation}\n",
    "L_{|1..\\ell} = \\frac{\n",
    "\t\t\\rho_{|\\ell}+\\frac{\\psi_{|1..\\ell}}{\\ell}\\sum_{k=1}^{\\ell}\\frac{L_{|1..k-1}+L_{|1..\\ell-k}}{\\psi_{|1..k-1}\\psi_{|1..\\ell-k}}\n",
    "\t}{1-\\rho_{|\\ell}\n",
    "}\\text{.}\n",
    "\\end{equation}\n",
    "\n",
    "We check with a specific function that it matches the Lis"
   ]
  },
  {
   "cell_type": "code",
   "execution_count": 6,
   "metadata": {
    "ExecuteTime": {
     "end_time": "2019-08-28T14:00:45.864236Z",
     "start_time": "2019-08-28T14:00:45.853542Z"
    }
   },
   "outputs": [],
   "source": [
    "def L_local(S=10, d=3, ρ=.5):\n",
    "    ψ = ψ_local(S, d, ρ)\n",
    "    L = zeros(S+1)\n",
    "    for ℓ in range(d, S+1):\n",
    "        ρℓ = ρ * (1 - (d - 1) / ℓ) / (1 - (d - 1) / S)\n",
    "        L[ℓ] = (ρℓ + ψ[ℓ] / ℓ * sum([(L[k-1] + L[ℓ-k]) / ψ[k-1] / ψ[ℓ-k] for k in range(1,ℓ+1)])) / (1 - ρℓ)\n",
    "    return L[-1]"
   ]
  },
  {
   "cell_type": "code",
   "execution_count": 7,
   "metadata": {
    "ExecuteTime": {
     "end_time": "2019-08-28T14:00:45.874444Z",
     "start_time": "2019-08-28T14:00:45.866971Z"
    }
   },
   "outputs": [],
   "source": [
    "def R_local(S=10, d=3, ρ=.5):\n",
    "    return ρ / (1 - ρ) + L_local(S-1, d, (1 - (d - 1) / (S - 1)) * ρ)"
   ]
  },
  {
   "cell_type": "markdown",
   "metadata": {},
   "source": [
    "## 3. Gain of differentiation (Subsection 6.4.1)"
   ]
  },
  {
   "cell_type": "markdown",
   "metadata": {},
   "source": [
    "### Rmpact of load"
   ]
  },
  {
   "cell_type": "code",
   "execution_count": 8,
   "metadata": {
    "ExecuteTime": {
     "end_time": "2019-08-28T14:00:45.894448Z",
     "start_time": "2019-08-28T14:00:45.878538Z"
    }
   },
   "outputs": [],
   "source": [
    "import pandas as pd\n",
    "def diff_study(S=100, step=.001):\n",
    "    ρρ = arange(step, 1, step)\n",
    "    R = len(ρρ)\n",
    "    d6 = zeros(R)\n",
    "    d8 = zeros(R)\n",
    "    d9 = zeros(R)\n",
    "    d12 = zeros(R)\n",
    "    dm = zeros(R)\n",
    "    d6m = zeros(R)\n",
    "    d12m = zeros(R)\n",
    "    \n",
    "    for i,ρ in enumerate(ρρ):\n",
    "        trash1,d6[i],trash2 = differentiated(S, [4], [1], ρ) #6\n",
    "        trash1,d8[i],trash2 = differentiated(S, [8], [1], ρ)\n",
    "        trash1,d9[i],trash2 = differentiated(S, [9], [1], ρ)\n",
    "        trash1,d12[i],trash2 = differentiated(S, [14], [1], ρ) #12\n",
    "        trash1,dm[i], D = differentiated(S, [4, 14], [.5, .5], ρ) # mix\n",
    "        d6m[i] = D[0]\n",
    "        d12m[i] = D[1]\n",
    "    csv = pd.DataFrame({'rho': ρρ, 'd6': d6, 'd8': d8, 'd9': d9, 'd12': d12, 'd6m': d6m, 'd12m': d12m, 'dm': dm})\n",
    "    fn = \"hetero1_\"+str(S)+\".csv\"\n",
    "    csv.to_csv(fn, index=False)    "
   ]
  },
  {
   "cell_type": "code",
   "execution_count": 9,
   "metadata": {
    "ExecuteTime": {
     "end_time": "2019-08-28T14:00:46.544020Z",
     "start_time": "2019-08-28T14:00:45.896802Z"
    }
   },
   "outputs": [],
   "source": [
    "diff_study()"
   ]
  },
  {
   "cell_type": "code",
   "execution_count": 10,
   "metadata": {
    "ExecuteTime": {
     "end_time": "2019-08-28T14:00:46.780276Z",
     "start_time": "2019-08-28T14:00:46.546160Z"
    }
   },
   "outputs": [
    {
     "data": {
      "image/png": "[encoded data removed]",
      "text/plain": [
       "<Figure size 432x288 with 1 Axes>"
      ]
     },
     "metadata": {
      "needs_background": "light"
     },
     "output_type": "display_data"
    }
   ],
   "source": [
    "csv = pd.read_csv(\"hetero1_100.csv\")\n",
    "plot(csv['rho'].values, 1 / csv['d6'].values, label=\"d6\")\n",
    "plot(csv['rho'].values, 1 / csv['d6m'].values, label=\"d6m\")\n",
    "plot(csv['rho'].values, 1 / csv['d12m'].values, label=\"d12m\")\n",
    "plot(csv['rho'].values, 1 / csv['d12'].values, label=\"d12\")\n",
    "xlim([0, 1])\n",
    "ymin, ymax = ylim()   # return the current ylim\n",
    "ylim( (0, 15) )  # set the ylim to ymin, ymax\n",
    "legend()\n",
    "show()"
   ]
  },
  {
   "cell_type": "markdown",
   "metadata": {},
   "source": [
    "### Rmpact of population distribution"
   ]
  },
  {
   "cell_type": "code",
   "execution_count": 11,
   "metadata": {
    "ExecuteTime": {
     "end_time": "2019-08-28T14:00:47.115030Z",
     "start_time": "2019-08-28T14:00:46.789430Z"
    }
   },
   "outputs": [],
   "source": [
    "#def diff_study2(S = 100, ρ = .9, step=.005):\n",
    "S = 100\n",
    "step = .001\n",
    "ρl = .2\n",
    "ρm = .9\n",
    "ρh = .99\n",
    "\n",
    "pp = arange(step, 1, step)\n",
    "R = len(pp)\n",
    "d6l = zeros(R)\n",
    "d12l = zeros(R)\n",
    "d6m = zeros(R)\n",
    "d12m = zeros(R)\n",
    "d6h = zeros(R)\n",
    "d12h = zeros(R)\n",
    "\n",
    "classe = [4, 8]\n",
    "\n",
    "for i,p in enumerate(pp):\n",
    "    trash1,trash2,d = differentiated(S, classe, [p, 1-p], ρl)\n",
    "    d6l[i] = d[0]\n",
    "    d12l[i] = d[1]\n",
    "    trash1,trash2,d = differentiated(S, classe, [p, 1-p], ρm)\n",
    "    d6m[i] = d[0]\n",
    "    d12m[i] = d[1]\n",
    "    trash1,trash2,d = differentiated(S, classe, [p, 1-p], ρh)\n",
    "    d6h[i] = d[0]\n",
    "    d12h[i] = d[1]\n",
    "csv = pd.DataFrame({'p': pp, 'd6l': d6l, 'd12l': d12l, 'd6m': d6m, 'd12m': d12m, 'd6h': d6h, 'd12h': d12h})\n",
    "fn = \"hetero2.csv\"\n",
    "csv.to_csv(fn, index=False)    "
   ]
  },
  {
   "cell_type": "code",
   "execution_count": 12,
   "metadata": {
    "ExecuteTime": {
     "end_time": "2019-08-28T14:00:47.315990Z",
     "start_time": "2019-08-28T14:00:47.117160Z"
    }
   },
   "outputs": [
    {
     "data": {
      "image/png": "[encoded data removed]",
      "text/plain": [
       "<Figure size 432x288 with 1 Axes>"
      ]
     },
     "metadata": {
      "needs_background": "light"
     },
     "output_type": "display_data"
    }
   ],
   "source": [
    "csv = pd.read_csv(\"hetero2.csv\")\n",
    "plot(csv['p'].values, 1 / csv['d6h'].values, label=\"d6h\")\n",
    "plot(csv['p'].values, 1 / csv['d12h'].values, label=\"d12h\")\n",
    "plot(csv['p'].values, 1 / csv['d6m'].values, label=\"d6m\")\n",
    "plot(csv['p'].values, 1 / csv['d12m'].values, label=\"d12m\")\n",
    "xlim([0, 1])\n",
    "ymin, ymax = ylim()   # return the current ylim\n",
    "ylim( (0, 5) )  # set the ylim to ymin, ymax\n",
    "legend()\n",
    "show()"
   ]
  },
  {
   "cell_type": "markdown",
   "metadata": {},
   "source": [
    "## 4. Rmpact of locality (Subsection 6.4.2)"
   ]
  },
  {
   "cell_type": "markdown",
   "metadata": {},
   "source": [
    "### Cost of heterogeneity and locality"
   ]
  },
  {
   "cell_type": "code",
   "execution_count": 13,
   "metadata": {
    "ExecuteTime": {
     "end_time": "2019-08-28T14:00:47.942704Z",
     "start_time": "2019-08-28T14:00:47.318345Z"
    }
   },
   "outputs": [
    {
     "data": {
      "image/png": "[encoded data removed]",
      "text/plain": [
       "<Figure size 432x288 with 1 Axes>"
      ]
     },
     "metadata": {
      "needs_background": "light"
     },
     "output_type": "display_data"
    }
   ],
   "source": [
    "S = 100\n",
    "d = 10\n",
    "ρ = .9999\n",
    "\n",
    "Ls = Li_local(S, d, ρ)\n",
    "ring_delay = R_local(S, d, ρ)\n",
    "range_a = L_local(S, d, ρ)\n",
    "range_i = Ls * (S - d + 1)\n",
    "R = homogeneous(S, d, ρ)\n",
    "\n",
    "plot(range(1, S - d + 2), range_i, label=\"Local (classes)\")\n",
    "plot([1, S - d + 1], ring_delay * ones(2), label=\"Local (Ring)\")\n",
    "plot([1, S - d + 1], range_a * ones(2), label=\"Local (mean)\")\n",
    "plot([1, S - d + 1], R * ones(2), label=\"Non-local\")\n",
    "xlim([1, S - d + 1])\n",
    "ymin, ymax = ylim()   # return the current ylim\n",
    "ylim( (0, ymax) )  # set the ylim to ymin, ymax\n",
    "legend()\n",
    "show()"
   ]
  },
  {
   "cell_type": "code",
   "execution_count": 14,
   "metadata": {
    "ExecuteTime": {
     "end_time": "2019-08-28T14:00:48.526381Z",
     "start_time": "2019-08-28T14:00:47.944916Z"
    }
   },
   "outputs": [
    {
     "data": {
      "image/png": "[encoded data removed]",
      "text/plain": [
       "<Figure size 432x288 with 1 Axes>"
      ]
     },
     "metadata": {
      "needs_background": "light"
     },
     "output_type": "display_data"
    }
   ],
   "source": [
    "S = 100\n",
    "d = 2\n",
    "ρ = .999\n",
    "\n",
    "Ls = Li_local(S, d, ρ)\n",
    "ring_delay = R_local(S, d, ρ)\n",
    "range_a = L_local(S, d, ρ)\n",
    "range_i = Ls * (S - d + 1)\n",
    "R = homogeneous(S, d, ρ)\n",
    "\n",
    "plot(range(1, S - d + 2), range_i, label=\"Local (classes)\")\n",
    "plot([1, S - d + 1], ring_delay * ones(2), label=\"Local (Ring)\")\n",
    "plot([1, S - d + 1], range_a * ones(2), label=\"Local (mean)\")\n",
    "plot([1, S - d + 1], R * ones(2), label=\"Non-local\")\n",
    "xlim([0, S - d + 1])\n",
    "ymin, ymax = ylim()   # return the current ylim\n",
    "ylim( (0, ymax) )  # set the ylim to ymin, ymax\n",
    "legend()\n",
    "show()"
   ]
  },
  {
   "cell_type": "code",
   "execution_count": 15,
   "metadata": {
    "ExecuteTime": {
     "end_time": "2019-08-28T14:00:48.542367Z",
     "start_time": "2019-08-28T14:00:48.528480Z"
    }
   },
   "outputs": [],
   "source": [
    "def load_study(S = 100, d=10, ρ = .9):\n",
    "    c = arange(1, S - d + 2)\n",
    "    Li = Li_local(S, d, ρ) * (S - d + 1) / S / ρ\n",
    "    L = L_local(S, d, ρ) / S / ρ * ones(S-d+1)\n",
    "    R = R_local(S, d, ρ) / S / ρ * ones(S-d+1)\n",
    "    G = homogeneous(S, d, ρ) / S / ρ * ones(S - d + 1)\n",
    "    csv = pd.DataFrame({'c': c, 'Li': Li, 'L': L, 'R': R, 'G': G})\n",
    "    fn = \"load_study_S_\" + str(S) + \"_d_\" + str(d) + \"_rho_\" + str(ρ) + \".csv\"\n",
    "    csv.to_csv(fn, index=False)    "
   ]
  },
  {
   "cell_type": "code",
   "execution_count": 16,
   "metadata": {
    "ExecuteTime": {
     "end_time": "2019-08-28T14:00:48.557225Z",
     "start_time": "2019-08-28T14:00:48.544780Z"
    }
   },
   "outputs": [],
   "source": [
    "def plot_local_study(S = 100, d = 10, ρ = .9):\n",
    "    try:\n",
    "        csv = pd.read_csv(\"load_study_S_\" + str(S) + \"_d_\" + str(d) + \"_rho_\" + str(ρ) + \".csv\")\n",
    "    except:\n",
    "        load_study(S, d, ρ)\n",
    "        csv = pd.read_csv(\"load_study_S_\" + str(S) + \"_d_\" + str(d) + \"_rho_\" + str(ρ) + \".csv\")\n",
    "    plot(csv['c'].values, csv['Li'].values, label=\"Local (classes)\")\n",
    "    plot(csv['c'].values, csv['R'].values, label=\"Local (Ring)\")\n",
    "    plot(csv['c'].values, csv['L'].values, label=\"Local (mean)\")\n",
    "    plot(csv['c'].values, csv['G'].values, label=\"Non-local\")\n",
    "    xlim([1, S - d + 1])\n",
    "    ymin, ymax = ylim()   # return the current ylim\n",
    "    ylim( (0, ymax) )  # set the ylim to ymin, ymax\n",
    "    legend()\n",
    "    show()"
   ]
  },
  {
   "cell_type": "code",
   "execution_count": 17,
   "metadata": {
    "ExecuteTime": {
     "end_time": "2019-08-28T14:00:48.818030Z",
     "start_time": "2019-08-28T14:00:48.559138Z"
    }
   },
   "outputs": [
    {
     "data": {
      "image/png": "[encoded data removed]",
      "text/plain": [
       "<Figure size 432x288 with 1 Axes>"
      ]
     },
     "metadata": {
      "needs_background": "light"
     },
     "output_type": "display_data"
    }
   ],
   "source": [
    "plot_local_study(ρ=.5)"
   ]
  },
  {
   "cell_type": "markdown",
   "metadata": {},
   "source": [
    "### Rmpact of the parameters"
   ]
  },
  {
   "cell_type": "markdown",
   "metadata": {},
   "source": [
    "#### Load $\\rho$"
   ]
  },
  {
   "cell_type": "code",
   "execution_count": 18,
   "metadata": {
    "ExecuteTime": {
     "end_time": "2019-08-28T14:00:48.831120Z",
     "start_time": "2019-08-28T14:00:48.820400Z"
    }
   },
   "outputs": [],
   "source": [
    "import pandas as pd\n",
    "def load_study_rho(S=100, d=10, step=.001):\n",
    "    ρρ = arange(step, 1, step)\n",
    "    R = len(ρρ)\n",
    "    L = zeros(R)\n",
    "    R = zeros(R)\n",
    "    G = zeros(R)\n",
    "    for i,ρ in enumerate(ρρ):\n",
    "        norm = S * ρ\n",
    "        L[i] = L_local(S, d, ρ) / norm\n",
    "        R[i] = R_local(S, d, ρ) / norm\n",
    "        G[i] = homogeneous(S, d, ρ) / norm\n",
    "    csv = pd.DataFrame({'rho': ρρ, 'L': L, 'R': R, 'G': G})\n",
    "    fn = \"load_study_rho_S_\" + str(S) + \"_d_\" + str(d) + \".csv\"\n",
    "    csv.to_csv(fn, index=False)    "
   ]
  },
  {
   "cell_type": "code",
   "execution_count": 19,
   "metadata": {
    "ExecuteTime": {
     "end_time": "2019-08-28T14:00:48.845184Z",
     "start_time": "2019-08-28T14:00:48.833870Z"
    }
   },
   "outputs": [],
   "source": [
    "def plot_local_study_rho(S=100, d=10, step=.001):\n",
    "    try:\n",
    "        csv = pd.read_csv(\"load_study_rho_S_\" + str(S) + \"_d_\" + str(d) + \".csv\")\n",
    "    except:\n",
    "        load_study_rho(S, d, step)\n",
    "        csv = pd.read_csv(\"load_study_rho_S_\" + str(S) + \"_d_\" + str(d) + \".csv\")\n",
    "    plot(csv['rho'].values, csv['R'].values, label=\"Ring\")\n",
    "    plot(csv['rho'].values, csv['L'].values, label=\"Local\")\n",
    "    plot(csv['rho'].values, csv['G'].values, label=\"Non-local\")\n",
    "    xlim([0,1])\n",
    "    ymin, ymax = ylim()   # return the current ylim\n",
    "    ylim( (0, 2) )  # set the ylim to ymin, ymax\n",
    "    legend()\n",
    "    show()"
   ]
  },
  {
   "cell_type": "code",
   "execution_count": 20,
   "metadata": {
    "ExecuteTime": {
     "end_time": "2019-08-28T14:00:49.102976Z",
     "start_time": "2019-08-28T14:00:48.848204Z"
    }
   },
   "outputs": [
    {
     "data": {
      "image/png": "[encoded data removed]",
      "text/plain": [
       "<Figure size 432x288 with 1 Axes>"
      ]
     },
     "metadata": {
      "needs_background": "light"
     },
     "output_type": "display_data"
    }
   ],
   "source": [
    "plot_local_study_rho(100, 10, step=.001)"
   ]
  },
  {
   "cell_type": "markdown",
   "metadata": {},
   "source": [
    "#### Parallelism degree $d$"
   ]
  },
  {
   "cell_type": "code",
   "execution_count": 21,
   "metadata": {
    "ExecuteTime": {
     "end_time": "2019-08-28T14:00:49.114280Z",
     "start_time": "2019-08-28T14:00:49.105683Z"
    }
   },
   "outputs": [],
   "source": [
    "def load_study_d(S=100, ρ=.9):\n",
    "    dd = arange(1, S+1)\n",
    "    R = len(dd)\n",
    "    L = zeros(R)\n",
    "    R = zeros(R)\n",
    "    G = zeros(R)\n",
    "    for i,d in enumerate(dd):\n",
    "        norm = S * ρ\n",
    "        L[i] = L_local(S, d, ρ) / norm\n",
    "        R[i] = R_local(S, d, ρ) / norm\n",
    "        G[i] = homogeneous(S, d, ρ) / norm\n",
    "    csv = pd.DataFrame({'d': dd, 'L': L, 'R': R, 'G': G})\n",
    "    fn = \"load_study_d_S_\" + str(S) + \"_rho_\" + str(ρ) + \".csv\"\n",
    "    csv.to_csv(fn, index=False)    "
   ]
  },
  {
   "cell_type": "code",
   "execution_count": 22,
   "metadata": {
    "ExecuteTime": {
     "end_time": "2019-08-28T14:00:49.125922Z",
     "start_time": "2019-08-28T14:00:49.116757Z"
    }
   },
   "outputs": [],
   "source": [
    "def plot_local_study_d(S=100, ρ=.9):\n",
    "    try:\n",
    "        csv = pd.read_csv(\"load_study_d_S_\" + str(S) + \"_rho_\" + str(ρ) + \".csv\")\n",
    "    except:\n",
    "        load_study_d(S, ρ)\n",
    "        csv = pd.read_csv(\"load_study_d_S_\" + str(S) + \"_rho_\" + str(ρ) + \".csv\")\n",
    "    plot(csv['d'].values, csv['R'].values, label=\"Ring\")\n",
    "    plot(csv['d'].values, csv['L'].values, label=\"Local\")\n",
    "    plot(csv['d'].values, csv['G'].values, label=\"Non-local\")\n",
    "    xlim([1,S])\n",
    "    ymin, ymax = ylim()   # return the current ylim\n",
    "    ylim( (0, 2) )  # set the ylim to ymin, ymax\n",
    "    legend()\n",
    "    show()"
   ]
  },
  {
   "cell_type": "code",
   "execution_count": 23,
   "metadata": {
    "ExecuteTime": {
     "end_time": "2019-08-28T14:00:49.367099Z",
     "start_time": "2019-08-28T14:00:49.130395Z"
    }
   },
   "outputs": [
    {
     "data": {
      "image/png": "[encoded data removed]",
      "text/plain": [
       "<Figure size 432x288 with 1 Axes>"
      ]
     },
     "metadata": {
      "needs_background": "light"
     },
     "output_type": "display_data"
    }
   ],
   "source": [
    "plot_local_study_d(100, .9)"
   ]
  },
  {
   "cell_type": "markdown",
   "metadata": {},
   "source": [
    "#### Number $S$ of servers"
   ]
  },
  {
   "cell_type": "code",
   "execution_count": 24,
   "metadata": {
    "ExecuteTime": {
     "end_time": "2019-08-28T14:00:49.379362Z",
     "start_time": "2019-08-28T14:00:49.369817Z"
    }
   },
   "outputs": [],
   "source": [
    "def load_study_S(Smax=100, d=10, ρ=.9):\n",
    "    SS = arange(d + 1, Smax + 1)\n",
    "    R = len(SS)\n",
    "    L = zeros(R)\n",
    "    R = zeros(R)\n",
    "    G = zeros(R)\n",
    "    for i, S in enumerate(SS):\n",
    "        norm = S * ρ\n",
    "        L[i] = L_local(S, d, ρ) / norm\n",
    "        R[i] = R_local(S, d, ρ) / norm\n",
    "        G[i] = homogeneous(S, d, ρ) / norm\n",
    "    csv = pd.DataFrame({'S': SS, 'L': L, 'R': R, 'G': G})\n",
    "    fn = \"load_study_S_Smax_\" + str(Smax) + \"_d_\" + str(d) + \"_rho_\" + str(ρ) + \".csv\"\n",
    "    csv.to_csv(fn, index=False)    "
   ]
  },
  {
   "cell_type": "code",
   "execution_count": 25,
   "metadata": {
    "ExecuteTime": {
     "end_time": "2019-08-28T14:00:49.391840Z",
     "start_time": "2019-08-28T14:00:49.381605Z"
    }
   },
   "outputs": [],
   "source": [
    "def plot_local_study_S(Smax=100, d=10, ρ=.9):\n",
    "    try:\n",
    "        csv = pd.read_csv(\"load_study_S_Smax_\" + str(Smax) + \"_d_\" + str(d) + \"_rho_\" + str(ρ) + \".csv\")\n",
    "    except:\n",
    "        load_study_S(Smax, d, ρ)\n",
    "        csv = pd.read_csv(\"load_study_S_Smax_\" + str(Smax) + \"_d_\" + str(d) + \"_rho_\" + str(ρ) + \".csv\")\n",
    "    plot(csv['S'].values, 1 / csv['R'].values, label=\"Ring\")\n",
    "    plot(csv['S'].values, 1 / csv['L'].values, label=\"Local\")\n",
    "    plot(csv['S'].values, 1 / csv['G'].values, label=\"Non-local\")\n",
    "    xlim([d + 1, Smax])\n",
    "    ymin, ymax = ylim()   # return the current ylim\n",
    "    ylim( (0, 2) )  # set the ylim to ymin, ymax\n",
    "    legend()\n",
    "    show()"
   ]
  },
  {
   "cell_type": "code",
   "execution_count": 26,
   "metadata": {
    "ExecuteTime": {
     "end_time": "2019-08-28T14:00:49.605295Z",
     "start_time": "2019-08-28T14:00:49.394847Z"
    }
   },
   "outputs": [
    {
     "data": {
      "image/png": "[encoded data removed]",
      "text/plain": [
       "<Figure size 432x288 with 1 Axes>"
      ]
     },
     "metadata": {
      "needs_background": "light"
     },
     "output_type": "display_data"
    }
   ],
   "source": [
    "plot_local_study_S(300)"
   ]
  },
  {
   "cell_type": "code",
   "execution_count": 27,
   "metadata": {
    "ExecuteTime": {
     "end_time": "2019-08-28T14:00:49.806011Z",
     "start_time": "2019-08-28T14:00:49.607663Z"
    },
    "scrolled": true
   },
   "outputs": [
    {
     "data": {
      "image/png": "[encoded data removed]",
      "text/plain": [
       "<Figure size 432x288 with 1 Axes>"
      ]
     },
     "metadata": {
      "needs_background": "light"
     },
     "output_type": "display_data"
    }
   ],
   "source": [
    "plot_local_study_S(300)"
   ]
  }
 ],
 "metadata": {
  "kernelspec": {
   "display_name": "Python 3",
   "language": "python3",
   "name": "python3"
  },
  "language_info": {
   "codemirror_mode": {
    "name": "ipython",
    "version": 3
   },
   "file_extension": ".py",
   "mimetype": "text/x-python",
   "name": "python",
   "nbconvert_exporter": "python",
   "pygments_lexer": "ipython3",
   "version": "3.6.8"
  },
  "toc": {
   "base_numbering": 1,
   "nav_menu": {},
   "number_sections": false,
   "sideBar": true,
   "skip_h1_title": true,
   "title_cell": "Table of Contents",
   "title_sidebar": "Contents",
   "toc_cell": false,
   "toc_position": {},
   "toc_section_display": true,
   "toc_window_display": false
  }
 },
 "nbformat": 4,
 "nbformat_minor": 2
}
