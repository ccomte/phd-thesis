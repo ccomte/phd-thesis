{
 "cells": [
  {
   "cell_type": "markdown",
   "metadata": {},
   "source": [
    "# Section 9.1. Combining job scheduling and load balancing\n",
    "\n",
    "Plot the numerical results of Section 9.1."
   ]
  },
  {
   "cell_type": "markdown",
   "metadata": {},
   "source": [
    "## Package imports and global variable definitions"
   ]
  },
  {
   "cell_type": "code",
   "execution_count": null,
   "metadata": {},
   "outputs": [],
   "source": [
    "%pylab inline"
   ]
  },
  {
   "cell_type": "code",
   "execution_count": null,
   "metadata": {
    "hide_input": false
   },
   "outputs": [],
   "source": [
    "# uncomment this line if you prefer dynamic matplotlib plots\n",
    "# %matplotlib notebook\n",
    "\n",
    "# change the default figure size\n",
    "# pylab.rcParams['figure.figsize'] = (10.0, 6.0)\n",
    "pylab.rcParams['legend.fontsize'] = 12"
   ]
  },
  {
   "cell_type": "code",
   "execution_count": null,
   "metadata": {},
   "outputs": [],
   "source": [
    "# manipulate dataframes\n",
    "import pandas as pd"
   ]
  },
  {
   "cell_type": "code",
   "execution_count": null,
   "metadata": {},
   "outputs": [],
   "source": [
    "# useful in the function dynamic\n",
    "from scipy import special"
   ]
  },
  {
   "cell_type": "code",
   "execution_count": null,
   "metadata": {},
   "outputs": [],
   "source": [
    "# global variables\n",
    "ρρ = linspace(5., 0, 10000, endpoint=False)"
   ]
  },
  {
   "cell_type": "markdown",
   "metadata": {
    "hide_input": true
   },
   "source": [
    "## Results"
   ]
  },
  {
   "cell_type": "code",
   "execution_count": null,
   "metadata": {
    "hide_input": false
   },
   "outputs": [],
   "source": [
    "# load external results\n",
    "no_parallelization = pd.read_csv('../8-load-balancing/data/single-dynamic-exact.csv')\n",
    "parallelization_degree_3 = pd.read_csv('data/single-dynamic-exact-3.csv')\n",
    "parallelization_degree_4 = pd.read_csv('data/single-dynamic-exact-4.csv')\n",
    "parallelization_degree_5 = pd.read_csv('data/single-dynamic-exact-5.csv')"
   ]
  },
  {
   "cell_type": "code",
   "execution_count": null,
   "metadata": {
    "hide_input": true
   },
   "outputs": [],
   "source": [
    "# average loss and activity probability\n",
    "figure()\n",
    "\n",
    "# dynamic\n",
    "plot(no_parallelization['rho'], no_parallelization['beta'], 'C0', label=\"No parallelization\")\n",
    "plot(no_parallelization['rho'], no_parallelization['eta'], 'C0', label=\"\")\n",
    "\n",
    "# dynamic with 2 pooled computers\n",
    "plot(parallelization_degree_3['rho'], parallelization_degree_3['beta'],\n",
    "     'C1', label=\"Parallelization over 3 computers\")\n",
    "plot(parallelization_degree_3['rho'], parallelization_degree_3['eta'], 'C1', label=\"\")\n",
    "\n",
    "# dynamic with 2 pooled computers\n",
    "plot(parallelization_degree_4['rho'], parallelization_degree_4['beta'],\n",
    "     'C2', label=\"Parallelization over 4 computers\")\n",
    "plot(parallelization_degree_4['rho'], parallelization_degree_4['eta'], 'C2', label=\"\")\n",
    "\n",
    "# dynamic with 2 pooled computers\n",
    "plot(parallelization_degree_5['rho'], parallelization_degree_5['beta'],\n",
    "     'C5', label=\"Parallelization over 5 computers\")\n",
    "plot(parallelization_degree_5['rho'], parallelization_degree_5['eta'], 'C5', label=\"\")\n",
    "\n",
    "# ideal\n",
    "plot(ρρ, maximum(0, 1. - 1. / ρρ), 'C3--', label=\"Ideal\")\n",
    "plot(ρρ, minimum(1, ρρ), 'C3--')\n",
    "\n",
    "# references\n",
    "axvline(x=2/5, color='C4', linestyle=':')\n",
    "axvline(x=8/5, color='C4', linestyle=':')\n",
    "\n",
    "xlim(0, 3); ylim(0, 1)\n",
    "legend(loc=6, bbox_to_anchor=(1.05, .5))\n",
    "xlabel(\"Load ρ\"); ylabel(\"Probability\")\n",
    "title(\"Average loss and activity probabilities\")\n",
    "show()"
   ]
  },
  {
   "cell_type": "code",
   "execution_count": null,
   "metadata": {
    "hide_input": true
   },
   "outputs": [],
   "source": [
    "# average loss and activity probability\n",
    "figure()\n",
    "\n",
    "# dynamic\n",
    "semilogy(no_parallelization['rho'], no_parallelization['beta'], 'C0',\n",
    "         label=\"No parallelization\")\n",
    "\n",
    "# dynamic with 3 pooled computers\n",
    "semilogy(parallelization_degree_3['rho'], parallelization_degree_3['beta'], 'C1',\n",
    "         label=\"Parallelization over 3 computers\")\n",
    "\n",
    "# dynamic with 4 pooled computers\n",
    "semilogy(parallelization_degree_4['rho'], parallelization_degree_4['beta'], 'C2',\n",
    "         label=\"Parallelization over 4 computers\")\n",
    "\n",
    "# dynamic with 5 pooled computers\n",
    "semilogy(parallelization_degree_5['rho'], parallelization_degree_5['beta'], 'C5',\n",
    "         label=\"Parallelization over 5 computers\")\n",
    "\n",
    "# ideal\n",
    "semilogy(ρρ, maximum(0, 1. - 1. / ρρ), 'C3--', label=\"Ideal\")\n",
    "\n",
    "# reference\n",
    "axvline(x=2/5, color='C4', linestyle=':')\n",
    "axvline(x=8/5, color='C4', linestyle=':')\n",
    "\n",
    "xlim(0.8, 1.2); ylim(0.001, 1)\n",
    "legend(loc=6, bbox_to_anchor=(1.05, .5))\n",
    "xlabel(\"Load ρ\"); ylabel(\"Loss probability\")\n",
    "title(\"Average loss probability\")\n",
    "show()"
   ]
  },
  {
   "cell_type": "code",
   "execution_count": null,
   "metadata": {
    "hide_input": true
   },
   "outputs": [],
   "source": [
    "# mean number of jobs\n",
    "figure()\n",
    "\n",
    "# exact\n",
    "plot(no_parallelization['rho'], no_parallelization['L'],\n",
    "     'C0', label=\"No parallelization\")\n",
    "plot(parallelization_degree_3['rho'], parallelization_degree_3['L'],\n",
    "     'C1', label=\"Parallelization over 3 computers\")\n",
    "plot(parallelization_degree_4['rho'], parallelization_degree_4['L'],\n",
    "     'C2', label=\"Parallelization over 4 computers\")\n",
    "plot(parallelization_degree_5['rho'], parallelization_degree_5['L'],\n",
    "     'C5', label=\"Parallelization over 5 computers\")\n",
    "\n",
    "# reference\n",
    "axvline(x=2/5, color='C4', linestyle=':')\n",
    "axvline(x=8/5, color='C4', linestyle=':')\n",
    "\n",
    "xlim(0, 3); ylim(0, 60)\n",
    "legend(loc='best')\n",
    "title(\"Mean number of jobs\")\n",
    "xlabel(\"Load ρ\"); ylabel(\"Number of jobs\")\n",
    "show()"
   ]
  },
  {
   "cell_type": "code",
   "execution_count": null,
   "metadata": {
    "hide_input": true
   },
   "outputs": [],
   "source": [
    "# mean service rate\n",
    "figure()\n",
    "\n",
    "# exact\n",
    "plot(no_parallelization['rho'], no_parallelization['gamma'], 'C0',\n",
    "     label=\"No parallelization\")\n",
    "plot(parallelization_degree_3['rho'], parallelization_degree_3['gamma'], 'C1',\n",
    "     label=\"Parallelization over 3 computers\")\n",
    "plot(parallelization_degree_4['rho'], parallelization_degree_4['gamma'], 'C2',\n",
    "     label=\"Parallelization over 4 computers\")\n",
    "plot(parallelization_degree_5['rho'], parallelization_degree_5['gamma'], 'C5',\n",
    "     label=\"Parallelization over 5 computers\")\n",
    "\n",
    "# reference\n",
    "axvline(x=2/5, color='C4', linestyle=':')\n",
    "axvline(x=8/5, color='C4', linestyle=':')\n",
    "axhline(y=2.5/6, color='C4', linestyle=':')\n",
    "\n",
    "xlim(0, 3); ylim(ymin = 0)\n",
    "legend(loc='best')\n",
    "xlabel(\"Load ρ\"); ylabel(\"Service rate\")\n",
    "title(\"Mean service rate\")\n",
    "show()"
   ]
  }
 ],
 "metadata": {
  "language_info": {
   "name": "python",
   "pygments_lexer": "ipython3"
  }
 },
 "nbformat": 4,
 "nbformat_minor": 2
}
