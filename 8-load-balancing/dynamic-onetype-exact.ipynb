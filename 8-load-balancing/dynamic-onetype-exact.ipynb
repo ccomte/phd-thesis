{
 "cells": [
  {
   "cell_type": "markdown",
   "metadata": {},
   "source": [
    "# Chapter 8. Load balancing\n",
    "\n",
    "# Céline Comte"
   ]
  },
  {
   "cell_type": "markdown",
   "metadata": {},
   "source": [
    "This Notebook computes numerical results for Chapter 8 of the Ph.D. thesis *Resource management in computer clusters: algorithm design and performance analysis* by Céline Comte. Specifically, the following piece of code computes the overall performance of the dynamic load balancing when there is a single job type. The obtained results are used for the paragraph \"Number of tokens\" in Section 8.3.1."
   ]
  },
  {
   "cell_type": "markdown",
   "metadata": {
    "heading_collapsed": true
   },
   "source": [
    "## Package imports and global variable definitions"
   ]
  },
  {
   "cell_type": "code",
   "execution_count": 1,
   "metadata": {
    "ExecuteTime": {
     "end_time": "2019-08-16T14:44:45.823393Z",
     "start_time": "2019-08-16T14:44:45.527360Z"
    },
    "hidden": true
   },
   "outputs": [
    {
     "name": "stdout",
     "output_type": "stream",
     "text": [
      "Populating the interactive namespace from numpy and matplotlib\n"
     ]
    }
   ],
   "source": [
    "%pylab inline"
   ]
  },
  {
   "cell_type": "code",
   "execution_count": 2,
   "metadata": {
    "ExecuteTime": {
     "end_time": "2019-08-16T14:44:45.832003Z",
     "start_time": "2019-08-16T14:44:45.826329Z"
    },
    "hidden": true
   },
   "outputs": [],
   "source": [
    "# uncomment this line if you prefer dynamic matplotlib plots\n",
    "# %matplotlib notebook\n",
    "\n",
    "# change the default figure size\n",
    "pylab.rcParams['figure.figsize'] = (10.0, 6.0)\n",
    "pylab.rcParams['legend.fontsize'] = 12"
   ]
  },
  {
   "cell_type": "code",
   "execution_count": 3,
   "metadata": {
    "ExecuteTime": {
     "end_time": "2019-08-16T14:44:46.042862Z",
     "start_time": "2019-08-16T14:44:45.835303Z"
    },
    "hidden": true
   },
   "outputs": [],
   "source": [
    "# manipulate dataframes\n",
    "import pandas as pd"
   ]
  },
  {
   "cell_type": "code",
   "execution_count": 4,
   "metadata": {
    "ExecuteTime": {
     "end_time": "2019-08-16T14:44:46.050495Z",
     "start_time": "2019-08-16T14:44:46.045087Z"
    },
    "hidden": true
   },
   "outputs": [],
   "source": [
    "# global variables\n",
    "ρρ = append( linspace(5., .01, 400, endpoint = False), linspace(.01, 0, 10, endpoint = False) )"
   ]
  },
  {
   "cell_type": "markdown",
   "metadata": {},
   "source": [
    "## Compute performance"
   ]
  },
  {
   "cell_type": "markdown",
   "metadata": {
    "heading_collapsed": true
   },
   "source": [
    "### State aggregation"
   ]
  },
  {
   "cell_type": "markdown",
   "metadata": {
    "hidden": true
   },
   "source": [
    "The following aggregate formulas allow us to compute global performance metrics like the average blocking probability and the mean delay. We cannot use them to derive more detailed metrics like the probability that each server is idle or the mean number of jobs at each server. For this, we use the results obtained with the (slower) program ``exact-bipartite.c`` called by ``script.sh``."
   ]
  },
  {
   "cell_type": "markdown",
   "metadata": {
    "hidden": true
   },
   "source": [
    "**Stationary measure.**\n",
    "We focus on the aggregate state $y = (y_1,\\ldots,y_N)$ of the queue of available tokens.\n",
    "Any stationary measure $\\pi_N$ of this aggregate state is of the form\n",
    "$$\n",
    "\\pi_N(y) = \\frac1G \\Lambda(y) \\prod_{i=1}^N \\left( \\frac1{\\mu_i} \\right)^{\\ell_i - y_i},\n",
    "\\quad \\forall y \\le \\ell,\n",
    "$$\n",
    "where $G$ is a normalization constant,\n",
    "and the function $\\Lambda$ is defined recursively on\n",
    "$\\left\\{y \\in \\mathbb{N}^N: y \\le \\ell\\right\\}$\n",
    "by $\\Lambda(0) = 1$ and\n",
    "$$\n",
    "\\Lambda(y) = \\frac1\\nu \\sum_{i: y_i > 0} \\Lambda(y-e_i),\n",
    "\\quad \\forall y \\le \\ell: y \\neq 0.\n",
    "$$\n",
    "We focus on the stationary measure $\\pi_N$ such that $\\pi_N(0) = 1$, that is\n",
    "$$\n",
    "\\pi_N(y) = \\Lambda(y) \\prod_{i=1}^N {\\mu_i}^{y_i},\n",
    "\\quad \\forall y \\le \\ell.\n",
    "$$\n",
    "\n",
    "If we expand the recursion of $\\Lambda$, we obtain:\n",
    "$$\n",
    "\\Lambda(y) = \\binom{y_1 + \\ldots + y_N}{y_1,\\ldots,y_N} \\left( \\frac1\\nu \\right)^{y_1 + \\ldots y_N},\n",
    "\\quad \\forall y \\le \\ell.\n",
    "$$\n",
    "Doing the substitution in $\\pi_N$ yields\n",
    "$$\n",
    "\\pi_N(y) = \\binom{y_1 + \\ldots + y_N}{y_1,\\ldots,y_N}\n",
    "\\prod_{i=1}^N \\left( \\frac{\\mu_i}\\nu \\right)^{y_i},\n",
    "\\quad \\forall y \\le \\ell.\n",
    "$$"
   ]
  },
  {
   "cell_type": "markdown",
   "metadata": {
    "hidden": true
   },
   "source": [
    "**State aggregation.**\n",
    "The size of the state space of $y$ is exponential with the number of servers,\n",
    "hence the previous formula can only be applied to small server pools.\n",
    "We consider a second aggregate state that lives in a much smaller space.\n",
    "Specifically, we focus on the total number $t$ of available tokens, regardless of their class,\n",
    "that is, $t = y_1 + \\ldots + y_N$. Knowing the distribution of this second aggregate state is sufficient to compute performance metrics such as the average blocking probability or the mean number of jobs in the system.\n",
    "\n",
    "With a slight abuse of notation, the stationary distribution of this new aggregate state is defined by\n",
    "$$\n",
    "\\pi_N(t) = \\sum_{\\substack{y \\le \\ell: \\\\ y_1 + \\ldots + y_N = t}} \\pi_N(y),\n",
    "\\quad \\forall t = 0,1,\\ldots,\\ell_1 + \\ldots + \\ell_N.\n",
    "$$\n",
    "Using the explicit expression of $\\pi_N(y)$, we obtain,\n",
    "for each $t = 1, \\ldots, \\ell_1 + \\ldots + \\ell_N$:\n",
    "\\begin{align*}\n",
    "\\pi_N(t)\n",
    "&= \\sum_{\\substack{y \\le \\ell: \\\\ y_1 + \\ldots + y_N = t}}\n",
    "\\binom{y_1 + \\ldots + y_N}{y_1,\\ldots,y_N}\n",
    "\\prod_{i=1}^N \\left( \\frac{\\mu_i}\\nu \\right)^{y_i}, \\\\\n",
    "&= \\sum_{\\substack{y \\le \\ell: \\\\ y_1 + \\ldots + y_N = t}}\n",
    "\\frac{(y_1 + \\ldots + y_N)!}{y_1! \\times \\ldots \\times y_N!}\n",
    "\\prod_{i=1}^N \\left( \\frac{\\mu_i}\\nu \\right)^{y_i}, \\\\\n",
    "&= \\sum_{\\substack{y \\le \\ell: \\\\ y_1 + \\ldots + y_N = t}}\n",
    "\\frac{t!}{y_1! \\times \\ldots \\times y_N!}\n",
    "\\prod_{i=1}^N \\left( \\frac{\\mu_i}\\nu \\right)^{y_i}, \\\\\n",
    "&= t! \\times\n",
    "\\sum_{\\substack{s = 1, \\ldots, \\ell_1 + \\ldots \\ell_{N-1}, \\\\\n",
    "y_N = 1\\ldots,\\ell_N: \\\\\n",
    "s + y_N = t}}\n",
    "\\frac1{y_N!} \\left( \\frac{\\mu_N}\\nu \\right)^{y_N}\n",
    "\\frac1{s!}\n",
    "\\sum_{\\substack{(y_1, \\ldots, y_{N-1}) \\le (\\ell_1, \\ldots, \\ell_{N-1}): \\\\\n",
    "y_1 + \\ldots + y_{N-1} = s}}\n",
    "\\frac{s!}{y_1! \\times \\ldots \\times y_{N-1}!}\n",
    "\\prod_{i=1}^N \\left( \\frac{\\mu_i}\\nu \\right)^{y_i}.\n",
    "\\end{align*}\n",
    "We recognize the stationary measure $\\pi_{N-1}$\n",
    "of a server pool reduced to the first $N-1$ servers (with $\\pi_{N-1}(0) = 1$).\n",
    "In the end, we obtain\n",
    "\\begin{align*}\n",
    "\\pi_N(t)\n",
    "&= t! \\times\n",
    "\\sum_{\\substack{s = 1, \\ldots, \\ell_1 + \\ldots \\ell_{N-1}, \\\\\n",
    "y_N = 1\\ldots,\\ell_N: \\\\\n",
    "s + y_N = t}}\n",
    "\\frac1{y_N!} \\left( \\frac{\\mu_N}\\nu \\right)^{y_N}\n",
    "\\frac1{s!}\n",
    "\\pi_{N-1}(s)\n",
    "\\end{align*}"
   ]
  },
  {
   "cell_type": "markdown",
   "metadata": {
    "hidden": true
   },
   "source": [
    "**Computation in practice.**\n",
    "The last equality gives us an effective way of computing the stationary measure $\\pi_N$\n",
    "by progressively building $\\pi_0$, $\\pi_1$, $\\ldots$, $\\pi_{N-1}$, $\\pi_N$,\n",
    "where $\\pi_0$ is defined on $\\{0\\}$ by $\\pi_0(0) = 1$.\n",
    "\n",
    "The function `dynamic` below leverages the functions of `numpy` library to speed up the computations.\n",
    "The key is to observe that each component $\\pi_N(t)$ of $\\pi_N$\n",
    "is equal (up to a multiplication by $\\frac{t!}{s!}$) to\n",
    "the sum of the coefficients of an antidiagonal\n",
    "of the outer product of the vector $\\pi_{N-1}$ and\n",
    "$$\n",
    "p_N = \\left( \\frac1{y_N!} \\left( \\frac{\\mu_N}\\nu \\right)^{y_N}: y_N = 1, \\ldots, \\ell_N \\right).\n",
    "$$"
   ]
  },
  {
   "cell_type": "markdown",
   "metadata": {
    "heading_collapsed": true
   },
   "source": [
    "### Functions"
   ]
  },
  {
   "cell_type": "markdown",
   "metadata": {
    "hidden": true
   },
   "source": [
    "The function ``dynamic`` below computes the loss probability and the expected number of customers under the dynamic load-balancing algorithm introduced in Section 8.1, in the special case where there is a single job type. This corresponds to the scenario of Section 8.3.1. The state aggregation we use to speed up computations doesn't allow us to derive the activity probability of each computer."
   ]
  },
  {
   "cell_type": "code",
   "execution_count": 5,
   "metadata": {
    "ExecuteTime": {
     "end_time": "2019-08-16T14:44:46.066941Z",
     "start_time": "2019-08-16T14:44:46.053352Z"
    },
    "hidden": true
   },
   "outputs": [],
   "source": [
    "def dynamic(I, ℓ, μ, ν, prefix=\"\"):\n",
    "    # parameters\n",
    "    barℓ = zeros(I, dtype=int)\n",
    "    barℓ[1:] = cumsum(ℓ[:-1])\n",
    "    \n",
    "    # initialization: π_0\n",
    "    π = ones(1, dtype=float64)\n",
    "    \n",
    "    for i in range(I):\n",
    "        # recursion:  derive π_{i+1} from π_i\n",
    "        \n",
    "        # compute p_{i+1}\n",
    "        p = ones(ℓ[i] + 1, dtype=float64)\n",
    "        p[1:] = cumprod(μ[i] / (ν * arange(1, ℓ[i]+1)), dtype=float64)\n",
    "        \n",
    "        # make the outer product of π_i with p_{i+1}\n",
    "        π = outer(π, p[::-1])\n",
    "        \n",
    "        # multiply each coefficient by t! / s!\n",
    "        for s in range(barℓ[i] + 1):\n",
    "            quotient = ones(ℓ[i] + 1, dtype=float64)\n",
    "            quotient[1:] = cumprod(s + arange(1, ℓ[i] + 1), dtype=float64)\n",
    "            π[s] *= quotient[::-1]\n",
    "        \n",
    "        # sum over the (anti)diagonals\n",
    "        π = [trace(π, n) for n in range(ℓ[i], -barℓ[i] - 1, -1)]\n",
    "    \n",
    "    # normalize π\n",
    "    π /= sum(π)\n",
    "    \n",
    "    return π[0], inner(π, arange(sum(ℓ), -1, -1, dtype=float64))"
   ]
  },
  {
   "cell_type": "markdown",
   "metadata": {
    "hidden": true
   },
   "source": [
    "The function ``create_dynamic_df`` calls the function ``dynamic`` and creates a dataframe (from ``pandas`` library) that stores the results:"
   ]
  },
  {
   "cell_type": "code",
   "execution_count": 6,
   "metadata": {
    "ExecuteTime": {
     "end_time": "2019-08-16T14:44:46.080102Z",
     "start_time": "2019-08-16T14:44:46.069094Z"
    },
    "hidden": true
   },
   "outputs": [],
   "source": [
    "def create_dynamic_df(I, ℓ, μ, ρρ, prefix=\"\"):\n",
    "    data = [dynamic(I, ℓ, μ, ρ * sum(μ)) for ρ in ρρ]\n",
    "    \n",
    "    return pd.DataFrame({\n",
    "        'rho': ρρ,\n",
    "        prefix + 'beta': [d[0] for d in data],\n",
    "        prefix + 'eta': ρρ * [1. - d[0] for d in data],\n",
    "        prefix + 'L': [d[1] for d in data],\n",
    "        prefix + 'gamma': ρρ * sum(μ) * [(1. - d[0]) / d[1] for d in data],\n",
    "    })"
   ]
  },
  {
   "cell_type": "markdown",
   "metadata": {},
   "source": [
    "## A single job type"
   ]
  },
  {
   "cell_type": "code",
   "execution_count": 7,
   "metadata": {
    "ExecuteTime": {
     "end_time": "2019-08-16T14:44:46.087864Z",
     "start_time": "2019-08-16T14:44:46.082309Z"
    }
   },
   "outputs": [],
   "source": [
    "# parameters\n",
    "I = 10\n",
    "μ = ones(I); μ[I//2:] = 4."
   ]
  },
  {
   "cell_type": "markdown",
   "metadata": {
    "heading_collapsed": true
   },
   "source": [
    "### Impact of the number of tokens"
   ]
  },
  {
   "cell_type": "code",
   "execution_count": 8,
   "metadata": {
    "ExecuteTime": {
     "end_time": "2019-08-16T14:44:46.096023Z",
     "start_time": "2019-08-16T14:44:46.091438Z"
    },
    "hidden": true
   },
   "outputs": [],
   "source": [
    "# parameters\n",
    "rg_tokens = [1, 2, 3, 6, 10]"
   ]
  },
  {
   "cell_type": "code",
   "execution_count": 9,
   "metadata": {
    "ExecuteTime": {
     "end_time": "2019-08-16T14:44:54.535112Z",
     "start_time": "2019-08-16T14:44:46.098566Z"
    },
    "hidden": true
   },
   "outputs": [],
   "source": [
    "# compute the analytical results\n",
    "dynamic_tokens_df = pd.DataFrame({'rho': ρρ})\n",
    "\n",
    "for nb_in_rg in rg_tokens:\n",
    "    dynamic_tokens_df = pd.merge(\n",
    "        dynamic_tokens_df,\n",
    "        create_dynamic_df(I, nb_in_rg * ones(I, dtype=int), μ, ρρ, prefix=str(nb_in_rg)),\n",
    "        on='rho',\n",
    "    )"
   ]
  },
  {
   "cell_type": "code",
   "execution_count": 10,
   "metadata": {
    "ExecuteTime": {
     "end_time": "2019-08-16T14:44:54.559278Z",
     "start_time": "2019-08-16T14:44:54.536962Z"
    },
    "hidden": true
   },
   "outputs": [],
   "source": [
    "# save in csv\n",
    "dynamic_tokens_df.to_csv(\"data/single-dynamic-exact-tokens.csv\", index=False)"
   ]
  }
 ],
 "metadata": {
  "kernelspec": {
   "display_name": "Python 3",
   "language": "python3",
   "name": "python3"
  },
  "language_info": {
   "codemirror_mode": {
    "name": "ipython",
    "version": 3
   },
   "file_extension": ".py",
   "mimetype": "text/x-python",
   "name": "python",
   "nbconvert_exporter": "python",
   "pygments_lexer": "ipython3",
   "version": "3.6.8"
  },
  "toc": {
   "base_numbering": 1,
   "nav_menu": {},
   "number_sections": true,
   "sideBar": true,
   "skip_h1_title": true,
   "title_cell": "Table of Contents",
   "title_sidebar": "Contents",
   "toc_cell": false,
   "toc_position": {},
   "toc_section_display": true,
   "toc_window_display": false
  }
 },
 "nbformat": 4,
 "nbformat_minor": 2
}
