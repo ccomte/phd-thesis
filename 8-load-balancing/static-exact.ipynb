{
 "cells": [
  {
   "cell_type": "markdown",
   "metadata": {},
   "source": [
    "# Chapter 8. Load balancing\n",
    "\n",
    "# Céline Comte"
   ]
  },
  {
   "cell_type": "markdown",
   "metadata": {},
   "source": [
    "This Notebook computes numerical results of Chapter 8 in the Ph.D. thesis *Resource management in computer clusters: algorithm design and performance analysis* by Céline Comte. Specifically, the following piece of code computes the performance of two static load-balancing policies, referred to as *best static* and *uniform static*. A static load-balancing policy assigns each incoming job to a computer chosen at random, independently of the current cluster state, according to pre-determined routing probabilities. For each $i = 1,\\ldots,I$, we let $p_i$ denote the probability that an incoming job is assigned to computer $i$. The exogeneous arrival rate is denoted by $\\nu$."
   ]
  },
  {
   "cell_type": "markdown",
   "metadata": {},
   "source": [
    "## Package imports and global variable definitions"
   ]
  },
  {
   "cell_type": "code",
   "execution_count": 1,
   "metadata": {
    "ExecuteTime": {
     "end_time": "2019-09-16T14:15:22.791887Z",
     "start_time": "2019-09-16T14:15:22.407150Z"
    }
   },
   "outputs": [
    {
     "name": "stdout",
     "output_type": "stream",
     "text": [
      "Populating the interactive namespace from numpy and matplotlib\n"
     ]
    }
   ],
   "source": [
    "%pylab inline"
   ]
  },
  {
   "cell_type": "code",
   "execution_count": 2,
   "metadata": {
    "ExecuteTime": {
     "end_time": "2019-09-16T14:15:22.796528Z",
     "start_time": "2019-09-16T14:15:22.793775Z"
    }
   },
   "outputs": [],
   "source": [
    "# uncomment this line if you prefer dynamic matplotlib plots\n",
    "# %matplotlib notebook\n",
    "\n",
    "# change the default figure size\n",
    "pylab.rcParams['figure.figsize'] = (10.0, 6.0)\n",
    "pylab.rcParams['legend.fontsize'] = 12"
   ]
  },
  {
   "cell_type": "code",
   "execution_count": 3,
   "metadata": {
    "ExecuteTime": {
     "end_time": "2019-09-16T14:15:23.019758Z",
     "start_time": "2019-09-16T14:15:22.798616Z"
    }
   },
   "outputs": [],
   "source": [
    "# manipulate dataframes\n",
    "import pandas as pd"
   ]
  },
  {
   "cell_type": "code",
   "execution_count": 4,
   "metadata": {
    "ExecuteTime": {
     "end_time": "2019-09-16T14:15:23.024908Z",
     "start_time": "2019-09-16T14:15:23.021418Z"
    }
   },
   "outputs": [],
   "source": [
    "# global variables\n",
    "ρρ = append(linspace(5., .01, 400, endpoint = False), linspace(.01, 0, 10, endpoint = False))\n",
    "nb_tokens = 6"
   ]
  },
  {
   "cell_type": "markdown",
   "metadata": {},
   "source": [
    "## Performance of the static load-balancing policies"
   ]
  },
  {
   "cell_type": "markdown",
   "metadata": {},
   "source": [
    "### Computations"
   ]
  },
  {
   "cell_type": "markdown",
   "metadata": {
    "ExecuteTime": {
     "end_time": "2018-08-30T11:24:34.610042Z",
     "start_time": "2018-08-30T11:24:34.590278Z"
    }
   },
   "source": [
    "**Independence.**\n",
    "In steady state, the number of jobs at each computer is independent of the number of jobs at the other computers. Furthermore, for each $i = 1,\\ldots,I$, the number of available tokens of computer $i$ is equal to the number of customers in an M/M/1/$\\ell_i$ queue with load $\\rho_i = \\mu_i / (\\nu p_i)$. Therefore, the stationary distribution of the Markov process defined by the macrostate $y = (y_1, \\ldots, y_I)$ that counts the number of available tokens of each computer is given by\n",
    "$$\n",
    "\\pi(y) = \\prod_{i=1}^I \\frac{ {\\rho_i}^{y_i} }{ 1 + \\rho_i + \\ldots + {\\rho_i}^{\\ell_i} },\n",
    "\\quad \\forall y \\le \\ell,\n",
    "$$\n",
    "Recall that we have\n",
    "$$\n",
    "1 + \\rho_i + \\ldots + {\\rho_i}^{\\ell_i} = \n",
    "\\begin{cases}\n",
    "    \\frac{1 - {\\rho_i}^{\\ell_i + 1}}{1 - \\rho_i}\n",
    "    &\\text{if $\\rho_i \\neq 1$}, \\\\\n",
    "    \\ell_i + 1\n",
    "    &\\text{if $\\rho_i = 1$}.\n",
    "\\end{cases}\n",
    "$$"
   ]
  },
  {
   "cell_type": "markdown",
   "metadata": {},
   "source": [
    "**Loss probability.**\n",
    "With this observation in mind, we can write the average loss probability $\\beta$ as follows:\n",
    "$$\n",
    "\\beta\n",
    "= p_1 \\beta_{|1} + p_2 \\beta_{|2} + \\ldots + p_I \\beta_{|I},\n",
    "$$\n",
    "where $\\beta_{|i}$ is the loss probability of jobs assigned to computer $i$.\n",
    "The arrival process to this computer is Poisson with rate $\\lambda_i = \\nu p_i$.\n",
    "Hence, we can apply PASTA property, which states that\n",
    "$\\beta_{|i}$ is also the probability that all tokens of computer $i$ are held by jobs in service,\n",
    "that is, $y_i = 0$:\n",
    "$$\n",
    "\\beta_{|i} = \\frac1{ 1 + \\rho_i + \\ldots + {\\rho_i}^{\\ell_i} }.\n",
    "$$"
   ]
  },
  {
   "cell_type": "markdown",
   "metadata": {},
   "source": [
    "**Expected number of jobs.**\n",
    "By linearity of the expectation, the expected number $L$ of jobs in the cluster is given by\n",
    "$$\n",
    "L = L_1 + \\ldots + L_I,\n",
    "$$\n",
    "where, for each $i = 1,\\ldots,I$,\n",
    "$L_i$ is the expected number of jobs at computer $i$.\n",
    "Since the computer states are independent, we have\n",
    "$$\n",
    "L_i = \\frac\n",
    "{ 0 + \\rho_i + 2 {\\rho_i}^2 + \\ldots + \\ell_i {\\rho_i}^{\\ell_i} }\n",
    "{ 1 + \\rho_i + {\\rho_i}^2 + \\ldots + {\\rho_i}^{\\ell_i} },\n",
    "\\quad \\forall i = 1,\\ldots,N.\n",
    "$$"
   ]
  },
  {
   "cell_type": "markdown",
   "metadata": {},
   "source": [
    "### Functions"
   ]
  },
  {
   "cell_type": "markdown",
   "metadata": {},
   "source": [
    "The function ``mm1ℓ`` computes performance in an M/M/1/$\\ell$ queue subject to the load $\\rho$."
   ]
  },
  {
   "cell_type": "code",
   "execution_count": 5,
   "metadata": {
    "ExecuteTime": {
     "end_time": "2019-09-16T14:15:23.041600Z",
     "start_time": "2019-09-16T14:15:23.027680Z"
    }
   },
   "outputs": [],
   "source": [
    "def mm1ℓ(ℓ, ρ):\n",
    "    π = power(ρ, arange(ℓ+1))\n",
    "    π /= sum(π)\n",
    "    return π[0], ℓ - inner(π, arange(ℓ+1))"
   ]
  },
  {
   "cell_type": "markdown",
   "metadata": {
    "ExecuteTime": {
     "end_time": "2019-08-16T13:41:53.529008Z",
     "start_time": "2019-08-16T13:41:53.524821Z"
    }
   },
   "source": [
    "The function ``static`` computes performance under a given static load-balancing policy, defined by the routing probabilities given by the vector $p$."
   ]
  },
  {
   "cell_type": "code",
   "execution_count": 6,
   "metadata": {
    "ExecuteTime": {
     "end_time": "2019-09-16T14:15:23.052949Z",
     "start_time": "2019-09-16T14:15:23.043800Z"
    }
   },
   "outputs": [],
   "source": [
    "def static(I, ℓ, μ, ν, p):\n",
    "    β = zeros(I); L = zeros(I)\n",
    "    result = []\n",
    "    \n",
    "    for i in range(I):\n",
    "        β[i], L[i] = mm1ℓ(ℓ[i], μ[i] / (ν * p[i]))\n",
    "        result += (β[i], L[i])\n",
    "    result += [inner(p, β), sum(L)]\n",
    "    \n",
    "    return result"
   ]
  },
  {
   "cell_type": "markdown",
   "metadata": {
    "ExecuteTime": {
     "end_time": "2018-08-30T11:25:20.452340Z",
     "start_time": "2018-08-30T11:25:20.435377Z"
    }
   },
   "source": [
    "The function ``create_static_df`` calls the function ``static`` and creates a dataframe (from ``pandas`` library) that stores the results:"
   ]
  },
  {
   "cell_type": "code",
   "execution_count": 7,
   "metadata": {
    "ExecuteTime": {
     "end_time": "2019-09-16T14:15:23.068662Z",
     "start_time": "2019-09-16T14:15:23.055332Z"
    }
   },
   "outputs": [],
   "source": [
    "def create_static_df(I, ℓ, μ, ρρ, p, prefix = \"\"):\n",
    "    data = [static(I, ℓ, μ, ρ * sum(μ), p) for ρ in ρρ]\n",
    "    \n",
    "    df = pd.DataFrame({'rho': ρρ})\n",
    "    \n",
    "    for i in range(I):\n",
    "        df[prefix + 'betai' + str(i+1)] = [d[2*i] for d in data]\n",
    "        df[prefix + 'etai' + str(i+1)] = (sum(μ) * p[i] / μ[i]) * ρρ * [1. - d[2*i] for d in data]\n",
    "        df[prefix + 'Li' + str(i+1)] = [d[2*i+1] for d in data]\n",
    "        df[prefix + 'gammai' + str(i+1)] = ρρ * sum(μ) * p[i] * [(1. - d[2*i]) / d[2*i+1] for d in data]\n",
    "\n",
    "    df[prefix + 'beta'] = [d[2*I] for d in data]\n",
    "    df[prefix + 'eta'] = ρρ * [1. - d[2*I] for d in data]\n",
    "    df[prefix + 'L'] = [d[2*I+1] for d in data]\n",
    "    df[prefix + 'gamma'] = ρρ * sum(μ) * [(1. - d[2*I]) / d[2*I+1] for d in data]\n",
    "    \n",
    "    return df"
   ]
  },
  {
   "cell_type": "markdown",
   "metadata": {},
   "source": [
    "## A single job type"
   ]
  },
  {
   "cell_type": "markdown",
   "metadata": {},
   "source": [
    "We consider the first scenario, described in Subsection 8.3.1.\n",
    "There are $I = 10$ computers, each with $\\ell = 6$ tokens.\n",
    "The first half have a unit service capacity $\\mu$\n",
    "and the other half have a service capacity $4 \\mu$.\n",
    "There is a single job type, i.e., all jobs can be assigned to any computer.\n",
    "The external arrival rate is denoted by $\\nu$."
   ]
  },
  {
   "cell_type": "code",
   "execution_count": 8,
   "metadata": {
    "ExecuteTime": {
     "end_time": "2019-09-16T14:15:23.085362Z",
     "start_time": "2019-09-16T14:15:23.072399Z"
    }
   },
   "outputs": [],
   "source": [
    "# parameters\n",
    "I = 10\n",
    "μ = ones(I); μ[I//2:] = 4.\n",
    "ℓ = nb_tokens * ones(I, dtype = int)\n",
    "\n",
    "# best static policy\n",
    "best = ones(I)\n",
    "best[I//2:] = 4.\n",
    "best /= sum(best)\n",
    "\n",
    "# uniform static policy\n",
    "uni = ones(I)\n",
    "uni /= sum(uni)"
   ]
  },
  {
   "cell_type": "code",
   "execution_count": 9,
   "metadata": {
    "ExecuteTime": {
     "end_time": "2019-09-16T14:15:23.464261Z",
     "start_time": "2019-09-16T14:15:23.088235Z"
    }
   },
   "outputs": [],
   "source": [
    "# compute the analytical results\n",
    "best_static_df = create_static_df(I, ℓ, μ, ρρ, best)\n",
    "uni_static_df = create_static_df(I, ℓ, μ, ρρ, uni)"
   ]
  },
  {
   "cell_type": "code",
   "execution_count": 10,
   "metadata": {
    "ExecuteTime": {
     "end_time": "2019-09-16T14:15:23.542075Z",
     "start_time": "2019-09-16T14:15:23.466555Z"
    }
   },
   "outputs": [],
   "source": [
    "# save them in csv\n",
    "best_static_df.to_csv(\"data/single-best-static-exact.csv\", index = False)\n",
    "uni_static_df.to_csv(\"data/single-uni-static-exact.csv\", index = False)"
   ]
  },
  {
   "cell_type": "markdown",
   "metadata": {},
   "source": [
    "## Two job types"
   ]
  },
  {
   "cell_type": "markdown",
   "metadata": {},
   "source": [
    "We consider the second scenario, described in Subsection 8.3.2.\n",
    "There are $I = 10$ servers, each with $\\ell = 6$ tokens.\n",
    "All computer have the same unit capacity $\\mu$.\n",
    "There are two job types.\n",
    "The jobs of the first type arrive at a unit rate $\\nu$\n",
    "and can be assigned to any of the first seven servers.\n",
    "The jobs of the second type arrive at rate $4 \\nu$\n",
    "and can be assigned to any of the last seven servers."
   ]
  },
  {
   "cell_type": "code",
   "execution_count": 11,
   "metadata": {
    "ExecuteTime": {
     "end_time": "2019-09-16T14:15:23.550309Z",
     "start_time": "2019-09-16T14:15:23.543727Z"
    }
   },
   "outputs": [],
   "source": [
    "# parameters\n",
    "I = 10\n",
    "μ = ones(I)\n",
    "ℓ = nb_tokens * ones(I, dtype = int)\n",
    "\n",
    "# best static policy\n",
    "best = asarray([7, 7, 7, 12, 12, 12, 12, 12, 12, 12], dtype = float)\n",
    "best /= sum(best)\n",
    "\n",
    "# uniform static policy\n",
    "uni = asarray([1, 1, 1, 5, 5, 5, 5, 4, 4, 4], dtype = float)\n",
    "uni /= sum(uni)"
   ]
  },
  {
   "cell_type": "code",
   "execution_count": 12,
   "metadata": {
    "ExecuteTime": {
     "end_time": "2019-09-16T14:15:23.844991Z",
     "start_time": "2019-09-16T14:15:23.552764Z"
    }
   },
   "outputs": [],
   "source": [
    "# compute the analytical results\n",
    "best_static_df = create_static_df(I, ℓ, μ, ρρ, best)\n",
    "uni_static_df = create_static_df(I, ℓ, μ, ρρ, uni)"
   ]
  },
  {
   "cell_type": "code",
   "execution_count": 13,
   "metadata": {
    "ExecuteTime": {
     "end_time": "2019-09-16T14:15:23.945397Z",
     "start_time": "2019-09-16T14:15:23.847662Z"
    }
   },
   "outputs": [],
   "source": [
    "# save the results in csv\n",
    "best_static_df.to_csv(\"data/multi-best-static-exact.csv\", index = False)\n",
    "uni_static_df.to_csv(\"data/multi-uni-static-exact.csv\", index = False)"
   ]
  }
 ],
 "metadata": {
  "kernelspec": {
   "display_name": "Python 3",
   "language": "python3",
   "name": "python3"
  },
  "language_info": {
   "codemirror_mode": {
    "name": "ipython",
    "version": 3
   },
   "file_extension": ".py",
   "mimetype": "text/x-python",
   "name": "python",
   "nbconvert_exporter": "python",
   "pygments_lexer": "ipython3",
   "version": "3.6.8"
  },
  "toc": {
   "base_numbering": 1,
   "nav_menu": {},
   "number_sections": true,
   "sideBar": true,
   "skip_h1_title": true,
   "title_cell": "Table of Contents",
   "title_sidebar": "Contents",
   "toc_cell": false,
   "toc_position": {},
   "toc_section_display": true,
   "toc_window_display": false
  }
 },
 "nbformat": 4,
 "nbformat_minor": 2
}
