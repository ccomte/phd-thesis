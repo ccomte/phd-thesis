{
 "cells": [
  {
   "cell_type": "markdown",
   "metadata": {},
   "source": [
    "# Chapter 8. Load balancing\n",
    "\n",
    "Plot the numerical results. Lines give exact results and marks simulation results."
   ]
  },
  {
   "cell_type": "markdown",
   "metadata": {
    "heading_collapsed": true
   },
   "source": [
    "## Package imports and global variable definitions"
   ]
  },
  {
   "cell_type": "code",
   "execution_count": null,
   "metadata": {
    "hidden": true
   },
   "outputs": [],
   "source": [
    "%pylab inline"
   ]
  },
  {
   "cell_type": "code",
   "execution_count": null,
   "metadata": {
    "hidden": true,
    "hide_input": false
   },
   "outputs": [],
   "source": [
    "# uncomment this line if you prefer dynamic matplotlib plots\n",
    "# %matplotlib notebook\n",
    "\n",
    "# change the default figure size\n",
    "#pylab.rcParams['figure.figsize'] = (10.0, 6.0)\n",
    "pylab.rcParams['legend.fontsize'] = 12"
   ]
  },
  {
   "cell_type": "code",
   "execution_count": null,
   "metadata": {
    "hidden": true
   },
   "outputs": [],
   "source": [
    "# manipulate dataframes\n",
    "import pandas as pd"
   ]
  },
  {
   "cell_type": "code",
   "execution_count": null,
   "metadata": {
    "hidden": true
   },
   "outputs": [],
   "source": [
    "# global variables\n",
    "ρρ = linspace(5., 0, 10000, endpoint = False)\n",
    "nb_tokens = 6"
   ]
  },
  {
   "cell_type": "markdown",
   "metadata": {},
   "source": [
    "## A single job type"
   ]
  },
  {
   "cell_type": "markdown",
   "metadata": {},
   "source": [
    "We consider the first scenario, in Section 8.3.1.\n",
    "There are $I = 10$ computers, each with $\\ell = 6$ tokens.\n",
    "The first half have a unit service capacity $\\mu$\n",
    "and the other half have a service capacity $4 \\mu$.\n",
    "There is a single job type, i.e., all jobs can be assigned to any computer.\n",
    "The external arrival rate is denoted by $\\nu$."
   ]
  },
  {
   "cell_type": "code",
   "execution_count": null,
   "metadata": {},
   "outputs": [],
   "source": [
    "# parameters\n",
    "I = 10\n",
    "ℓ = nb_tokens * ones(I, dtype=int)"
   ]
  },
  {
   "cell_type": "markdown",
   "metadata": {
    "hide_input": false
   },
   "source": [
    "### Comparison with the static load balancings"
   ]
  },
  {
   "cell_type": "code",
   "execution_count": null,
   "metadata": {
    "hide_input": false
   },
   "outputs": [],
   "source": [
    "# load the external results\n",
    "best_static = pd.read_csv('data/single-best-static-exact.csv')\n",
    "uni_static = pd.read_csv('data/single-uni-static-exact.csv')\n",
    "dynamic_exact = pd.read_csv('data/single-dynamic-exact.csv')\n",
    "dynamic_hyperexp = pd.read_csv('data/single-dynamic-simu-hyperexp.csv')"
   ]
  },
  {
   "cell_type": "code",
   "execution_count": null,
   "metadata": {
    "hide_input": true
   },
   "outputs": [],
   "source": [
    "# occupancy ratios\n",
    "figure()\n",
    "\n",
    "# dynamic - exact results\n",
    "plot(dynamic_exact['rho'], dynamic_exact['beta'], 'C0', label=\"Dynamic\")\n",
    "plot(dynamic_exact['rho'], dynamic_exact['eta'], 'C0', label=\"\")\n",
    "\n",
    "# dynamic - simulations with hyperexponentially distributed job sizes\n",
    "plot(dynamic_hyperexp['rho'], dynamic_hyperexp['beta'], 'C0+', label=\"\")\n",
    "fill_between(dynamic_hyperexp['rho'],\n",
    "             dynamic_hyperexp['beta'] - dynamic_hyperexp['wbeta'],\n",
    "             dynamic_hyperexp['beta'] + dynamic_hyperexp['wbeta'], \n",
    "             color='C0', alpha=.4)\n",
    "plot(dynamic_hyperexp['rho'], dynamic_hyperexp['eta'], 'C0+', label=\"\")\n",
    "fill_between(dynamic_hyperexp['rho'],\n",
    "             dynamic_hyperexp['eta'] - dynamic_hyperexp['weta'],\n",
    "             dynamic_hyperexp['eta'] + dynamic_hyperexp['weta'], \n",
    "             color='C0', alpha=.4)\n",
    "\n",
    "# best static\n",
    "plot(best_static['rho'], best_static['beta'], 'C1', label=\"Best static\")\n",
    "plot(best_static['rho'], best_static['eta'], 'C1', label=\"\")\n",
    "\n",
    "# uniform static\n",
    "plot(uni_static['rho'], uni_static['beta'], 'C2', label=\"Uniform static\")\n",
    "plot(uni_static['rho'], uni_static['eta'], 'C2', label=\"\")\n",
    "\n",
    "# ideal\n",
    "plot(ρρ, maximum(0, 1. - 1. / ρρ), 'C3--', label=\"Ideal\")\n",
    "plot(ρρ, minimum(1, ρρ), 'C3--')\n",
    "\n",
    "# references\n",
    "axvline(x=2/5, color='C4', linestyle=':')\n",
    "axvline(x=8/5, color='C4', linestyle=':')\n",
    "\n",
    "xlim(0, 3); ylim(0, 1)\n",
    "legend(loc='best'); xlabel(\"Load ρ\"); ylabel(\"Occupancy ratios\")\n",
    "title(\"Average loss and activity probability\")\n",
    "show()"
   ]
  },
  {
   "cell_type": "code",
   "execution_count": null,
   "metadata": {
    "hide_input": true
   },
   "outputs": [],
   "source": [
    "# mean number of jobs\n",
    "figure()\n",
    "\n",
    "# exact\n",
    "plot(dynamic_exact['rho'], dynamic_exact['L'], 'C0', label=\"Dynamic\")\n",
    "plot(best_static['rho'], best_static['L'], 'C1', label=\"Best static\")\n",
    "plot(uni_static['rho'], uni_static['L'], 'C2', label=\"Uniform static\")\n",
    "\n",
    "# simulations - hyperexponentially distributed job sizes\n",
    "plot(dynamic_hyperexp['rho'], dynamic_hyperexp['L'], 'C0+', label=\"\")\n",
    "fill_between(dynamic_hyperexp['rho'],\n",
    "             dynamic_hyperexp['L'] - dynamic_hyperexp['wL'],\n",
    "             dynamic_hyperexp['L'] + dynamic_hyperexp['wL'], \n",
    "             color='C0', alpha=.4)\n",
    "\n",
    "# references\n",
    "axvline(x=2/5, color='C4', linestyle=':')\n",
    "axvline(x=8/5, color='C4', linestyle=':')\n",
    "\n",
    "xlim(0, 3); ylim(0, sum(ℓ))\n",
    "legend(loc='best'); xlabel(\"Load ρ\"); ylabel(\"Number of jobs\")\n",
    "title(\"Expected number of jobs\")\n",
    "show()"
   ]
  },
  {
   "cell_type": "code",
   "execution_count": null,
   "metadata": {
    "hide_input": true
   },
   "outputs": [],
   "source": [
    "# mean service rate\n",
    "figure()\n",
    "\n",
    "# exact\n",
    "plot(dynamic_exact['rho'], dynamic_exact['gamma'], label=\"Dynamic\")\n",
    "plot(best_static['rho'], best_static['gamma'], 'C1', label=\"Best static\")\n",
    "plot(uni_static['rho'], uni_static['gamma'], 'C2', label=\"Uniform static\")\n",
    "\n",
    "# simulations - hyperexponentially distributed job sizes\n",
    "plot(dynamic_hyperexp['rho'], dynamic_hyperexp['gamma'], 'C0+', label=\"\")\n",
    "fill_between(dynamic_hyperexp['rho'],\n",
    "             dynamic_hyperexp['gamma'] - dynamic_hyperexp['wgamma'],\n",
    "             dynamic_hyperexp['gamma'] + dynamic_hyperexp['wgamma'], \n",
    "             color='C0', alpha=.4)\n",
    "\n",
    "# references\n",
    "axvline(x=2/5, color='C4', linestyle=':')\n",
    "axvline(x=8/5, color='C4', linestyle=':')\n",
    "\n",
    "axhline(y = 2.5 / nb_tokens, color='C4', linestyle=':')\n",
    "\n",
    "xlim(0, 3); ylim(0, 2.5)\n",
    "legend(loc='best'); xlabel(\"Load ρ\"); ylabel(\"Service rate\")\n",
    "title(\"Mean service rate\")\n",
    "show()"
   ]
  },
  {
   "cell_type": "markdown",
   "metadata": {},
   "source": [
    "### Per-computer metrics"
   ]
  },
  {
   "cell_type": "code",
   "execution_count": null,
   "metadata": {
    "hide_input": false
   },
   "outputs": [],
   "source": [
    "# load the external results\n",
    "best_static = pd.read_csv('data/single-best-static-exact.csv')\n",
    "uni_static = pd.read_csv('data/single-uni-static-exact.csv')\n",
    "dynamic_exact = pd.read_csv('data/single-dynamic-exact.csv')"
   ]
  },
  {
   "cell_type": "code",
   "execution_count": null,
   "metadata": {
    "hide_input": true
   },
   "outputs": [],
   "source": [
    "# mean number of jobs\n",
    "figure()\n",
    "\n",
    "plot(dynamic_exact['rho'], dynamic_exact['L'],\n",
    "     'C0', label=\"Total\")\n",
    "plot(dynamic_exact['rho'], dynamic_exact['Li1'],\n",
    "     'C1', label=\"Left computers\")\n",
    "plot(dynamic_exact['rho'], dynamic_exact['Li6'],\n",
    "     'C2', label=\"Right computers\")\n",
    "\n",
    "xlim(0, 3); ylim(0, sum(ℓ))\n",
    "legend(loc='best'); xlabel(\"Load ρ\"); ylabel(\"Number of jobs\")\n",
    "title(\"Expected number of jobs with the dynamic load balancing\")\n",
    "show()"
   ]
  },
  {
   "cell_type": "code",
   "execution_count": null,
   "metadata": {
    "hide_input": true
   },
   "outputs": [],
   "source": [
    "# mean number of jobs\n",
    "figure()\n",
    "\n",
    "# dynamic\n",
    "plot(dynamic_exact['rho'], dynamic_exact['Li1'], 'C0', label=\"Dynamic\")\n",
    "plot(dynamic_exact['rho'], dynamic_exact['Li6'], 'C0', label=\"\")\n",
    "\n",
    "# best static\n",
    "plot(best_static['rho'], best_static['Li1'], 'C1', label=\"Best static\")\n",
    "plot(best_static['rho'], best_static['Li6'], 'C1--', label=\"\")\n",
    "\n",
    "# uniform static\n",
    "plot(uni_static['rho'], uni_static['Li1'], 'C2', label=\"Uniform static\")\n",
    "plot(uni_static['rho'], uni_static['Li6'], 'C2--', label=\"\")\n",
    "\n",
    "# references\n",
    "axvline(x=2/5, color='C4', linestyle=':')\n",
    "axvline(x=8/5, color='C4', linestyle=':')\n",
    "\n",
    "xlim(0, 3); ylim(0, nb_tokens)\n",
    "legend(loc='best'); xlabel(\"Load ρ\"); ylabel(\"Number of jobs\")\n",
    "title(\"Expected number of jobs per computer\")\n",
    "show()"
   ]
  },
  {
   "cell_type": "code",
   "execution_count": null,
   "metadata": {
    "hide_input": true
   },
   "outputs": [],
   "source": [
    "#### mean service rate at each computer\n",
    "figure()\n",
    "\n",
    "# dynamic\n",
    "plot(dynamic_exact['rho'], dynamic_exact['gamma'], 'C0', label=\"Overall\")\n",
    "plot(dynamic_exact['rho'], dynamic_exact['gammai1'], 'C1',\n",
    "     label=\"Left computers\")\n",
    "plot(dynamic_exact['rho'], dynamic_exact['gammai6'], 'C2',\n",
    "     label=\"Right computers\")\n",
    "\n",
    "# references\n",
    "axhline(y = 4 / nb_tokens, color='C4', linestyle=':')\n",
    "axhline(y = 1 / nb_tokens, color='C4', linestyle=':')\n",
    "axvline(x=2/5, color='C4', linestyle=':')\n",
    "axvline(x=8/5, color='C4', linestyle=':')\n",
    "plot(ρρ, 4. * (1. - (5/6) * ρρ), 'C4:')\n",
    "plot(ρρ, 1. - (5/3) * ρρ, 'C4:')\n",
    "\n",
    "xlim(0, 3); ylim(0, 4)\n",
    "legend(loc='best'); xlabel(\"Load ρ\"); ylabel(\"Service rate\")\n",
    "title(\"Mean service rate under the dynamic load balancing\")\n",
    "show()"
   ]
  },
  {
   "cell_type": "code",
   "execution_count": null,
   "metadata": {
    "hide_input": true
   },
   "outputs": [],
   "source": [
    "# mean service rate at each computer\n",
    "figure()\n",
    "\n",
    "# dynamic\n",
    "plot(dynamic_exact['rho'], dynamic_exact['gammai1'], 'C0', label=\"Dynamic\")\n",
    "plot(dynamic_exact['rho'], dynamic_exact['gammai6'], 'C0', label=\"\")\n",
    "\n",
    "# best static\n",
    "plot(best_static['rho'], best_static['gammai1'], 'C1', label=\"Best static\")\n",
    "plot(best_static['rho'], best_static['gammai6'], 'C1--', label=\"\")\n",
    "\n",
    "# uniform static\n",
    "plot(uni_static['rho'], uni_static['gammai1'], 'C2-', label=\"Uniform static\")\n",
    "plot(uni_static['rho'], uni_static['gammai6'], 'C2--', label=\"\")\n",
    "\n",
    "# references\n",
    "axhline(y = 4 / nb_tokens, color='C4', linestyle=':')\n",
    "axhline(y = 1 / nb_tokens, color='C4', linestyle=':')\n",
    "axvline(x=2/5, color='C4', linestyle=':')\n",
    "axvline(x=8/5, color='C4', linestyle=':')\n",
    "\n",
    "xlim(0, 3); ylim(0, 4)\n",
    "legend(loc='best'); xlabel(\"Load ρ\"); ylabel(\"Service rate\")\n",
    "title(\"Mean service rate\")\n",
    "show()"
   ]
  },
  {
   "cell_type": "code",
   "execution_count": null,
   "metadata": {
    "hide_input": true
   },
   "outputs": [],
   "source": [
    "# probability that each computer is active\n",
    "figure()\n",
    "\n",
    "# dynamic\n",
    "plot(dynamic_exact['rho'], dynamic_exact['etai1'],\n",
    "     'C1', label=\"Left computers\")\n",
    "plot(dynamic_exact['rho'], dynamic_exact['etai6'],\n",
    "     'C2', label=\"Right computers\")\n",
    "\n",
    "plot(ρρ, ρρ, 'C4:')\n",
    "plot(ρρ, 2. * ρρ, 'C4:')\n",
    "\n",
    "xlim(0, 3); ylim(0, 1)\n",
    "legend(loc='best'); xlabel(\"Load ρ\"); ylabel(\"Probability\")\n",
    "title(\"Activity probabilites under the dynamic load balancing\")\n",
    "show()"
   ]
  },
  {
   "cell_type": "code",
   "execution_count": null,
   "metadata": {
    "hide_input": true
   },
   "outputs": [],
   "source": [
    "# idling probability\n",
    "figure()\n",
    "\n",
    "# dynamic\n",
    "plot(dynamic_exact['rho'], dynamic_exact['etai1'], 'C0', label=\"Dynamic\")\n",
    "plot(dynamic_exact['rho'], dynamic_exact['etai6'], 'C0', label=\"\")\n",
    "\n",
    "# best static\n",
    "plot(best_static['rho'], best_static['etai1'], 'C1-', label=\"Best static\")\n",
    "plot(best_static['rho'], best_static['etai6'], 'C1--', label=\"\")\n",
    "\n",
    "# uniform static\n",
    "plot(uni_static['rho'], uni_static['etai1'], 'C2-', label=\"Uniform static\")\n",
    "plot(uni_static['rho'], uni_static['etai6'], 'C2--', label=\"\")\n",
    "\n",
    "axvline(x=2/5, color='C4', linestyle=':')\n",
    "axvline(x=8/5, color='C4', linestyle=':')\n",
    "\n",
    "xlim(0, 3); ylim(0, 1)\n",
    "legend(loc='best'); xlabel(\"Load ρ\"); ylabel(\"Probability\")\n",
    "title(\"Activity probabilities\")\n",
    "show()"
   ]
  },
  {
   "cell_type": "markdown",
   "metadata": {},
   "source": [
    "### Impact of the number of tokens"
   ]
  },
  {
   "cell_type": "code",
   "execution_count": null,
   "metadata": {},
   "outputs": [],
   "source": [
    "# parameters\n",
    "rg_tokens = [1,2,3,6,10]"
   ]
  },
  {
   "cell_type": "code",
   "execution_count": null,
   "metadata": {},
   "outputs": [],
   "source": [
    "# load the external results\n",
    "dynamic_tokens_df = pd.read_csv('data/single-dynamic-exact-tokens.csv')"
   ]
  },
  {
   "cell_type": "code",
   "execution_count": null,
   "metadata": {
    "hide_input": true
   },
   "outputs": [],
   "source": [
    "figure()\n",
    "\n",
    "# dynamic\n",
    "for nb_in_rg in rg_tokens:\n",
    "    plot(dynamic_tokens_df['rho'], dynamic_tokens_df[str(nb_in_rg) + 'beta'],\n",
    "         label=\"ℓ = \" + str(nb_in_rg))\n",
    "\n",
    "# ideal\n",
    "plot(ρρ, maximum(0, 1 - 1. / ρρ), '--', label=\"Ideal\")\n",
    "\n",
    "xlim(0, 1.6); ylim(0, .4)\n",
    "legend(loc='best')\n",
    "xlabel(\"Load ρ\"); ylabel(\"Probability\")\n",
    "title(\"Average loss probability\")\n",
    "show()"
   ]
  },
  {
   "cell_type": "code",
   "execution_count": null,
   "metadata": {
    "hide_input": true
   },
   "outputs": [],
   "source": [
    "figure()\n",
    "\n",
    "for nb_in_rg in rg_tokens:\n",
    "    semilogy(dynamic_tokens_df['rho'], dynamic_tokens_df[str(nb_in_rg) + 'beta'], label=\"ℓ = \" + str(nb_in_rg))\n",
    "semilogy(ρρ, maximum(0, 1 - 1. / ρρ), '--', label=\"Ideal\")\n",
    "\n",
    "xlim(0, 1.75); ylim(0.001, 1.)\n",
    "legend(loc='best')\n",
    "xlabel(\"Load ρ\"); ylabel(\"Probability\")\n",
    "title(\"Average loss probability (semilog scale)\")\n",
    "show()"
   ]
  },
  {
   "cell_type": "code",
   "execution_count": null,
   "metadata": {
    "hide_input": true
   },
   "outputs": [],
   "source": [
    "figure()\n",
    "\n",
    "for nb_in_rg in rg_tokens:\n",
    "    plot(dynamic_tokens_df['rho'],\n",
    "         dynamic_tokens_df[str(nb_in_rg) + 'L'],\n",
    "         label=\"ℓ = \" + str(nb_in_rg))\n",
    "\n",
    "xlim(0, 1.6); ylim(0, I * max(rg_tokens))\n",
    "legend(loc='best')\n",
    "xlabel(\"Load ρ\"); ylabel(\"Number of jobs\")\n",
    "title(\"Expected number of jobs\")\n",
    "show()"
   ]
  },
  {
   "cell_type": "code",
   "execution_count": null,
   "metadata": {
    "hide_input": true
   },
   "outputs": [],
   "source": [
    "figure()\n",
    "\n",
    "for nb_in_rg in rg_tokens:\n",
    "    plot(dynamic_tokens_df['rho'],\n",
    "         dynamic_tokens_df[str(nb_in_rg) + 'gamma'],\n",
    "         label=\"ℓ = \" + str(nb_in_rg))\n",
    "\n",
    "xlim(0, 1.6); ylim(0, 2.5)\n",
    "legend(loc=7);\n",
    "xlabel(\"Load ρ\"); ylabel(\"Service rate\")\n",
    "title(\"Mean service rate\")\n",
    "show()"
   ]
  },
  {
   "cell_type": "markdown",
   "metadata": {},
   "source": [
    "## Two job types"
   ]
  },
  {
   "cell_type": "markdown",
   "metadata": {},
   "source": [
    "We consider the second scenario, in Section 8.3.2.\n",
    "There are $I = 10$ computers, each with $\\ell = 6$ tokens.\n",
    "All computers have the same unit service capacity $\\mu$.\n",
    "There are two job types.\n",
    "Type-1 jobs arrive at a unit rate $\\nu$\n",
    "and can be assigned to any of the first seven computers.\n",
    "Type-2 jobs arrive at rate $4 \\nu$\n",
    "and can be assigned to any of the last seven computers."
   ]
  },
  {
   "cell_type": "code",
   "execution_count": null,
   "metadata": {},
   "outputs": [],
   "source": [
    "# parameters\n",
    "I = 10\n",
    "ℓ = nb_tokens * ones(I, dtype=int)"
   ]
  },
  {
   "cell_type": "markdown",
   "metadata": {
    "hide_input": true
   },
   "source": [
    "### Comparison with the static load balancings"
   ]
  },
  {
   "cell_type": "code",
   "execution_count": null,
   "metadata": {},
   "outputs": [],
   "source": [
    "# load the external results\n",
    "best_static = pd.read_csv('data/multi-best-static-exact.csv')\n",
    "uni_static = pd.read_csv('data/multi-uni-static-exact.csv')\n",
    "dynamic_exact = pd.read_csv('data/multi-dynamic-exact.csv')\n",
    "dynamic_hyperexp = pd.read_csv('data/multi-dynamic-simu-hyperexp.csv')"
   ]
  },
  {
   "cell_type": "code",
   "execution_count": null,
   "metadata": {
    "hide_input": true
   },
   "outputs": [],
   "source": [
    "# average loss and activity probability\n",
    "figure()\n",
    "\n",
    "# dynamic - exact\n",
    "plot(dynamic_exact['rho'], dynamic_exact['beta'], 'C0', label=\"Dynamic\")\n",
    "plot(dynamic_exact['rho'], dynamic_exact['eta'], 'C0', label=\"\")\n",
    "\n",
    "# dynamic - simulations with hyperexponentially distributed sizes\n",
    "plot(dynamic_hyperexp['rho'], dynamic_hyperexp['beta'], 'C0x', label=\"\")\n",
    "fill_between(dynamic_hyperexp['rho'],\n",
    "             dynamic_hyperexp['beta'] - dynamic_hyperexp['wbeta'],\n",
    "             dynamic_hyperexp['beta'] + dynamic_hyperexp['wbeta'], \n",
    "             color='C0', alpha=.4)\n",
    "plot(dynamic_hyperexp['rho'], dynamic_hyperexp['eta'], 'C0x', label=\"\")\n",
    "fill_between(dynamic_hyperexp['rho'],\n",
    "             dynamic_hyperexp['eta'] - dynamic_hyperexp['weta'],\n",
    "             dynamic_hyperexp['eta'] + dynamic_hyperexp['weta'], \n",
    "             color='C0', alpha=.4)\n",
    "\n",
    "# best static\n",
    "plot(best_static['rho'], best_static['beta'], 'C1', label=\"Best static\")\n",
    "plot(best_static['rho'], best_static['eta'], 'C1', label=\"\")\n",
    "\n",
    "# uniform static\n",
    "plot(uni_static['rho'], uni_static['beta'], 'C2', label=\"Uniform static\")\n",
    "plot(uni_static['rho'], uni_static['eta'], 'C2', label=\"\")\n",
    "\n",
    "# ideal\n",
    "ideal_loss = maximum(maximum(0, 1. - 1. / ρρ), \n",
    "                         (1./5.) * maximum(0, 1. - (7./2.) / ρρ) + (4./5.) * maximum(0, 1. - (7./8.) / ρρ))\n",
    "plot(ρρ, ideal_loss, 'C3--', label=\"Ideal\")\n",
    "plot(ρρ, ρρ * (1. - ideal_loss), 'C3--')\n",
    "\n",
    "# references\n",
    "axvline(x=7/10, color='C6', linestyle=':')\n",
    "axvline(x=7/8, color='C6', linestyle=':')\n",
    "axvline(x=1, color='C6', linestyle=':')\n",
    "axvline(x=3/2, color='C6', linestyle=':')\n",
    "axvline(x=7/2, color='C6', linestyle=':')\n",
    "\n",
    "xlim(0, 5); ylim(0, 1)\n",
    "legend(loc='best')\n",
    "xlabel(\"Load ρ\"); ylabel(\"Job and computer metrics\")\n",
    "title(\"Average loss and activity probability\")\n",
    "show()"
   ]
  },
  {
   "cell_type": "code",
   "execution_count": null,
   "metadata": {
    "cell_style": "center",
    "hide_input": true
   },
   "outputs": [],
   "source": [
    "# mean number of jobs\n",
    "figure()\n",
    "\n",
    "# exact\n",
    "plot(dynamic_exact['rho'], dynamic_exact['L'], 'C0', label=\"Dynamic\")\n",
    "plot(best_static['rho'], best_static['L'], 'C1', label=\"Best static\")\n",
    "plot(uni_static['rho'], uni_static['L'], 'C2', label=\"Uniform static\")\n",
    "\n",
    "# simulations - hyperexponentially distributed job sizes\n",
    "plot(dynamic_hyperexp['rho'], dynamic_hyperexp['L'], 'C0x', label=\"\")\n",
    "fill_between(dynamic_hyperexp['rho'],\n",
    "             dynamic_hyperexp['L'] - dynamic_hyperexp['wL'],\n",
    "             dynamic_hyperexp['L'] + dynamic_hyperexp['wL'], \n",
    "             color='C0', alpha=.4)\n",
    "\n",
    "# references\n",
    "axvline(x=7/10, color='C6', linestyle=':')\n",
    "axvline(x=7/8, color='C6', linestyle=':')\n",
    "axvline(x=1, color='C6', linestyle=':')\n",
    "axvline(x=3/2, color='C6', linestyle=':')\n",
    "axvline(x=7/2, color='C6', linestyle=':')\n",
    "axhline(y = sum(ℓ), color='C4', linestyle=':')\n",
    "\n",
    "xlim(0, 3); ylim(ymin = 0)\n",
    "legend(loc='best')\n",
    "xlabel(\"Load ρ\"); ylabel(\"Number of jobs\")\n",
    "title(\"Expected number of jobs\")\n",
    "show()"
   ]
  },
  {
   "cell_type": "code",
   "execution_count": null,
   "metadata": {
    "cell_style": "center",
    "hide_input": true
   },
   "outputs": [],
   "source": [
    "# mean service rate\n",
    "figure()\n",
    "\n",
    "# exact\n",
    "plot(dynamic_exact['rho'], dynamic_exact['gamma'], label=\"Dynamic\")\n",
    "plot(best_static['rho'], best_static['gamma'], 'C1', label=\"Best static\")\n",
    "plot(uni_static['rho'], uni_static['gamma'], 'C2', label=\"Uniform static\")\n",
    "\n",
    "# simulations - hyperexponentially distributed job sizes\n",
    "plot(dynamic_hyperexp['rho'], dynamic_hyperexp['gamma'], 'C0x', label=\"\")\n",
    "fill_between(dynamic_hyperexp['rho'],\n",
    "             dynamic_hyperexp['gamma'] - dynamic_hyperexp['wgamma'],\n",
    "             dynamic_hyperexp['gamma'] + dynamic_hyperexp['wgamma'], \n",
    "             color='C0', alpha=.4)\n",
    "\n",
    "# references\n",
    "axvline(x=7/10, color='C6', linestyle=':')\n",
    "axvline(x=7/8, color='C6', linestyle=':')\n",
    "axvline(x=1, color='C6', linestyle=':')\n",
    "axvline(x=3/2, color='C6', linestyle=':')\n",
    "axvline(x=7/2, color='C6', linestyle=':')\n",
    "axhline(y = 1 / nb_tokens, color='C4', linestyle=':')\n",
    "\n",
    "xlim(0, 3); ylim(0, 1)\n",
    "legend(loc='best')\n",
    "xlabel(\"Load ρ\"); ylabel(\"Service rate\")\n",
    "title(\"Mean service rate\")\n",
    "show()"
   ]
  },
  {
   "cell_type": "markdown",
   "metadata": {},
   "source": [
    "### Per-computer metrics"
   ]
  },
  {
   "cell_type": "code",
   "execution_count": null,
   "metadata": {
    "hide_input": false
   },
   "outputs": [],
   "source": [
    "# load the external results\n",
    "best_static = pd.read_csv('data/multi-best-static-exact.csv')\n",
    "uni_static = pd.read_csv('data/multi-uni-static-exact.csv')\n",
    "dynamic_exact = pd.read_csv('data/multi-dynamic-exact.csv')"
   ]
  },
  {
   "cell_type": "code",
   "execution_count": null,
   "metadata": {
    "hide_input": true
   },
   "outputs": [],
   "source": [
    "# probability that each computer is idle\n",
    "figure()\n",
    "\n",
    "# dynamic\n",
    "plot(dynamic_exact['rho'], dynamic_exact['etai1'],\n",
    "     'C0', label=\"Left computers\")\n",
    "plot(dynamic_exact['rho'], dynamic_exact['etai4'],\n",
    "     'C1', label=\"Central computers\")\n",
    "plot(dynamic_exact['rho'], dynamic_exact['etai8'],\n",
    "     'C2--', label=\"Right computers\")\n",
    "\n",
    "# references\n",
    "axvline(x=7/10, color='C6', linestyle=':')\n",
    "axvline(x=7/8, color='C6', linestyle=':')\n",
    "axvline(x=1, color='C6', linestyle=':')\n",
    "axvline(x=3/2, color='C6', linestyle=':')\n",
    "axvline(x=7/2, color='C6', linestyle=':')\n",
    "\n",
    "plot(ρρ, (2/3) * ρρ, color='C5', linestyle=':')\n",
    "plot(ρρ, (8/7) * ρρ, color='C5', linestyle=':')\n",
    "\n",
    "xlim(0, 3); ylim(0, 1)\n",
    "legend(loc='best')\n",
    "xlabel(\"Load ρ\"); ylabel(\"Probability\")\n",
    "title(\"Activity probabilities under dynamic\")\n",
    "show()"
   ]
  },
  {
   "cell_type": "code",
   "execution_count": null,
   "metadata": {
    "hide_input": true
   },
   "outputs": [],
   "source": [
    "# probability that each computer is idle\n",
    "figure()\n",
    "\n",
    "# dynamic\n",
    "plot(dynamic_exact['rho'], dynamic_exact['etai1'], 'C0', label=\"Dynamic\")\n",
    "plot(dynamic_exact['rho'], dynamic_exact['etai4'], 'C0', label=\"\")\n",
    "plot(dynamic_exact['rho'], dynamic_exact['etai8'], 'C0', label=\"\")\n",
    "\n",
    "# best static\n",
    "plot(uni_static['rho'], uni_static['etai1'], 'C2', label=\"Uniform static\")\n",
    "plot(uni_static['rho'], uni_static['etai4'], 'C2', label=\"\")\n",
    "plot(uni_static['rho'], uni_static['etai8'], 'C2', label=\"\")\n",
    "\n",
    "# best static\n",
    "plot(best_static['rho'], best_static['etai1'], 'C1--', label=\"Best static\")\n",
    "plot(best_static['rho'], best_static['etai4'], 'C1--', label=\"\")\n",
    "plot(best_static['rho'], best_static['etai8'], 'C1--', label=\"\")\n",
    "\n",
    "# references\n",
    "axvline(x=7/10, color='C6', linestyle=':')\n",
    "axvline(x=7/8, color='C6', linestyle=':')\n",
    "axvline(x=1, color='C6', linestyle=':')\n",
    "axvline(x=3/2, color='C6', linestyle=':')\n",
    "axvline(x=7/2, color='C6', linestyle=':')\n",
    "\n",
    "plot(ρρ, (2/3) * ρρ, color='C5', linestyle=':')\n",
    "plot(ρρ, (8/7) * ρρ, color='C5', linestyle=':')\n",
    "\n",
    "xlim(0, 3); ylim(0, 1)\n",
    "legend(loc='best')\n",
    "xlabel(\"Load ρ\"); ylabel(\"Probability\")\n",
    "title(\"Activity probabilities\")\n",
    "show()"
   ]
  },
  {
   "cell_type": "markdown",
   "metadata": {
    "hide_input": true
   },
   "source": [
    "### Per-type performance and insensitivity"
   ]
  },
  {
   "cell_type": "code",
   "execution_count": null,
   "metadata": {},
   "outputs": [],
   "source": [
    "# load external results\n",
    "dynamic_exact = pd.read_csv('data/multi-dynamic-exact.csv')\n",
    "dynamic_exp = pd.read_csv('data/multi-dynamic-simu-exp.csv')\n",
    "dynamic_hyperexp = pd.read_csv('data/multi-dynamic-simu-hyperexp.csv')"
   ]
  },
  {
   "cell_type": "code",
   "execution_count": null,
   "metadata": {
    "hide_input": true
   },
   "outputs": [],
   "source": [
    "# averate loss probability\n",
    "figure()\n",
    "\n",
    "# exact\n",
    "plot(dynamic_exact['rho'], dynamic_exact['beta'],\n",
    "     'C0', label=\"Average loss probability\")\n",
    "plot(dynamic_exact['rho'], dynamic_exact['betak1'],\n",
    "     'C1', label=\"Loss probability of type-1 jobs\")\n",
    "plot(dynamic_exact['rho'], dynamic_exact['betak2'],\n",
    "     'C2', label=\"Loss probability of type-2 jobs\")\n",
    "\n",
    "# simulations - hyperexponentially distributed job sizes\n",
    "plot(dynamic_hyperexp['rho'], dynamic_hyperexp['beta'], 'C0x', label=\"\")\n",
    "fill_between(dynamic_hyperexp['rho'],\n",
    "             dynamic_hyperexp['beta'] - dynamic_hyperexp['wbeta'],\n",
    "             dynamic_hyperexp['beta'] + dynamic_hyperexp['wbeta'], \n",
    "             color='C0', alpha=.4)\n",
    "plot(dynamic_hyperexp['rho'], dynamic_hyperexp['betak1'], 'C1x', label=\"\")\n",
    "fill_between(dynamic_hyperexp['rho'],\n",
    "             dynamic_hyperexp['betak1'] - dynamic_hyperexp['wbetak1'],\n",
    "             dynamic_hyperexp['betak1'] + dynamic_hyperexp['wbetak1'], \n",
    "             color='C1', alpha=.4)\n",
    "plot(dynamic_hyperexp['rho'], dynamic_hyperexp['betak2'], 'C2x', label=\"\")\n",
    "fill_between(dynamic_hyperexp['rho'],\n",
    "             dynamic_hyperexp['betak2'] - dynamic_hyperexp['wbetak2'],\n",
    "             dynamic_hyperexp['betak2'] + dynamic_hyperexp['wbetak2'], \n",
    "             color='C2', alpha=.4)\n",
    "\n",
    "# references\n",
    "axvline(x=7/10, color='C6', linestyle=':')\n",
    "axvline(x=7/8, color='C6', linestyle=':')\n",
    "axvline(x=1, color='C6', linestyle=':')\n",
    "axvline(x=3/2, color='C6', linestyle=':')\n",
    "axvline(x=7/2, color='C6', linestyle=':')\n",
    "\n",
    "xlim(0, 3); ylim(ymin = 0)\n",
    "legend(loc='best')\n",
    "xlabel(\"Load ρ\"); ylabel(\"Probability\")\n",
    "title(\"Loss probability\")\n",
    "show()"
   ]
  },
  {
   "cell_type": "code",
   "execution_count": null,
   "metadata": {
    "cell_style": "center",
    "hide_input": true
   },
   "outputs": [],
   "source": [
    "# mean number of jobs at each computer\n",
    "figure()\n",
    "\n",
    "# exact\n",
    "plot(dynamic_exact['rho'], dynamic_exact['Li1'],\n",
    "     'C1', label=\"Left computers\")\n",
    "plot(dynamic_exact['rho'], dynamic_exact['Li4'],\n",
    "     'C2', label=\"Central computers\")\n",
    "plot(dynamic_exact['rho'], dynamic_exact['Li7'],\n",
    "     'C3--', label=\"Right computers\")\n",
    "\n",
    "# simulations - hyperexponentially distributed job sizes\n",
    "plot(dynamic_hyperexp['rho'], dynamic_hyperexp['Li1'], 'C1x', label=\"\")\n",
    "fill_between(dynamic_hyperexp['rho'],\n",
    "             dynamic_hyperexp['Li1'] - dynamic_hyperexp['wLi1'],\n",
    "             dynamic_hyperexp['Li1'] + dynamic_hyperexp['wLi1'], \n",
    "             color='C1', alpha=.4)\n",
    "plot(dynamic_hyperexp['rho'], dynamic_hyperexp['Li4'], 'C2*', label=\"\")\n",
    "fill_between(dynamic_hyperexp['rho'],\n",
    "             dynamic_hyperexp['Li4'] - dynamic_hyperexp['wLi4'],\n",
    "             dynamic_hyperexp['Li4'] + dynamic_hyperexp['wLi4'], \n",
    "             color='C2', alpha=.4)\n",
    "plot(dynamic_hyperexp['rho'], dynamic_hyperexp['Li8'], 'C3x', label=\"\")\n",
    "fill_between(dynamic_hyperexp['rho'],\n",
    "             dynamic_hyperexp['Li8'] - dynamic_hyperexp['wLi8'],\n",
    "             dynamic_hyperexp['Li8'] + dynamic_hyperexp['wLi8'], \n",
    "             color='C3', alpha=.4)\n",
    "\n",
    "# references\n",
    "axvline(x=7/10, color='C6', linestyle=':')\n",
    "axvline(x=7/8, color='C6', linestyle=':')\n",
    "axvline(x=1, color='C6', linestyle=':')\n",
    "axvline(x=3/2, color='C6', linestyle=':')\n",
    "axvline(x=7/2, color='C6', linestyle=':')\n",
    "\n",
    "axhline(y = 3 * nb_tokens, color='C4', linestyle=':')\n",
    "axhline(y = 4 * nb_tokens, color='C4', linestyle=':')\n",
    "axhline(y = 10 * nb_tokens, color='C4', linestyle=':')\n",
    "\n",
    "xlim(0, 3); ylim(0, nb_tokens)\n",
    "legend(loc='best')\n",
    "xlabel(\"Load ρ\"); ylabel(\"Number of jobs\")\n",
    "title(\"Expected number of jobs per computer\")\n",
    "show()"
   ]
  },
  {
   "cell_type": "code",
   "execution_count": null,
   "metadata": {
    "cell_style": "center",
    "hide_input": true
   },
   "outputs": [],
   "source": [
    "# mean number of jobs of each type\n",
    "figure()\n",
    "\n",
    "# exact\n",
    "plot(dynamic_exact['rho'], dynamic_exact['L'], 'C0', label=\"Total\")\n",
    "plot(dynamic_exact['rho'], dynamic_exact['Li1'] + dynamic_exact['Li2'] + dynamic_exact['Li3'],\n",
    "     'C3', label=\"Left computers\")\n",
    "plot(dynamic_exact['rho'],\n",
    "      dynamic_exact['Li4'] + dynamic_exact['Li5'] + dynamic_exact['Li6'] + dynamic_exact['Li7']\n",
    "     + dynamic_exact['Li8'] + dynamic_exact['Li9'] + dynamic_exact['Li10'],\n",
    "     'C4', label=\"Central and right computers\")\n",
    "\n",
    "# simulations - exponentially distributed job sizes\n",
    "plot(dynamic_exp['rho'], dynamic_exp['L'], 'C0+', label=\"Total - Exp.\")\n",
    "fill_between(dynamic_exp['rho'],\n",
    "             dynamic_exp['L'] - dynamic_exp['wL'],\n",
    "             dynamic_exp['L'] + dynamic_exp['wL'], \n",
    "             color='C0', alpha=.4)\n",
    "plot(dynamic_exp['rho'], dynamic_exp['Lk1'], 'C1+', label=\"Type 1 - Exp.\")\n",
    "fill_between(dynamic_exp['rho'],\n",
    "             dynamic_exp['Lk1'] - dynamic_exp['wLk1'],\n",
    "             dynamic_exp['Lk1'] + dynamic_exp['wLk1'], \n",
    "             color='C1', alpha=.4)\n",
    "plot(dynamic_exp['rho'], dynamic_exp['Lk2'], 'C2+', label=\"Type 2 - Exp.\")\n",
    "fill_between(dynamic_exp['rho'],\n",
    "             dynamic_exp['Lk2'] - dynamic_exp['wLk2'],\n",
    "             dynamic_exp['Lk2'] + dynamic_exp['wLk2'], \n",
    "             color='C2', alpha=.4)\n",
    "\n",
    "# simulations - hyperexponentially distributed job sizes\n",
    "plot(dynamic_hyperexp['rho'], dynamic_hyperexp['L'], 'C0x', label=\"Total - Hyp.\")\n",
    "fill_between(dynamic_hyperexp['rho'],\n",
    "             dynamic_hyperexp['L'] - dynamic_hyperexp['wL'],\n",
    "             dynamic_hyperexp['L'] + dynamic_hyperexp['wL'], \n",
    "             color='C0', alpha=.4)\n",
    "plot(dynamic_hyperexp['rho'], dynamic_hyperexp['Lk1'], 'C1x', label=\"Type 1 - Hyp.\")\n",
    "fill_between(dynamic_hyperexp['rho'],\n",
    "             dynamic_hyperexp['Lk1'] - dynamic_hyperexp['wLk1'],\n",
    "             dynamic_hyperexp['Lk1'] + dynamic_hyperexp['wLk1'], \n",
    "             color='C1', alpha=.4)\n",
    "plot(dynamic_hyperexp['rho'], dynamic_hyperexp['Lk2'], 'C2x', label=\"Type 2 - Hyp.\")\n",
    "fill_between(dynamic_hyperexp['rho'],\n",
    "             dynamic_hyperexp['Lk2'] - dynamic_hyperexp['wLk2'],\n",
    "             dynamic_hyperexp['Lk2'] + dynamic_hyperexp['wLk2'], \n",
    "             color='C2', alpha=.4)\n",
    "\n",
    "plot(dynamic_hyperexp['rho'], dynamic_hyperexp['Li1']\n",
    "     + dynamic_hyperexp['Li2'] + dynamic_hyperexp['Li3'], 'C3x')\n",
    "plot(dynamic_hyperexp['rho'],\n",
    "     dynamic_hyperexp['Li4'] + dynamic_hyperexp['Li5']\n",
    "     + dynamic_hyperexp['Li6'] + dynamic_hyperexp['Li7']\n",
    "     + dynamic_hyperexp['Li8'] + dynamic_hyperexp['Li9'] + dynamic_hyperexp['Li10'],\n",
    "     'C4x')\n",
    "\n",
    "# reference\n",
    "axvline(x=7/10, color='C6', linestyle=':')\n",
    "axvline(x=7/8, color='C6', linestyle=':')\n",
    "axvline(x=1, color='C6', linestyle=':')\n",
    "axvline(x=3/2, color='C6', linestyle=':')\n",
    "axvline(x=7/2, color='C6', linestyle=':')\n",
    "\n",
    "axhline(y = 3 * nb_tokens, color='C4', linestyle=':')\n",
    "axhline(y = 7 * nb_tokens, color='C4', linestyle=':')\n",
    "axhline(y = 10 * nb_tokens, color='C4', linestyle=':')\n",
    "\n",
    "xlim(0, 3); ylim(0, sum(ℓ))\n",
    "legend(loc=\"center left\", bbox_to_anchor = (1, .5))\n",
    "title(\"Expected number of jobs\")\n",
    "xlabel(\"Load ρ\"); ylabel(\"Number of jobs\")\n",
    "show()"
   ]
  },
  {
   "cell_type": "code",
   "execution_count": null,
   "metadata": {
    "cell_style": "center",
    "hide_input": true
   },
   "outputs": [],
   "source": [
    "# mean service rate\n",
    "figure()\n",
    "\n",
    "# exact\n",
    "plot(dynamic_exact['rho'], dynamic_exact['gamma'], 'C0',\n",
    "     label=\"Overall\")\n",
    "plot(dynamic_exact['rho'], dynamic_exact['gammai1'], 'C1',\n",
    "     label='Left computers')\n",
    "plot(dynamic_exact['rho'], dynamic_exact['gammai4'], 'C2',\n",
    "     label='Central computers')\n",
    "plot(dynamic_exact['rho'], dynamic_exact['gammai8'], 'C3--',\n",
    "     label='Right computers')\n",
    "\n",
    "# simulations - exponentially distributed job sizes\n",
    "plot(dynamic_exp['rho'], dynamic_exp['gammak1'], 'C4+', label=\"Type 1 - Exp.\")\n",
    "fill_between(dynamic_exp['rho'],\n",
    "             dynamic_exp['gammak1'] - dynamic_exp['wgammak1'],\n",
    "             dynamic_exp['gammak1'] + dynamic_exp['wgammak1'], \n",
    "             color='C4', alpha=.4)\n",
    "plot(dynamic_exp['rho'], dynamic_exp['gammak2'], 'C6+', label=\"Type 2 - Exp.\")\n",
    "fill_between(dynamic_exp['rho'],\n",
    "             dynamic_exp['gammak2'] - dynamic_exp['wgammak2'],\n",
    "             dynamic_exp['gammak2'] + dynamic_exp['wgammak2'], \n",
    "             color='C6', alpha=.4)\n",
    "\n",
    "# simulations - hyperexponentially distributed job sizes\n",
    "plot(dynamic_hyperexp['rho'], dynamic_hyperexp['gammak1'], 'C4x', label=\"Type 1 - Hyp.\")\n",
    "fill_between(dynamic_hyperexp['rho'],\n",
    "             dynamic_hyperexp['gammak1'] - dynamic_hyperexp['wgammak1'],\n",
    "             dynamic_hyperexp['gammak1'] + dynamic_hyperexp['wgammak1'], \n",
    "             color='C4', alpha=.4)\n",
    "plot(dynamic_hyperexp['rho'], dynamic_hyperexp['gammak2'], 'C6x', label=\"Type 2 - Hyp.\")\n",
    "fill_between(dynamic_hyperexp['rho'],\n",
    "             dynamic_hyperexp['gammak2'] - dynamic_hyperexp['wgammak2'],\n",
    "             dynamic_hyperexp['gammak2'] + dynamic_hyperexp['wgammak2'], \n",
    "             color='C6', alpha=.4)\n",
    "\n",
    "# references\n",
    "axvline(x=7/10, color='C6', linestyle=':')\n",
    "axvline(x=7/8, color='C6', linestyle=':')\n",
    "axvline(x=1, color='C6', linestyle=':')\n",
    "axvline(x=3/2, color='C6', linestyle=':')\n",
    "axvline(x=7/2, color='C6', linestyle=':')\n",
    "\n",
    "axhline(y = 1 / nb_tokens, color='C4', linestyle=':')\n",
    "\n",
    "plot(ρρ, 1. - (20/21) * ρρ, color='C4', linestyle=':')\n",
    "plot(ρρ, 1. - (5/9) * ρρ, color='C4', linestyle=':')\n",
    "\n",
    "xlim(0, 3); ylim(0, 1)\n",
    "legend(loc=\"center left\", bbox_to_anchor = (1, .5))\n",
    "xlabel(\"Load ρ\"); ylabel(\"Service rate\")\n",
    "title(\"Mean service rate\")\n",
    "show()"
   ]
  },
  {
   "cell_type": "code",
   "execution_count": null,
   "metadata": {
    "hide_input": true
   },
   "outputs": [],
   "source": [
    "# activity probability\n",
    "figure()\n",
    "\n",
    "# exact\n",
    "plot(dynamic_exact['rho'], dynamic_exact['etai1'], 'C0',\n",
    "     label=\"Left computers\")\n",
    "plot(dynamic_exact['rho'], dynamic_exact['etai4'], 'C1',\n",
    "     label=\"Central computers\")\n",
    "plot(dynamic_exact['rho'], dynamic_exact['etai7'], 'C2--',\n",
    "     label=\"Right computers\")\n",
    "\n",
    "# simulations - exponentially distributed job sizes\n",
    "for i, server in enumerate([1, 4, 8]):\n",
    "    plot(dynamic_exp['rho'], dynamic_exp['etai%d' % server], 'C%d+' % i, label=\"\")\n",
    "    fill_between(dynamic_exp['rho'],\n",
    "                 dynamic_exp['etai%d' % server] - dynamic_exp['wetai%d' % server],\n",
    "                 dynamic_exp['etai%d' % server] + dynamic_exp['wetai%d' % server], \n",
    "                 color='C%d' % i, alpha=.2)\n",
    "\n",
    "# simulations - hyperexponentially distributed job sizes\n",
    "for i, server in enumerate([1, 4, 8]):\n",
    "    plot(dynamic_hyperexp['rho'], dynamic_hyperexp['etai%d' % server], 'C%sx' % i, label=\"\")\n",
    "    fill_between(dynamic_hyperexp['rho'],\n",
    "                 dynamic_hyperexp['etai%d' % server] - dynamic_hyperexp['wetai%d' % server],\n",
    "                 dynamic_hyperexp['etai%d' % server] + dynamic_hyperexp['wetai%d' % server], \n",
    "                 color='C%d' % i, alpha=.2)\n",
    "\n",
    "# references\n",
    "axvline(x=7/10, color='C6', linestyle=':')\n",
    "axvline(x=7/8, color='C6', linestyle=':')\n",
    "axvline(x=1, color='C6', linestyle=':')\n",
    "axvline(x=3/2, color='C6', linestyle=':')\n",
    "axvline(x=7/2, color='C6', linestyle=':')\n",
    "\n",
    "plot(ρρ, (2/3) * ρρ, color='C5', linestyle=':')\n",
    "plot(ρρ, (8/7) * ρρ, color='C5', linestyle=':')\n",
    "\n",
    "xlim(0, 3); ylim(0, 1)\n",
    "legend(loc='best')\n",
    "xlabel(\"Load ρ\"); ylabel(\"Probability\")\n",
    "title(\"Activity probabilities under the dynamic load-balancing algorithm\")\n",
    "xlabel(\"Load ρ\"); ylabel(\"Probability\")\n",
    "show()"
   ]
  },
  {
   "cell_type": "markdown",
   "metadata": {},
   "source": [
    "We verify the maximum width of the asymptotic confidence intervals for the metrics that are plotted in the paper:"
   ]
  },
  {
   "cell_type": "code",
   "execution_count": null,
   "metadata": {
    "hide_input": false
   },
   "outputs": [],
   "source": [
    "print('Maximum width of the asymptotic 95% confidence interval '\n",
    "      + 'with the exponential job size distribution:')\n",
    "for variable in ['Lk1', 'Lk2']:\n",
    "    print(variable + ' : %f' % nanmax(dynamic_exp['w' + variable]))"
   ]
  },
  {
   "cell_type": "code",
   "execution_count": null,
   "metadata": {
    "hide_input": false
   },
   "outputs": [],
   "source": [
    "print('Maximum width of the asymptotic 95% confidence interval '\n",
    "      + 'with the hyperexponential job size distribution:')\n",
    "for variable in ['betak1', 'betak2', 'Lk1', 'Lk2']:\n",
    "    print(variable + ' : %f' % nanmax(dynamic_hyperexp['w' + variable]))"
   ]
  },
  {
   "cell_type": "markdown",
   "metadata": {},
   "source": [
    "For the simulation results presented in the manuscript, the values were as follows:"
   ]
  },
  {
   "cell_type": "raw",
   "metadata": {},
   "source": [
    "Maximum width of the asymptotic 95% confidence interval with the exponential job size distribution:\n",
    "Lk1 : 0.001653\n",
    "Lk2 : 0.003051"
   ]
  },
  {
   "cell_type": "raw",
   "metadata": {},
   "source": [
    "Maximum width of the asymptotic 95% confidence interval with the hyperexponential job size distribution:\n",
    "betak1 : 0.000048\n",
    "betak2 : 0.000071\n",
    "Lk1 : 0.001770\n",
    "Lk2 : 0.006367"
   ]
  }
 ],
 "metadata": {
  "language_info": {
   "name": "python",
   "pygments_lexer": "ipython3"
  }
 },
 "nbformat": 4,
 "nbformat_minor": 2
}
