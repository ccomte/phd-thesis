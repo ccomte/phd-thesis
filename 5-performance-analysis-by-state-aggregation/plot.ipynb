{
 "cells": [
  {
   "cell_type": "markdown",
   "metadata": {},
   "source": [
    "# 5. Performance analysis by state aggregation"
   ]
  },
  {
   "cell_type": "markdown",
   "metadata": {},
   "source": [
    "In the file ``bounds.c``, the input parameters are in the following order (all input names are consistent with those of Sections 5.3 and 5.4 in the manuscript):\n",
    "- Precision $\\epsilon$.\n",
    "- Number $S$ of servers.\n",
    "- Number $m$ of customer classes of each type.\n",
    "- Degrees of types 1 and 2, in the array $r$."
   ]
  },
  {
   "cell_type": "markdown",
   "metadata": {
    "heading_collapsed": true
   },
   "source": [
    "## Package imports"
   ]
  },
  {
   "cell_type": "code",
   "execution_count": null,
   "metadata": {
    "hidden": true
   },
   "outputs": [],
   "source": [
    "%pylab inline"
   ]
  },
  {
   "cell_type": "code",
   "execution_count": null,
   "metadata": {
    "hidden": true
   },
   "outputs": [],
   "source": [
    "# uncomment this line if you prefer dynamic matplotlib plots\n",
    "# %matplotlib notebook\n",
    "\n",
    "# change the default figure size\n",
    "pylab.rcParams['figure.figsize'] = (10.0, 6.0)\n",
    "pylab.rcParams['legend.fontsize'] = 12"
   ]
  },
  {
   "cell_type": "code",
   "execution_count": null,
   "metadata": {
    "hidden": true
   },
   "outputs": [],
   "source": [
    "# manipulate dataframes\n",
    "import pandas as pd"
   ]
  },
  {
   "cell_type": "code",
   "execution_count": null,
   "metadata": {
    "hidden": true
   },
   "outputs": [],
   "source": [
    "# folder where the output of compute.sh is stored\n",
    "folder = 'data/'"
   ]
  },
  {
   "cell_type": "markdown",
   "metadata": {
    "heading_collapsed": true
   },
   "source": [
    "## A small example"
   ]
  },
  {
   "cell_type": "markdown",
   "metadata": {
    "hidden": true
   },
   "source": [
    "100 servers, 100 classes of each type, one type with degree 1, another with degree 2."
   ]
  },
  {
   "cell_type": "code",
   "execution_count": null,
   "metadata": {
    "hidden": true
   },
   "outputs": [],
   "source": [
    "# load external results\n",
    "df = lambda epsilon: pd.read_csv(folder + 'bounds-100-100-1-2-1e-%d.csv' % epsilon)\n",
    "\n",
    "epsilon3 = df(3)\n",
    "epsilon4 = df(4)\n",
    "epsilon5 = df(5)\n",
    "epsilon6 = df(6)"
   ]
  },
  {
   "cell_type": "code",
   "execution_count": null,
   "metadata": {
    "code_folding": [],
    "hidden": true
   },
   "outputs": [],
   "source": [
    "# plot the results\n",
    "figure()\n",
    "\n",
    "for k in [1,2]:\n",
    "    fill_between(epsilon3['alpha'], epsilon3['lower%d' % k], epsilon3['upper%d' % k],\n",
    "                 color='C%d' % (k-1), alpha=.3, label='Type %d' % k)\n",
    "    fill_between(epsilon4['alpha'], epsilon4['lower%d' % k], epsilon4['upper%d' % k],\n",
    "                 color='C%d' % (k-1), alpha=.4)\n",
    "    fill_between(epsilon5['alpha'], epsilon5['lower%d' % k], epsilon5['upper%d' % k],\n",
    "                 color='C%d' % (k-1), alpha=.5)\n",
    "    fill_between(epsilon6['alpha'], epsilon6['lower%d' % k], epsilon6['upper%d' % k],\n",
    "                 color='C%d' % (k-1), alpha=.6)\n",
    "\n",
    "xlim(0, 1); ylim(0,2)\n",
    "legend(loc='best')\n",
    "show()"
   ]
  },
  {
   "cell_type": "markdown",
   "metadata": {
    "heading_collapsed": true
   },
   "source": [
    "## An intermediate example"
   ]
  },
  {
   "cell_type": "markdown",
   "metadata": {
    "hidden": true
   },
   "source": [
    "500 servers, 500 classes of each type, one type with degree 1, another with degree 2."
   ]
  },
  {
   "cell_type": "code",
   "execution_count": null,
   "metadata": {
    "code_folding": [],
    "hidden": true
   },
   "outputs": [],
   "source": [
    "# load external results\n",
    "df = lambda epsilon: pd.read_csv(folder + 'bounds-500-500-1-2-1e-%d.csv' % epsilon)\n",
    "\n",
    "epsilon4 = df(4)\n",
    "epsilon5 = df(5)\n",
    "epsilon6 = df(6)\n",
    "epsilon7 = df(7)"
   ]
  },
  {
   "cell_type": "code",
   "execution_count": null,
   "metadata": {
    "hidden": true
   },
   "outputs": [],
   "source": [
    "# plot the results\n",
    "figure()\n",
    "\n",
    "for k in [1,2]:\n",
    "    fill_between(epsilon4['alpha'], epsilon4['lower%d' % k], epsilon4['upper%d' % k],\n",
    "                 color='C%d' % (k-1), alpha=.4, label='Type %d' % k)\n",
    "    fill_between(epsilon5['alpha'], epsilon5['lower%d' % k], epsilon5['upper%d' % k],\n",
    "                 color='C%d' % (k-1), alpha=.5)\n",
    "    fill_between(epsilon6['alpha'], epsilon6['lower%d' % k], epsilon6['upper%d' % k],\n",
    "                 color='C%d' % (k-1), alpha=.6)\n",
    "    fill_between(epsilon7['alpha'], epsilon7['lower%d' % k], epsilon7['upper%d' % k],\n",
    "                 color='C%d' % (k-1), alpha=.7)\n",
    "\n",
    "xlim(0, 1); ylim(0,2)\n",
    "legend(loc='best')\n",
    "show()"
   ]
  },
  {
   "cell_type": "markdown",
   "metadata": {
    "heading_collapsed": true
   },
   "source": [
    "## A large example (presented in Section 5.4 of the manuscript)"
   ]
  },
  {
   "cell_type": "markdown",
   "metadata": {
    "hidden": true
   },
   "source": [
    "10000 servers, 1000 classes of each type, one type with degree 20, another with degree 40."
   ]
  },
  {
   "cell_type": "code",
   "execution_count": null,
   "metadata": {
    "hidden": true
   },
   "outputs": [],
   "source": [
    "# load external results\n",
    "df = lambda epsilon: pd.read_csv(folder + 'bounds-10000-1000-20-40-1e-%d.csv' % epsilon)\n",
    "\n",
    "epsilon4 = df(4)\n",
    "epsilon5 = df(5)\n",
    "epsilon6 = df(6)"
   ]
  },
  {
   "cell_type": "code",
   "execution_count": null,
   "metadata": {
    "code_folding": [],
    "hidden": true
   },
   "outputs": [],
   "source": [
    "# plot the results\n",
    "figure()\n",
    "\n",
    "for k in [1,2]:\n",
    "    fill_between(epsilon4['alpha'], epsilon4['lower%d' % k], epsilon4['upper%d' % k],\n",
    "                 color='C%d' % (k-1), alpha=.4, label='Type %d' % k)\n",
    "    fill_between(epsilon5['alpha'], epsilon5['lower%d' % k], epsilon5['upper%d' % k],\n",
    "                 color='C%d' % (k-1), alpha=.5)\n",
    "    fill_between(epsilon6['alpha'], epsilon6['lower%d' % k], epsilon6['upper%d' % k],\n",
    "                 color='C%d' % (k-1), alpha=.6)\n",
    "\n",
    "xlim(0, 1); ylim(0,40)\n",
    "legend(loc='best')\n",
    "show()"
   ]
  }
 ],
 "metadata": {
  "language_info": {
   "name": "python",
   "pygments_lexer": "ipython3"
  }
 },
 "nbformat": 4,
 "nbformat_minor": 2
}
