{
 "cells": [
  {
   "cell_type": "markdown",
   "metadata": {},
   "source": [
    "# Chapter 9. Extensions\n",
    "\n",
    "Plot the numerical results. Each part corresponds to a section of Chapter 9."
   ]
  },
  {
   "cell_type": "markdown",
   "metadata": {},
   "source": [
    "## Package imports and global variable definitions"
   ]
  },
  {
   "cell_type": "code",
   "execution_count": null,
   "metadata": {},
   "outputs": [],
   "source": [
    "%pylab inline"
   ]
  },
  {
   "cell_type": "code",
   "execution_count": null,
   "metadata": {
    "hide_input": false
   },
   "outputs": [],
   "source": [
    "# uncomment this line if you prefer dynamic matplotlib plots\n",
    "# %matplotlib notebook\n",
    "\n",
    "# change the default figure size\n",
    "pylab.rcParams['figure.figsize'] = (10.0, 6.0)\n",
    "pylab.rcParams['legend.fontsize'] = 12"
   ]
  },
  {
   "cell_type": "code",
   "execution_count": null,
   "metadata": {},
   "outputs": [],
   "source": [
    "# manipulate dataframes\n",
    "import pandas as pd"
   ]
  },
  {
   "cell_type": "code",
   "execution_count": null,
   "metadata": {},
   "outputs": [],
   "source": [
    "# global variables\n",
    "ρρ = linspace(5., 0, 10000, endpoint = False)\n",
    "nb_tokens = 6"
   ]
  },
  {
   "cell_type": "markdown",
   "metadata": {
    "hide_input": true
   },
   "source": [
    "## Combining job scheduling and load balancing"
   ]
  },
  {
   "cell_type": "code",
   "execution_count": null,
   "metadata": {},
   "outputs": [],
   "source": [
    "# parameters\n",
    "I = 10"
   ]
  },
  {
   "cell_type": "code",
   "execution_count": null,
   "metadata": {
    "hide_input": false
   },
   "outputs": [],
   "source": [
    "# load external results\n",
    "dynamic_exact = pd.read_csv('../8-load-balancing/data/single-dynamic-exact.csv')\n",
    "dynamic_exact_3 = pd.read_csv('data/single-dynamic-exact-3.csv')\n",
    "dynamic_exact_4 = pd.read_csv('data/single-dynamic-exact-4.csv')\n",
    "dynamic_exact_5 = pd.read_csv('data/single-dynamic-exact-5.csv')"
   ]
  },
  {
   "cell_type": "code",
   "execution_count": null,
   "metadata": {
    "hide_input": true
   },
   "outputs": [],
   "source": [
    "# average loss and activity probability\n",
    "figure()\n",
    "\n",
    "# dynamic\n",
    "plot(dynamic_exact['rho'], dynamic_exact['beta'], 'C0', label=\"No parallelization\")\n",
    "plot(dynamic_exact['rho'], dynamic_exact['eta'], 'C0', label=\"\")\n",
    "\n",
    "# dynamic with 2 pooled computers\n",
    "plot(dynamic_exact_3['rho'], dynamic_exact_3['beta'],\n",
    "     'C1', label=\"Parallelization over 3 computers\")\n",
    "plot(dynamic_exact_3['rho'], dynamic_exact_3['eta'], 'C1', label=\"\")\n",
    "\n",
    "# dynamic with 2 pooled computers\n",
    "plot(dynamic_exact_4['rho'], dynamic_exact_4['beta'],\n",
    "     'C2', label=\"Parallelization over 4 computers\")\n",
    "plot(dynamic_exact_4['rho'], dynamic_exact_4['eta'], 'C2', label=\"\")\n",
    "\n",
    "# dynamic with 2 pooled computers\n",
    "plot(dynamic_exact_5['rho'], dynamic_exact_5['beta'],\n",
    "     'C5', label=\"Parallelization over 5 computers\")\n",
    "plot(dynamic_exact_5['rho'], dynamic_exact_5['eta'], 'C5', label=\"\")\n",
    "\n",
    "# ideal\n",
    "plot(ρρ, maximum(0, 1. - 1. / ρρ), 'C3--', label=\"Ideal\")\n",
    "plot(ρρ, minimum(1, ρρ), 'C3--')\n",
    "\n",
    "# references\n",
    "axvline(x=2/5, color='C4', linestyle=':')\n",
    "axvline(x=8/5, color='C4', linestyle=':')\n",
    "\n",
    "xlim(0, 3); ylim(0, 1)\n",
    "legend(loc = 'best')\n",
    "xlabel(\"Load ρ\"); ylabel(\"Job and computer metrics\")\n",
    "title(\"Average loss and activity probability\")\n",
    "show()"
   ]
  },
  {
   "cell_type": "code",
   "execution_count": null,
   "metadata": {
    "hide_input": true
   },
   "outputs": [],
   "source": [
    "# average loss and activity probability\n",
    "figure()\n",
    "\n",
    "# dynamic\n",
    "semilogy(dynamic_exact['rho'], dynamic_exact['beta'], 'C0',\n",
    "         label=\"No parallelization\")\n",
    "\n",
    "# dynamic with 3 pooled computers\n",
    "semilogy(dynamic_exact_3['rho'], dynamic_exact_3['beta'], 'C1',\n",
    "         label=\"Parallelization over 3 computers\")\n",
    "\n",
    "# dynamic with 4 pooled computers\n",
    "semilogy(dynamic_exact_4['rho'], dynamic_exact_4['beta'], 'C2',\n",
    "         label=\"Parallelization over 4 computers\")\n",
    "\n",
    "# dynamic with 5 pooled computers\n",
    "semilogy(dynamic_exact_5['rho'], dynamic_exact_5['beta'], 'C5',\n",
    "         label=\"Parallelization over 5 computers\")\n",
    "\n",
    "# ideal\n",
    "semilogy(ρρ, maximum(0, 1. - 1. / ρρ), 'C3--', label=\"Ideal\")\n",
    "\n",
    "# reference\n",
    "axvline(x=2/5, color='C4', linestyle=':')\n",
    "axvline(x=8/5, color='C4', linestyle=':')\n",
    "\n",
    "xlim(0.8, 1.2); ylim(0.001, 1)\n",
    "legend(loc = 'best')\n",
    "xlabel(\"Load ρ\"); ylabel(\"Job and computer metrics\")\n",
    "title(\"Average loss and activity probability (I = \" + str(I) + \")\")\n",
    "show()"
   ]
  },
  {
   "cell_type": "code",
   "execution_count": null,
   "metadata": {
    "hide_input": true
   },
   "outputs": [],
   "source": [
    "# mean number of jobs\n",
    "figure()\n",
    "\n",
    "# exact\n",
    "plot(dynamic_exact['rho'], dynamic_exact['L'],\n",
    "     'C0', label=\"No parallelization\")\n",
    "plot(dynamic_exact_3['rho'], dynamic_exact_3['L'],\n",
    "     'C1', label=\"Parallelization over 3 computers\")\n",
    "plot(dynamic_exact_4['rho'], dynamic_exact_4['L'],\n",
    "     'C2', label=\"Parallelization over 4 computers\")\n",
    "plot(dynamic_exact_5['rho'], dynamic_exact_5['L'],\n",
    "     'C5', label=\"Parallelization over 5 computers\")\n",
    "\n",
    "# reference\n",
    "axvline(x=2/5, color='C4', linestyle=':')\n",
    "axvline(x=8/5, color='C4', linestyle=':')\n",
    "\n",
    "xlim(0, 3); ylim(0, 10*nb_tokens)\n",
    "legend(loc = 'best')\n",
    "title(\"Mean number of jobs\")\n",
    "xlabel(\"Load ρ\"); ylabel(\"Number of jobs\")\n",
    "show()"
   ]
  },
  {
   "cell_type": "code",
   "execution_count": null,
   "metadata": {
    "hide_input": true
   },
   "outputs": [],
   "source": [
    "# mean service rate\n",
    "figure()\n",
    "\n",
    "# exact\n",
    "plot(dynamic_exact['rho'], dynamic_exact['gamma'], 'C0',\n",
    "     label=\"No parallelization\")\n",
    "plot(dynamic_exact_3['rho'], dynamic_exact_3['gamma'], 'C1',\n",
    "     label=\"Parallelization over 3 computers\")\n",
    "plot(dynamic_exact_4['rho'], dynamic_exact_4['gamma'], 'C2',\n",
    "     label=\"Parallelization over 4 computers\")\n",
    "plot(dynamic_exact_5['rho'], dynamic_exact_5['gamma'], 'C5',\n",
    "     label=\"Parallelization over 5 computers\")\n",
    "\n",
    "# reference\n",
    "axvline(x=2/5, color='C4', linestyle=':')\n",
    "axvline(x=8/5, color='C4', linestyle=':')\n",
    "axhline(y=2.5/nb_tokens, color='C4', linestyle=':')\n",
    "\n",
    "xlim(0, 3); ylim(ymin = 0)\n",
    "legend(loc = 'best')\n",
    "xlabel(\"Load ρ\"); ylabel(\"Service rate\")\n",
    "title(\"Mean service rate\")\n",
    "show()"
   ]
  },
  {
   "cell_type": "markdown",
   "metadata": {},
   "source": [
    "## Load balancing with multiple dispatchers"
   ]
  }
 ],
 "metadata": {
  "language_info": {
   "name": "python",
   "pygments_lexer": "ipython3"
  }
 },
 "nbformat": 4,
 "nbformat_minor": 2
}
