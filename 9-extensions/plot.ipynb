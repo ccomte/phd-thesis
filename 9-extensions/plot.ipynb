{
 "cells": [
  {
   "cell_type": "markdown",
   "metadata": {},
   "source": [
    "# Chapter 9. Extensions\n",
    "\n",
    "Plot the numerical results. Each part corresponds to a section of Chapter 9."
   ]
  },
  {
   "cell_type": "markdown",
   "metadata": {},
   "source": [
    "## Package imports and global variable definitions"
   ]
  },
  {
   "cell_type": "code",
   "execution_count": null,
   "metadata": {},
   "outputs": [],
   "source": [
    "%pylab inline"
   ]
  },
  {
   "cell_type": "code",
   "execution_count": null,
   "metadata": {
    "hide_input": false
   },
   "outputs": [],
   "source": [
    "# uncomment this line if you prefer dynamic matplotlib plots\n",
    "# %matplotlib notebook\n",
    "\n",
    "# change the default figure size\n",
    "# pylab.rcParams['figure.figsize'] = (10.0, 6.0)\n",
    "pylab.rcParams['legend.fontsize'] = 12"
   ]
  },
  {
   "cell_type": "code",
   "execution_count": null,
   "metadata": {},
   "outputs": [],
   "source": [
    "# manipulate dataframes\n",
    "import pandas as pd"
   ]
  },
  {
   "cell_type": "code",
   "execution_count": null,
   "metadata": {},
   "outputs": [],
   "source": [
    "# useful in the function dynamic\n",
    "from scipy import special"
   ]
  },
  {
   "cell_type": "code",
   "execution_count": null,
   "metadata": {},
   "outputs": [],
   "source": [
    "# global variables\n",
    "ρρ = linspace(5., 0, 10000, endpoint = False)\n",
    "nb_tokens = 6"
   ]
  },
  {
   "cell_type": "markdown",
   "metadata": {
    "hide_input": true
   },
   "source": [
    "## Combining job scheduling and load balancing"
   ]
  },
  {
   "cell_type": "code",
   "execution_count": null,
   "metadata": {},
   "outputs": [],
   "source": [
    "# parameters\n",
    "I = 10"
   ]
  },
  {
   "cell_type": "code",
   "execution_count": null,
   "metadata": {
    "hide_input": false
   },
   "outputs": [],
   "source": [
    "# load external results\n",
    "dynamic_exact = pd.read_csv('../8-load-balancing/data/single-dynamic-exact.csv')\n",
    "dynamic_exact_3 = pd.read_csv('data/single-dynamic-exact-3.csv')\n",
    "dynamic_exact_4 = pd.read_csv('data/single-dynamic-exact-4.csv')\n",
    "dynamic_exact_5 = pd.read_csv('data/single-dynamic-exact-5.csv')"
   ]
  },
  {
   "cell_type": "code",
   "execution_count": null,
   "metadata": {
    "hide_input": true
   },
   "outputs": [],
   "source": [
    "# average loss and activity probability\n",
    "figure()\n",
    "\n",
    "# dynamic\n",
    "plot(dynamic_exact['rho'], dynamic_exact['beta'], 'C0', label=\"No parallelization\")\n",
    "plot(dynamic_exact['rho'], dynamic_exact['eta'], 'C0', label=\"\")\n",
    "\n",
    "# dynamic with 2 pooled computers\n",
    "plot(dynamic_exact_3['rho'], dynamic_exact_3['beta'],\n",
    "     'C1', label=\"Parallelization over 3 computers\")\n",
    "plot(dynamic_exact_3['rho'], dynamic_exact_3['eta'], 'C1', label=\"\")\n",
    "\n",
    "# dynamic with 2 pooled computers\n",
    "plot(dynamic_exact_4['rho'], dynamic_exact_4['beta'],\n",
    "     'C2', label=\"Parallelization over 4 computers\")\n",
    "plot(dynamic_exact_4['rho'], dynamic_exact_4['eta'], 'C2', label=\"\")\n",
    "\n",
    "# dynamic with 2 pooled computers\n",
    "plot(dynamic_exact_5['rho'], dynamic_exact_5['beta'],\n",
    "     'C5', label=\"Parallelization over 5 computers\")\n",
    "plot(dynamic_exact_5['rho'], dynamic_exact_5['eta'], 'C5', label=\"\")\n",
    "\n",
    "# ideal\n",
    "plot(ρρ, maximum(0, 1. - 1. / ρρ), 'C3--', label=\"Ideal\")\n",
    "plot(ρρ, minimum(1, ρρ), 'C3--')\n",
    "\n",
    "# references\n",
    "axvline(x=2/5, color='C4', linestyle=':')\n",
    "axvline(x=8/5, color='C4', linestyle=':')\n",
    "\n",
    "xlim(0, 3); ylim(0, 1)\n",
    "legend(loc = 'best')\n",
    "xlabel(\"Load ρ\"); ylabel(\"Job and computer metrics\")\n",
    "title(\"Average loss and activity probability\")\n",
    "show()"
   ]
  },
  {
   "cell_type": "code",
   "execution_count": null,
   "metadata": {
    "hide_input": true
   },
   "outputs": [],
   "source": [
    "# average loss and activity probability\n",
    "figure()\n",
    "\n",
    "# dynamic\n",
    "semilogy(dynamic_exact['rho'], dynamic_exact['beta'], 'C0',\n",
    "         label=\"No parallelization\")\n",
    "\n",
    "# dynamic with 3 pooled computers\n",
    "semilogy(dynamic_exact_3['rho'], dynamic_exact_3['beta'], 'C1',\n",
    "         label=\"Parallelization over 3 computers\")\n",
    "\n",
    "# dynamic with 4 pooled computers\n",
    "semilogy(dynamic_exact_4['rho'], dynamic_exact_4['beta'], 'C2',\n",
    "         label=\"Parallelization over 4 computers\")\n",
    "\n",
    "# dynamic with 5 pooled computers\n",
    "semilogy(dynamic_exact_5['rho'], dynamic_exact_5['beta'], 'C5',\n",
    "         label=\"Parallelization over 5 computers\")\n",
    "\n",
    "# ideal\n",
    "semilogy(ρρ, maximum(0, 1. - 1. / ρρ), 'C3--', label=\"Ideal\")\n",
    "\n",
    "# reference\n",
    "axvline(x=2/5, color='C4', linestyle=':')\n",
    "axvline(x=8/5, color='C4', linestyle=':')\n",
    "\n",
    "xlim(0.8, 1.2); ylim(0.001, 1)\n",
    "legend(loc = 'best')\n",
    "xlabel(\"Load ρ\"); ylabel(\"Job and computer metrics\")\n",
    "title(\"Average loss and activity probability (I = \" + str(I) + \")\")\n",
    "show()"
   ]
  },
  {
   "cell_type": "code",
   "execution_count": null,
   "metadata": {
    "hide_input": true
   },
   "outputs": [],
   "source": [
    "# mean number of jobs\n",
    "figure()\n",
    "\n",
    "# exact\n",
    "plot(dynamic_exact['rho'], dynamic_exact['L'],\n",
    "     'C0', label=\"No parallelization\")\n",
    "plot(dynamic_exact_3['rho'], dynamic_exact_3['L'],\n",
    "     'C1', label=\"Parallelization over 3 computers\")\n",
    "plot(dynamic_exact_4['rho'], dynamic_exact_4['L'],\n",
    "     'C2', label=\"Parallelization over 4 computers\")\n",
    "plot(dynamic_exact_5['rho'], dynamic_exact_5['L'],\n",
    "     'C5', label=\"Parallelization over 5 computers\")\n",
    "\n",
    "# reference\n",
    "axvline(x=2/5, color='C4', linestyle=':')\n",
    "axvline(x=8/5, color='C4', linestyle=':')\n",
    "\n",
    "xlim(0, 3); ylim(0, 10*nb_tokens)\n",
    "legend(loc = 'best')\n",
    "title(\"Mean number of jobs\")\n",
    "xlabel(\"Load ρ\"); ylabel(\"Number of jobs\")\n",
    "show()"
   ]
  },
  {
   "cell_type": "code",
   "execution_count": null,
   "metadata": {
    "hide_input": true
   },
   "outputs": [],
   "source": [
    "# mean service rate\n",
    "figure()\n",
    "\n",
    "# exact\n",
    "plot(dynamic_exact['rho'], dynamic_exact['gamma'], 'C0',\n",
    "     label=\"No parallelization\")\n",
    "plot(dynamic_exact_3['rho'], dynamic_exact_3['gamma'], 'C1',\n",
    "     label=\"Parallelization over 3 computers\")\n",
    "plot(dynamic_exact_4['rho'], dynamic_exact_4['gamma'], 'C2',\n",
    "     label=\"Parallelization over 4 computers\")\n",
    "plot(dynamic_exact_5['rho'], dynamic_exact_5['gamma'], 'C5',\n",
    "     label=\"Parallelization over 5 computers\")\n",
    "\n",
    "# reference\n",
    "axvline(x=2/5, color='C4', linestyle=':')\n",
    "axvline(x=8/5, color='C4', linestyle=':')\n",
    "axhline(y=2.5/nb_tokens, color='C4', linestyle=':')\n",
    "\n",
    "xlim(0, 3); ylim(ymin = 0)\n",
    "legend(loc = 'best')\n",
    "xlabel(\"Load ρ\"); ylabel(\"Service rate\")\n",
    "title(\"Mean service rate\")\n",
    "show()"
   ]
  },
  {
   "cell_type": "markdown",
   "metadata": {},
   "source": [
    "## Load balancing with multiple dispatchers"
   ]
  },
  {
   "cell_type": "markdown",
   "metadata": {},
   "source": [
    "All numerical results are for two dispatchers only."
   ]
  },
  {
   "cell_type": "code",
   "execution_count": null,
   "metadata": {},
   "outputs": [],
   "source": [
    "def single_dynamic(l, μ, ν):\n",
    "    # parameters\n",
    "    barℓ = zeros(I, dtype=int)\n",
    "    barℓ[1:] = cumsum(ℓ[:-1])\n",
    "    \n",
    "    # initialization: π_0\n",
    "    π = ones(1, dtype=float64)\n",
    "    \n",
    "    for i in range(I):\n",
    "        # recursion:  derive π_{i+1} from π_i\n",
    "        \n",
    "        # compute p_{i+1}\n",
    "        p = ones(ℓ[i] + 1, dtype=float64)\n",
    "        p[1:] = cumprod(μ[i] / (ν * arange(1, ℓ[i]+1)), dtype=float64)\n",
    "        \n",
    "        # make the outer product of π_i with p_{i+1}\n",
    "        π = outer(π, p[::-1])\n",
    "        \n",
    "        # multiply each coefficient by t! / s!\n",
    "        for s in range(barℓ[i] + 1):\n",
    "            quotient = ones(ℓ[i] + 1, dtype=float64)\n",
    "            quotient[1:] = cumprod(s + arange(1, ℓ[i] + 1), dtype=float64)\n",
    "            π[s] *= quotient[::-1]\n",
    "        \n",
    "        # sum over the (anti)diagonals\n",
    "        π = [trace(π, n) for n in range(ℓ[i], -barℓ[i] - 1, -1)]\n",
    "    \n",
    "    # normalize π\n",
    "    #π /= sum(π)\n",
    "    \n",
    "    return 1. / sum(π)"
   ]
  },
  {
   "cell_type": "markdown",
   "metadata": {
    "heading_collapsed": true
   },
   "source": [
    "### Static routing"
   ]
  },
  {
   "cell_type": "code",
   "execution_count": null,
   "metadata": {
    "hidden": true
   },
   "outputs": [],
   "source": [
    "def static(l, α, β):\n",
    "    maxl = max(l)\n",
    "    cuml = cumsum(l)\n",
    "    \n",
    "    αs = ones(maxl+1, dtype=float64)\n",
    "    αs[1:] = cumprod(α / arange(1, maxl+1))\n",
    "    \n",
    "    βt = ones(maxl+1, dtype=float64)\n",
    "    βt[1:] = cumprod(β / arange(1, maxl+1))\n",
    "    \n",
    "    # i = 0\n",
    "    oldG = outer(α**arange(l[0]+1), β**arange(l[0]+1)) * (tri(l[0]+1)[::-1])\n",
    "    \n",
    "    # i > 0\n",
    "    for i in range(1, len(l)):\n",
    "        G = zeros((cuml[i]+1, cuml[i]+1), dtype=float64)\n",
    "        \n",
    "        for ps in range(cuml[i-1]+1):\n",
    "            for pt in range(cuml[i-1]-ps+1):\n",
    "                prods = float64(1.)\n",
    "                for s in range(ps, ps+l[i]+1):\n",
    "                    prodt = float64(1.)\n",
    "                    for t in range(pt, pt+l[i]-(s-ps)+1):\n",
    "                        G[s,t] += oldG[ps, pt] * αs[s-ps] * βt[t-pt] * prods * prodt\n",
    "                        prodt *= (t+1)\n",
    "                    prods *= (s+1)\n",
    "        \n",
    "        oldG = copy(G)\n",
    "    \n",
    "    return sum(sum(G))"
   ]
  },
  {
   "cell_type": "markdown",
   "metadata": {},
   "source": [
    "### Dynamic routing"
   ]
  },
  {
   "cell_type": "code",
   "execution_count": null,
   "metadata": {},
   "outputs": [],
   "source": [
    "def dynamic(N, l, α, β):\n",
    "    q = l // 2\n",
    "    \n",
    "    αs = ones(q+1, dtype=float64)\n",
    "    αs[1:] = cumprod(α / arange(1, q+1))\n",
    "    \n",
    "    βt = ones(q+1, dtype=float64)\n",
    "    βt[1:] = cumprod(β / arange(1, q+1))\n",
    "    \n",
    "    coeff = ones((q+1,q+1))\n",
    "    for y in range(q+1):\n",
    "        for z in range(q+1):\n",
    "            coeff[y,z] = special.binom(l-y-z, q-y)\n",
    "    \n",
    "    # i = 0\n",
    "    oldG = outer(α**arange(l+1), β**arange(l+1)) * (tri(l+1)[::-1])\n",
    "    oldG = oldG[:q+1,:q+1] * coeff\n",
    "    \n",
    "    # i > 0\n",
    "    for i in range(1, N):\n",
    "        G = zeros((q*(i+1)+1, q*(i+1)+1), dtype=float64)\n",
    "        \n",
    "        for ps in range(q*i+1):\n",
    "            for pt in range(min(q*i, l*i-ps) + 1):\n",
    "                prods = float64(1.)\n",
    "                for s in range(ps, ps + q + 1):\n",
    "                    prodt = float64(1.)\n",
    "                    for t in range(pt, pt + min(q,l-(s-ps)) + 1):\n",
    "                        G[s,t] += oldG[ps, pt] * αs[s-ps] * βt[t-pt] * prods * prodt * coeff[s-ps,t-pt]\n",
    "                        prodt *= (t+1)\n",
    "                    prods *= (s+1)\n",
    "        \n",
    "        oldG = copy(G)\n",
    "    \n",
    "    return sum(sum(G))"
   ]
  },
  {
   "cell_type": "markdown",
   "metadata": {},
   "source": [
    "### Balanced arrivals"
   ]
  },
  {
   "cell_type": "code",
   "execution_count": null,
   "metadata": {},
   "outputs": [],
   "source": [
    "# parameters\n",
    "ρρ = linspace(4,0,50, endpoint = False)\n",
    "N = 10\n",
    "ll = [2,4,6]\n",
    "μ = 1.\n",
    "α1 = .5 # proportion of arrivals at dispatcher 1\n",
    "p1 = .5 # routing probabilities of tokens to dispatcher 1"
   ]
  },
  {
   "cell_type": "code",
   "execution_count": null,
   "metadata": {},
   "outputs": [],
   "source": [
    "jiq_blocking = []\n",
    "for l in ll:\n",
    "    jiq_blocking.append([\n",
    "        (\n",
    "            (1-α1) / single_dynamic(l * ones(N, dtype=int), p1 * μ * ones(N), α1 * N * μ * ρ)\n",
    "            + α1 / single_dynamic(l * ones(N, dtype=int), (1-p1) * μ * ones(N), (1-α1) * N * μ * ρ)\n",
    "        )\n",
    "        / static(l * ones(N, dtype=int), p1 / (α1*N*ρ), (1-p1) / ((1-α1)*N*ρ)) for ρ in ρρ\n",
    "    ])"
   ]
  },
  {
   "cell_type": "code",
   "execution_count": null,
   "metadata": {},
   "outputs": [],
   "source": [
    "baf_blocking = []\n",
    "for l in ll:\n",
    "    baf_blocking.append([\n",
    "        (\n",
    "            (1-α1) * dynamic(N, l, 1. / (α1*N*ρ), 0.)\n",
    "            + α1 * dynamic(N, l, 0., 1. / ((1-α1)*N*ρ))\n",
    "        )\n",
    "        / dynamic(N, l, 1. / (α1*N*ρ), 1. / ((1-α1)*N*ρ))\n",
    "        for ρ in ρρ\n",
    "    ])"
   ]
  },
  {
   "cell_type": "code",
   "execution_count": null,
   "metadata": {},
   "outputs": [],
   "source": [
    "# plot\n",
    "for i,l in enumerate(ll):\n",
    "    plot(ρρ, jiq_blocking[i], label = \"JIQ - ℓ = \" + str(l))\n",
    "\n",
    "for i,l in enumerate(ll):\n",
    "    plot(ρρ, baf_blocking[i], '--', color = 'C'+str(i), label = \"BAF - ℓ = \" + str(l))\n",
    "\n",
    "#for i,l in enumerate(ll):\n",
    "#    ρρρ, exp_blocking \\\n",
    "#    = loadtxt('data/dispatchers' + str(l) + '-balanced-blocking', delimiter='\\t', unpack=True)\n",
    "#    plot(ρρρ, exp_blocking, color = 'C' + str(i), linestyle=\"None\", marker=\"x\", label=\"JIQ - ℓ = \" + str(l))\n",
    "\n",
    "#for i,l in enumerate(ll):\n",
    "#    ρρρ, exp_blocking \\\n",
    "#    = loadtxt('data/baf' + str(l) + '-balanced-blocking', delimiter='\\t', unpack=True)\n",
    "#    plot(ρρρ, exp_blocking, color = 'C' + str(i), linestyle=\"None\", marker=\"+\", label=\"BAF - ℓ = \" + str(l))\n",
    "\n",
    "xlim(0,4); ylim(0,1)\n",
    "legend(loc = 4); title(\"Two dispatchers\")\n",
    "xlabel(\"Load ρ\"); ylabel(\"Probability\")\n",
    "show()"
   ]
  },
  {
   "cell_type": "code",
   "execution_count": null,
   "metadata": {},
   "outputs": [],
   "source": [
    "# save\n",
    "csv = pd.DataFrame({'rho': ρρ})\n",
    "\n",
    "for i,l in enumerate(ll):\n",
    "    csv['jiq' + str(l)] = jiq_blocking[i]\n",
    "    csv['baf' + str(l)] = baf_blocking[i]\n",
    "    \n",
    "fn = \"data/theo-jiq-homo.csv\"\n",
    "csv.to_csv(fn, index = False)"
   ]
  },
  {
   "cell_type": "markdown",
   "metadata": {},
   "source": [
    "### Imbalanced arrivals"
   ]
  },
  {
   "cell_type": "code",
   "execution_count": null,
   "metadata": {},
   "outputs": [],
   "source": [
    "# parameters\n",
    "ρρ = linspace(4,0,50, endpoint = False)\n",
    "N = 10\n",
    "ll = [2,4,6]\n",
    "μ = 1.\n",
    "α1 = .8 # proportion of arrivals at dispatcher 1\n",
    "p1 = .5 # routing probabilities of tokens to dispatcher 1"
   ]
  },
  {
   "cell_type": "code",
   "execution_count": null,
   "metadata": {},
   "outputs": [],
   "source": [
    "jiq_blocking = []\n",
    "for l in ll:\n",
    "    jiq_blocking.append([\n",
    "        (\n",
    "            (1-α1) / single_dynamic(l * ones(N, dtype=int), p1 * μ * ones(N), α1 * N * μ * ρ)\n",
    "            + α1 / single_dynamic(l * ones(N, dtype=int), (1-p1) * μ * ones(N), (1-α1) * N * μ * ρ)\n",
    "        )\n",
    "        / static(l * ones(N, dtype=int), p1 / (α1*N*ρ), (1-p1) / ((1-α1)*N*ρ)) for ρ in ρρ\n",
    "    ])"
   ]
  },
  {
   "cell_type": "code",
   "execution_count": null,
   "metadata": {},
   "outputs": [],
   "source": [
    "baf_blocking = []\n",
    "for l in ll:\n",
    "    baf_blocking.append([\n",
    "        (\n",
    "            (1-α1) * dynamic(N, l, 1. / (α1*N*ρ), 0.)\n",
    "            + α1 * dynamic(N, l, 0., 1. / ((1-α1)*N*ρ))\n",
    "        )\n",
    "        / dynamic(N, l, 1. / (α1*N*ρ), 1. / ((1-α1)*N*ρ))\n",
    "        for ρ in ρρ\n",
    "    ])"
   ]
  },
  {
   "cell_type": "code",
   "execution_count": null,
   "metadata": {},
   "outputs": [],
   "source": [
    "# plot\n",
    "for i,l in enumerate(ll):\n",
    "    plot(ρρ, jiq_blocking[i], label = \"JIQ - ℓ = \" + str(l))\n",
    "\n",
    "for i,l in enumerate(ll):\n",
    "    plot(ρρ, baf_blocking[i], '--', color = 'C'+str(i), label = \"BAF - ℓ = \" + str(l))\n",
    "\n",
    "#for i,l in enumerate(ll):\n",
    "#    ρρρ, exp_blocking \\\n",
    "#    = loadtxt('data/dispatchers' + str(l) + '-imbalanced-blocking', delimiter='\\t', unpack=True)\n",
    "#    plot(ρρρ, exp_blocking, color = 'C' + str(i), linestyle=\"None\", marker=\"x\", label=\"JIQ - ℓ = \" + str(l))\n",
    "\n",
    "#for i,l in enumerate(ll):\n",
    "#    ρρρ, exp_blocking \\\n",
    "#    = loadtxt('data/baf' + str(l) + '-imbalanced-blocking', delimiter='\\t', unpack=True)\n",
    "#    plot(ρρρ, exp_blocking, color = 'C' + str(i), linestyle=\"None\", marker=\"+\", label=\"BAF - ℓ = \" + str(l))\n",
    "\n",
    "xlim(0,4); ylim(0,1)\n",
    "legend(loc = 4); title(\"Two dispatchers\")\n",
    "xlabel(\"Load ρ\"); ylabel(\"Probability\")\n",
    "show()"
   ]
  },
  {
   "cell_type": "code",
   "execution_count": null,
   "metadata": {},
   "outputs": [],
   "source": [
    "# save\n",
    "csv = pd.DataFrame({'rho': ρρ})\n",
    "\n",
    "for i,l in enumerate(ll):\n",
    "    csv['jiq' + str(l)] = jiq_blocking[i]\n",
    "    csv['baf' + str(l)] = baf_blocking[i]\n",
    "    \n",
    "fn = \"data/theo-jiq-hete.csv\"\n",
    "csv.to_csv(fn, index = False)"
   ]
  },
  {
   "cell_type": "markdown",
   "metadata": {},
   "source": [
    "### Imbalanced arrivals with adapted token routing"
   ]
  },
  {
   "cell_type": "code",
   "execution_count": null,
   "metadata": {},
   "outputs": [],
   "source": [
    "# parameters\n",
    "ρρ = linspace(4,0,50, endpoint = False)\n",
    "N = 10\n",
    "ll = [2,4,6]\n",
    "μ = 1.\n",
    "α1 = .8 # proportion of arrivals at dispatcher 1\n",
    "p1 = .8 # routing probabilities of tokens to dispatcher 1"
   ]
  },
  {
   "cell_type": "code",
   "execution_count": null,
   "metadata": {},
   "outputs": [],
   "source": [
    "jiq_blocking = []\n",
    "for l in ll:\n",
    "    jiq_blocking.append([\n",
    "        (\n",
    "            (1-α1) / single_dynamic(l * ones(N, dtype=int), p1 * μ * ones(N), α1 * N * μ * ρ)\n",
    "            + α1 / single_dynamic(l * ones(N, dtype=int), (1-p1) * μ * ones(N), (1-α1) * N * μ * ρ)\n",
    "        )\n",
    "        / static(l * ones(N, dtype=int), p1 / (α1*N*ρ), (1-p1) / ((1-α1)*N*ρ)) for ρ in ρρ\n",
    "    ])"
   ]
  },
  {
   "cell_type": "code",
   "execution_count": null,
   "metadata": {},
   "outputs": [],
   "source": [
    "baf_blocking = []\n",
    "for l in ll:\n",
    "    baf_blocking.append([\n",
    "        (\n",
    "            (1-α1) * dynamic(N, l, 1. / (α1*N*ρ), 0.)\n",
    "            + α1 * dynamic(N, l, 0., 1. / ((1-α1)*N*ρ))\n",
    "        )\n",
    "        / dynamic(N, l, 1. / (α1*N*ρ), 1. / ((1-α1)*N*ρ))\n",
    "        for ρ in ρρ\n",
    "    ])"
   ]
  },
  {
   "cell_type": "code",
   "execution_count": null,
   "metadata": {},
   "outputs": [],
   "source": [
    "# plot\n",
    "for i,l in enumerate(ll):\n",
    "    plot(ρρ, jiq_blocking[i], label = \"JIQ - ℓ = \" + str(l))\n",
    "\n",
    "for i,l in enumerate(ll):\n",
    "    plot(ρρ, baf_blocking[i], '--', color = 'C'+str(i), label = \"BAF - ℓ = \" + str(l))\n",
    "\n",
    "#for i,l in enumerate(ll):\n",
    "#    ρρρ, exp_blocking \\\n",
    "#    = loadtxt('data/dispatchers' + str(l) + '-compensated-blocking', delimiter='\\t', unpack=True)\n",
    "#    plot(ρρρ, exp_blocking, color = 'C' + str(i), linestyle=\"None\", marker=\"x\", label=\"JIQ - ℓ = \" + str(l))\n",
    "\n",
    "#for i,l in enumerate(ll):\n",
    "#    ρρρ, exp_blocking \\\n",
    "#    = loadtxt('data/baf' + str(l) + '-imbalanced-blocking', delimiter='\\t', unpack=True)\n",
    "#    plot(ρρρ, exp_blocking, color = 'C' + str(i), linestyle=\"None\", marker=\"+\", label=\"BAF - ℓ = \" + str(l))\n",
    "\n",
    "xlim(0,2); ylim(0,.6)\n",
    "legend(loc = 4); title(\"Two dispatchers\")\n",
    "xlabel(\"Load ρ\"); ylabel(\"Probability\")\n",
    "show()"
   ]
  },
  {
   "cell_type": "markdown",
   "metadata": {},
   "source": [
    "### Homogeneous"
   ]
  },
  {
   "cell_type": "code",
   "execution_count": null,
   "metadata": {},
   "outputs": [],
   "source": [
    "# parameters\n",
    "ρρ = linspace(4,0,50, endpoint = False)\n",
    "N = 10\n",
    "l = 6\n",
    "μ = 1.\n",
    "α1 = .5 # proportion of arrivals at dispatcher 1"
   ]
  },
  {
   "cell_type": "code",
   "execution_count": null,
   "metadata": {},
   "outputs": [],
   "source": [
    "p1 = .5 # routing probabilities of tokens to dispatcher 1\n",
    "\n",
    "best_static = [ (\n",
    "    (1-α1) / single_dynamic(l * ones(N, dtype=int), p1 * μ * ones(N), α1 * N * μ * ρ)\n",
    "    + α1 / single_dynamic(l * ones(N, dtype=int), (1-p1) * μ * ones(N), (1-α1) * N * μ * ρ)\n",
    ") / static(l * ones(N, dtype=int), p1 / (α1*N*ρ), (1-p1) / ((1-α1)*N*ρ)) for ρ in ρρ ]"
   ]
  },
  {
   "cell_type": "code",
   "execution_count": null,
   "metadata": {},
   "outputs": [],
   "source": [
    "dynamic = [ (\n",
    "    (1-α1) * dynamic(N, l, 1. / (α1*N*ρ), 0.)\n",
    "    + α1 * dynamic(N, l, 0., 1. / ((1-α1)*N*ρ))\n",
    ") / dynamic(N, l, 1. / (α1*N*ρ), 1. / ((1-α1)*N*ρ)) for ρ in ρρ ]"
   ]
  },
  {
   "cell_type": "code",
   "execution_count": null,
   "metadata": {},
   "outputs": [],
   "source": [
    "# plot\n",
    "plot(ρρ, dynamic, color = 'C0', label = \"Dynamic\")\n",
    "plot(ρρ, ρρ * [1. - β for β in dynamic], color = 'C0')\n",
    "plot(ρρ, best_static, '--', color = 'C1', label = \"Best static = uniform_static static\")\n",
    "plot(ρρ, ρρ * [1. - β for β in best_static], color = 'C1')\n",
    "\n",
    "#ρρρ, exp_blocking \\\n",
    "#= loadtxt('data/dispatchers' + str(l) + '-homo-dynamic-blocking', delimiter='\\t', unpack=True)\n",
    "#plot(ρρρ, exp_blocking, color = 'C0', linestyle=\"None\", marker=\"+\", label=\"Dynamic\")\n",
    "\n",
    "#ρρρ, exp_blocking \\\n",
    "#= loadtxt('data/dispatchers' + str(l) + '-homo-static-blocking', delimiter='\\t', unpack=True)\n",
    "#plot(ρρρ, exp_blocking, color = 'C1', linestyle=\"None\", marker=\"x\", label=\"Best static\")\n",
    "\n",
    "xlim(0,2); ylim(0,1)\n",
    "legend(loc = 4); title(\"Two dispatchers\")\n",
    "xlabel(\"Load ρ\"); ylabel(\"Probability\")\n",
    "show()"
   ]
  },
  {
   "cell_type": "markdown",
   "metadata": {},
   "source": [
    "### Heterogeneous"
   ]
  },
  {
   "cell_type": "code",
   "execution_count": null,
   "metadata": {},
   "outputs": [],
   "source": [
    "# parameters\n",
    "ρρ = linspace(4,0,50, endpoint = False)\n",
    "N = 10\n",
    "l = 6\n",
    "μ = 1.\n",
    "α1 = .8 # proportion of arrivals at dispatcher 1"
   ]
  },
  {
   "cell_type": "code",
   "execution_count": null,
   "metadata": {},
   "outputs": [],
   "source": [
    "p1 = .5 # routing probabilities of tokens to dispatcher 1\n",
    "\n",
    "uniform_static_result = [ (\n",
    "    (1-α1) / single_dynamic(l * ones(N, dtype=int), p1 * μ * ones(N), α1 * N * μ * ρ)\n",
    "    + α1 / single_dynamic(l * ones(N, dtype=int), (1-p1) * μ * ones(N), (1-α1) * N * μ * ρ)\n",
    ") / static(l * ones(N, dtype=int), p1 / (α1*N*ρ), (1-p1) / ((1-α1)*N*ρ)) for ρ in ρρ ]"
   ]
  },
  {
   "cell_type": "code",
   "execution_count": null,
   "metadata": {},
   "outputs": [],
   "source": [
    "p1 = .8 # routing probabilities of tokens to dispatcher 1\n",
    "\n",
    "best_static_result = [ (\n",
    "    (1-α1) / single_dynamic(l * ones(N, dtype=int), p1 * μ * ones(N), α1 * N * μ * ρ)\n",
    "    + α1 / single_dynamic(l * ones(N, dtype=int), (1-p1) * μ * ones(N), (1-α1) * N * μ * ρ)\n",
    ") / static(l * ones(N, dtype=int), p1 / (α1*N*ρ), (1-p1) / ((1-α1)*N*ρ)) for ρ in ρρ ]"
   ]
  },
  {
   "cell_type": "code",
   "execution_count": null,
   "metadata": {},
   "outputs": [],
   "source": [
    "dynamic_result = [ (\n",
    "    (1-α1) * dynamic(N, l, 1. / (α1*N*ρ), 0.)\n",
    "    + α1 * dynamic(N, l, 0., 1. / ((1-α1)*N*ρ))\n",
    ") / dynamic(N, l, 1. / (α1*N*ρ), 1. / ((1-α1)*N*ρ)) for ρ in ρρ ]"
   ]
  },
  {
   "cell_type": "code",
   "execution_count": null,
   "metadata": {},
   "outputs": [],
   "source": [
    "# plot\n",
    "plot(ρρ, dynamic_result, color = 'C0', label = \"Dynamic\")\n",
    "plot(ρρ, ρρ * [1. - β for β in dynamic_result], color = 'C0')\n",
    "plot(ρρ, best_static_result, '--', color = 'C1', label = \"Best static\")\n",
    "plot(ρρ, ρρ * [1. - β for β in best_static_result], color = 'C1')\n",
    "plot(ρρ, uniform_static_result, '-.', color = 'C2', label = 'uniform_static static')\n",
    "plot(ρρ, ρρ * [1. - β for β in uniform_static_result], color = 'C2')\n",
    "\n",
    "#ρρρ, exp_blocking \\\n",
    "#= loadtxt('data/dispatchers' + str(l) + '-hete-dynamic-blocking', delimiter='\\t', unpack=True)\n",
    "#plot(ρρρ, exp_blocking, color = 'C0', linestyle=\"None\", marker=\"x\", label=\"Dynamic\")\n",
    "\n",
    "#ρρρ, exp_blocking \\\n",
    "#= loadtxt('data/dispatchers' + str(l) + '-hete-best_static-blocking', delimiter='\\t', unpack=True)\n",
    "#plot(ρρρ, exp_blocking, color = 'C1', linestyle=\"None\", marker=\"+\", label=\"Best static\")\n",
    "\n",
    "#ρρρ, exp_blocking \\\n",
    "#= loadtxt('data/dispatchers' + str(l) + '-hete-uniform_static-blocking', delimiter='\\t', unpack=True)\n",
    "#plot(ρρρ, exp_blocking, color = 'C2', linestyle=\"None\", marker=\"x\", label=\"uniform_static static\")\n",
    "\n",
    "xlim(0,4); ylim(0,1)\n",
    "legend(loc = 4); title(\"Two dispatchers\")\n",
    "xlabel(\"Load ρ\"); ylabel(\"Probability\")\n",
    "show()"
   ]
  },
  {
   "cell_type": "code",
   "execution_count": null,
   "metadata": {},
   "outputs": [],
   "source": [
    "# save\n",
    "csv = pd.DataFrame({'rho': ρρ,\n",
    "                    'db': dynamic_result,\n",
    "                    'do': ρρ * [1. - β for β in dynamic_result],\n",
    "                    'ob': best_static_result,\n",
    "                    'oo': ρρ * [1. - β for β in best_static_result],\n",
    "                    'ub': uniform_static_result,\n",
    "                    'uo': ρρ * [1. - β for β in uniform_static_result]\n",
    "                    })\n",
    "\n",
    "fn = \"data/theo-jiq-comp.csv\"\n",
    "csv.to_csv(fn, index = False)"
   ]
  }
 ],
 "metadata": {
  "language_info": {
   "name": "python",
   "pygments_lexer": "ipython3"
  }
 },
 "nbformat": 4,
 "nbformat_minor": 2
}
